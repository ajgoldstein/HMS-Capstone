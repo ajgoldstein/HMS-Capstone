{
 "cells": [
  {
   "cell_type": "markdown",
   "metadata": {},
   "source": [
    "# HMS Capstone - Exploratory Analysis 1\n",
    "## By: AJ Goldstein (https://github.com/ajva1996)"
   ]
  },
  {
   "cell_type": "markdown",
   "metadata": {},
   "source": [
    "### <span style=\"color:red\">Analysis Goals: </span>\n",
    "### 1) Investigate the <span style=\"color:red\">distribution of demographics </span>(e.g. age, race, gender, religion, etc.) across the sample.\n",
    "### 2) Investigate the <span style=\"color:red\">distribution of psychological inflexibility</span> (e.g. AAQ-II scores) across the sample.\n",
    "### 3) Investigate the <span style=\"color:red\">pairwise relationship</span> between demographics and psychological inflexibility."
   ]
  },
  {
   "cell_type": "code",
   "execution_count": 1,
   "metadata": {
    "collapsed": true
   },
   "outputs": [],
   "source": [
    "from __future__ import division\n",
    "import pandas as pd\n",
    "import numpy as np\n",
    "import matplotlib.pyplot as plt\n",
    "import seaborn as sns\n",
    "sns.set(style=\"darkgrid\")\n",
    "import warnings\n",
    "warnings.filterwarnings('ignore')\n",
    "%matplotlib inline"
   ]
  },
  {
   "cell_type": "markdown",
   "metadata": {},
   "source": [
    "## STEP #0: Carry forward data from previous notebook"
   ]
  },
  {
   "cell_type": "code",
   "execution_count": 2,
   "metadata": {},
   "outputs": [
    {
     "name": "stdout",
     "output_type": "stream",
     "text": [
      "no stored variable HMS\n"
     ]
    }
   ],
   "source": [
    "# cleaned dataset\n",
    "%store -r HMS\n",
    "\n",
    "# separated modules\n",
    "%store -r HMS_ids\n",
    "%store -r HMS_demo\n",
    "%store -r HMS_mhstatus\n",
    "%store -r HMS_mhhelp\n",
    "%store -r HMS_aaq\n",
    "\n",
    "# tidy variable groups\n",
    "%store -r tidy_race\n",
    "%store -r tidy_religion\n",
    "%store -r tidy_degreeType\n",
    "%store -r tidy_fieldOfStudy\n",
    "%store -r tidy_activity\n",
    "%store -r tidy_age\n",
    "%store -r tidy_gender\n",
    "%store -r tidy_relig"
   ]
  },
  {
   "cell_type": "markdown",
   "metadata": {},
   "source": [
    "## STEP #1: Sample Demographics"
   ]
  },
  {
   "cell_type": "markdown",
   "metadata": {},
   "source": [
    "### 0) Create function for graph percentages"
   ]
  },
  {
   "cell_type": "code",
   "execution_count": 3,
   "metadata": {
    "collapsed": true
   },
   "outputs": [],
   "source": [
    "def add_percentages(ax):\n",
    "    for p in ax.patches:\n",
    "        height = p.get_height()\n",
    "        ax.text(p.get_x()+p.get_width()/2.,\n",
    "                height + 3,\n",
    "                '{:1.0%}'.format(height/len(HMS.age)),\n",
    "                ha=\"center\")\n",
    "    return ax"
   ]
  },
  {
   "cell_type": "markdown",
   "metadata": {},
   "source": [
    "### 1) What's the distribution of <span style=\"color:red\">AGE</span> in respondents?"
   ]
  },
  {
   "cell_type": "code",
   "execution_count": 4,
   "metadata": {},
   "outputs": [
    {
     "ename": "NameError",
     "evalue": "name 'HMS' is not defined",
     "output_type": "error",
     "traceback": [
      "\u001b[0;31m---------------------------------------------------------------------------\u001b[0m",
      "\u001b[0;31mNameError\u001b[0m                                 Traceback (most recent call last)",
      "\u001b[0;32m<ipython-input-4-fdfaf792f48e>\u001b[0m in \u001b[0;36m<module>\u001b[0;34m()\u001b[0m\n\u001b[1;32m      3\u001b[0m              \u001b[0;36m23\u001b[0m\u001b[0;34m:\u001b[0m\u001b[0;34m'23-25'\u001b[0m\u001b[0;34m,\u001b[0m \u001b[0;36m24\u001b[0m\u001b[0;34m:\u001b[0m\u001b[0;34m'23-25'\u001b[0m\u001b[0;34m,\u001b[0m \u001b[0;36m25\u001b[0m\u001b[0;34m:\u001b[0m\u001b[0;34m'23-25'\u001b[0m\u001b[0;34m,\u001b[0m\u001b[0;34m\u001b[0m\u001b[0m\n\u001b[1;32m      4\u001b[0m              26:'26-30', 27:'26-30', 28:'26-30', 29:'26-30'}\n\u001b[0;32m----> 5\u001b[0;31m \u001b[0mageSeries\u001b[0m \u001b[0;34m=\u001b[0m \u001b[0mHMS\u001b[0m\u001b[0;34m.\u001b[0m\u001b[0mage\u001b[0m\u001b[0;34m.\u001b[0m\u001b[0mreplace\u001b[0m\u001b[0;34m(\u001b[0m\u001b[0mageNames\u001b[0m\u001b[0;34m,\u001b[0m \u001b[0mregex\u001b[0m\u001b[0;34m=\u001b[0m\u001b[0mTrue\u001b[0m\u001b[0;34m)\u001b[0m\u001b[0;34m\u001b[0m\u001b[0m\n\u001b[0m\u001b[1;32m      6\u001b[0m \u001b[0mtidy_age\u001b[0m\u001b[0;34m.\u001b[0m\u001b[0mage\u001b[0m \u001b[0;34m=\u001b[0m \u001b[0mageSeries\u001b[0m\u001b[0;34m\u001b[0m\u001b[0m\n",
      "\u001b[0;31mNameError\u001b[0m: name 'HMS' is not defined"
     ]
    }
   ],
   "source": [
    "# break respondents into age groups\n",
    "ageNames = {18:'18', 19:'19', 20:'20', 21:'21', 22:'22',\n",
    "             23:'23-25', 24:'23-25', 25:'23-25',\n",
    "             26:'26-30', 27:'26-30', 28:'26-30', 29:'26-30'}\n",
    "ageSeries = HMS.age.replace(ageNames, regex=True)\n",
    "tidy_age.age = ageSeries"
   ]
  },
  {
   "cell_type": "code",
   "execution_count": null,
   "metadata": {
    "collapsed": true,
    "scrolled": true
   },
   "outputs": [],
   "source": [
    "# barplot of age distribution (w/ percentages)\n",
    "add_percentages(sns.countplot(x = ageSeries, order = ['18','19','20','21','22','23-25','26-30']))\n",
    "plt.title('Age (years)');"
   ]
  },
  {
   "cell_type": "markdown",
   "metadata": {},
   "source": [
    "### 2) What's the distribution of <span style=\"color:red\">RACE</span> in respondents?"
   ]
  },
  {
   "cell_type": "code",
   "execution_count": null,
   "metadata": {
    "collapsed": true
   },
   "outputs": [],
   "source": [
    "# simplify race names for readability\n",
    "raceNames = {'race_white':'WHITE', 'race_black':'BLACK', 'race_his_temp':'LATINO', 'race_asian':'ASIAN',\n",
    "             'race_ainaan':'AMERIN', 'race_mides':'ARAB', 'race_pi':'PACIF', 'race_other':'OTHER' }\n",
    "raceSeries = tidy_race.race.replace(raceNames, regex=True)\n",
    "tidy_race.race = raceSeries"
   ]
  },
  {
   "cell_type": "code",
   "execution_count": null,
   "metadata": {
    "collapsed": true,
    "scrolled": true
   },
   "outputs": [],
   "source": [
    "# barplot of race distribution (w/ percentages)\n",
    "add_percentages(sns.countplot(x = raceSeries, order = ['WHITE','ASIAN','LATINO','BLACK',\n",
    "                                                                    'ARAB','AMERIN','PACIF','OTHER']))\n",
    "plt.title('Race / Ethnicity');\n"
   ]
  },
  {
   "cell_type": "markdown",
   "metadata": {},
   "source": [
    "### 3) What's the distribution of <span style=\"color:red\">GENDER</span> in respondents?"
   ]
  },
  {
   "cell_type": "code",
   "execution_count": null,
   "metadata": {
    "collapsed": true
   },
   "outputs": [],
   "source": [
    "# simplify gender names for readability\n",
    "genderNames = {1:'Male', 2:'Female', 3:'Other', 4:'Other', 5:'Other', 6:'Other'}\n",
    "genderSeries = HMS_demo.gender.replace(genderNames, regex=True)\n",
    "tidy_gender.gender = genderSeries"
   ]
  },
  {
   "cell_type": "code",
   "execution_count": null,
   "metadata": {
    "collapsed": true
   },
   "outputs": [],
   "source": [
    "# pie chart of gender distribution\n",
    "labels = list(genderSeries.value_counts().index)\n",
    "sizes = list(genderSeries.value_counts().values)\n",
    "colors = ['lightcoral', 'lightskyblue', 'yellowgreen']\n",
    "explode = (0.1, 0, 0)  # explode female\n",
    " \n",
    "plt.pie(sizes, explode=explode, labels=labels, colors=colors,\n",
    "        autopct='%1.1f%%', startangle=20, shadow=True)\n",
    " \n",
    "plt.axis('equal')\n",
    "plt.title('Gender')\n",
    "plt.show()"
   ]
  },
  {
   "cell_type": "markdown",
   "metadata": {},
   "source": [
    "### 4) What's the distribution of <span style=\"color:red\">RELIGIOUSNESS</span> in respondents?"
   ]
  },
  {
   "cell_type": "code",
   "execution_count": null,
   "metadata": {
    "collapsed": true
   },
   "outputs": [],
   "source": [
    "# simplify religious levels for readability\n",
    "religNames = {1:'Very Important', 2:'Important', 3:'Neutral', 4:'Unimportant', 5:'Very Unimportant'}\n",
    "religSeries = HMS_demo.religios.replace(religNames, regex=True)\n",
    "tidy_relig.religios = religSeries"
   ]
  },
  {
   "cell_type": "code",
   "execution_count": null,
   "metadata": {
    "collapsed": true
   },
   "outputs": [],
   "source": [
    "# barplot of Religiousness distribution (w/ percentages)\n",
    "add_percentages(sns.countplot(x=religSeries, order = ['Very Important', 'Important', 'Neutral', 'Unimportant', 'Very Unimportant']))\n",
    "plt.title('Religiousness');"
   ]
  },
  {
   "cell_type": "markdown",
   "metadata": {},
   "source": [
    "### 5) What's the distribution of <span style=\"color:red\">RELIGION</span> in respondents?"
   ]
  },
  {
   "cell_type": "code",
   "execution_count": null,
   "metadata": {
    "collapsed": true
   },
   "outputs": [],
   "source": [
    "# simplify religion names for readability\n",
    "religionNames_keys = [col for col in HMS_demo.columns if ('relig_aff' in col) & ('text' not in col)]\n",
    "religionNames_values = ['Agnostic', 'Atheist', 'Buddhist', 'Catholic',\n",
    "                  'Christian', 'Hindu', 'Jewish', 'Muslim', 'No Pref', 'Other']\n",
    "religionNames = dict(zip(religionNames_keys,religionNames_values))\n",
    "\n",
    "religionSeries = tidy_religion.religion.replace(religionNames, regex=True)\n",
    "tidy_religion.religion = religionSeries"
   ]
  },
  {
   "cell_type": "code",
   "execution_count": null,
   "metadata": {
    "collapsed": true
   },
   "outputs": [],
   "source": [
    "# barplot of religiosity distribution (w/ percentages)\n",
    "ax = add_percentages(sns.countplot(x=religionSeries));\n",
    "ax.set_xticklabels(religionNames_values, rotation=30);\n",
    "plt.title('Religion');"
   ]
  },
  {
   "cell_type": "markdown",
   "metadata": {},
   "source": [
    "### 6) What's the distribution of <span style=\"color:red\">DEGREE TYPE</span> in respondents?"
   ]
  },
  {
   "cell_type": "code",
   "execution_count": null,
   "metadata": {
    "collapsed": true
   },
   "outputs": [],
   "source": [
    "# simplify degree names for readability\n",
    "degreeNames_keys = [col for col in HMS_demo.columns if ('degree' in col) & ('text' not in col)]\n",
    "degreeNames_values = ['Associates', 'Bachelors', 'Masters', 'JD', 'MD', 'PhD', 'Other', 'Non-Degree']\n",
    "degreeNames = dict(zip(degreeNames_keys,degreeNames_values))\n",
    "\n",
    "degreeSeries = tidy_degreeType.degreeType.replace(degreeNames, regex=True)\n",
    "tidy_degreeType.degreeType = degreeSeries"
   ]
  },
  {
   "cell_type": "code",
   "execution_count": null,
   "metadata": {
    "collapsed": true,
    "scrolled": true
   },
   "outputs": [],
   "source": [
    "# barplot of degree type distribution (w/ percentages)\n",
    "ax = add_percentages(sns.countplot(x=degreeSeries))\n",
    "plt.title('Degree Program')\n",
    "ax.set_xticklabels(degreeNames_values, rotation=30);"
   ]
  },
  {
   "cell_type": "markdown",
   "metadata": {},
   "source": [
    "### 7) What's the distribution of <span style=\"color:red\">FIELD OF STUDY</span> in respondents?"
   ]
  },
  {
   "cell_type": "code",
   "execution_count": null,
   "metadata": {
    "collapsed": true
   },
   "outputs": [],
   "source": [
    "# simplify field of study names for readability\n",
    "fieldNames_keys = [col for col in HMS_demo.columns if ('field' in col) & ('text' not in col)]\n",
    "fieldNames_values = ['HUM', 'NAT', 'SOC', 'ARC', 'ART', 'BUS','DEN','ED','ENG','LAW',\n",
    "                     'MED','MUS','NUR','PHARM','PREP','PH','PP','SW','UND','OTHER']\n",
    "fieldNames = dict(zip(fieldNames_keys, fieldNames_values))\n",
    "\n",
    "fieldSeries = tidy_fieldOfStudy.fieldOfStudy.replace(fieldNames, regex=True)\n",
    "tidy_fieldOfStudy.fieldOfStudy = fieldSeries"
   ]
  },
  {
   "cell_type": "code",
   "execution_count": null,
   "metadata": {
    "collapsed": true,
    "scrolled": true
   },
   "outputs": [],
   "source": [
    "# barplot of field of study distribution (w/ percentages)\n",
    "ax = add_percentages(sns.countplot(x=fieldSeries))\n",
    "plt.title('Field of Study')\n",
    "ax.set_xticklabels(fieldNames_values, rotation=40);"
   ]
  },
  {
   "cell_type": "markdown",
   "metadata": {},
   "source": [
    "### 8) What's the distribution of <span style=\"color:red\">EXTRACURRICULAR ACTIVITIES</span> in respondents?"
   ]
  },
  {
   "cell_type": "code",
   "execution_count": null,
   "metadata": {
    "collapsed": true
   },
   "outputs": [],
   "source": [
    "# simplify extracurricular names for readability\n",
    "activityNames_keys = [col for col in HMS_demo.columns if ('activ' in col) & ('text' not in col)]\n",
    "activityNames_values = ['ACAD', 'ATH_C', 'ATH_V', 'ATH_I', 'COM', 'CUL','DANCE','GREEK','SEX','GOV',\n",
    "                         'HEALTH','MEDIA','MUSIC', 'RELIG','SOCIAL','ART','OTHER','NONE']\n",
    "activityNames = dict(zip(activityNames_keys, activityNames_values))\n",
    "\n",
    "activitySeries = tidy_activity.activity.replace(activityNames, regex=True)\n",
    "tidy_activity.activity = activitySeries"
   ]
  },
  {
   "cell_type": "code",
   "execution_count": null,
   "metadata": {
    "collapsed": true
   },
   "outputs": [],
   "source": [
    "# barplot of extracurricular distribution (w/ percentages)\n",
    "ax = add_percentages(sns.countplot(x=activitySeries))\n",
    "plt.title('Extracurricular Activities')\n",
    "ax.set_xticklabels(activityNames_values, rotation=40);"
   ]
  },
  {
   "cell_type": "markdown",
   "metadata": {},
   "source": [
    "## STEP #2: Psychological Inflexibility (AAQ-II)"
   ]
  },
  {
   "cell_type": "markdown",
   "metadata": {},
   "source": [
    "### <span style=\"color:red\">0) A brief overview of the AAQ-II statistic </span>"
   ]
  },
  {
   "cell_type": "markdown",
   "metadata": {},
   "source": [
    "### 0.1) AAQ-II Questionnaire:"
   ]
  },
  {
   "cell_type": "markdown",
   "metadata": {},
   "source": [
    "<img src=\"images/AAQ_Questions.png\" alt=\"Drawing\" style=\"width: 600px;\" align= \"left\">"
   ]
  },
  {
   "cell_type": "markdown",
   "metadata": {},
   "source": [
    "### 0.2) Notes on the AAQ-II statistic\n",
    "<li> <span style=\"color:red\"> High AAQ-II = bad, low AAQ-II = good </span>\n",
    "<li> <span style=\"color:red\">AAQ-II measures \"psychological inflexibility\" </span>, defined by the ACBS (http://bit.ly/1WB8wRR) as:\n",
    "     - \"the ability to fully contact the present moment and the thoughts & feelings it contains without needless defense, affords, persisting, or changing behavior in the pursuit of goals and values\"\n",
    "    \n",
    "<li> Psychological flexibility is <span style=\"color:red\">the \"bedrock\" skill of acceptance-commitment-therapy (ACT)</span> (http://bit.ly/2zFUAnK).\n",
    "     - ACT is an evidence supported intervention for everything from severe mental illness to leadership and organizational wellbeing."
   ]
  },
  {
   "cell_type": "markdown",
   "metadata": {},
   "source": [
    "### 0.3) Accumulating AAQ-II research has shown that..."
   ]
  },
  {
   "cell_type": "markdown",
   "metadata": {},
   "source": [
    "- AAQ-II has proven to be <span style=\"color:red\"> an accurate measure of psychological flexibility (PF)</span>, with a Cronbach’s alpha of 0.84\n",
    "    - source: http://bit.ly/2iXF7VH\n",
    "- Psychological flexibility (PF) is <span style=\"color:red\">positively associated with psychological well-being</span>\n",
    "    - source: http://bit.ly/2A27fSn\n",
    "- There is consistently a <span style=\"color:red\"> strong relationship between mindfulness and PF </span>. Both separately and independently account for unique variance in general and specific forms of distress (including depression and anxiety).\n",
    "    - source: http://bit.ly/2ikJQRP"
   ]
  },
  {
   "cell_type": "markdown",
   "metadata": {},
   "source": [
    "### 0.4) Table of AAQ-II correlations"
   ]
  },
  {
   "cell_type": "markdown",
   "metadata": {},
   "source": [
    "#### <span style=\"color:red\"> Summary: AAQ-II has shown to be highly correlated with higher levels of depression, anxiety, stress, and overall psychological distress</span>\n",
    "- research source: https://www.sciencedirect.com/science/article/pii/S0005789411000888"
   ]
  },
  {
   "cell_type": "markdown",
   "metadata": {},
   "source": [
    "<img src=\"images/AAQ-II_Correlations_small.png\" alt=\"Drawing\" style=\"width: 400px;\" align= \"left\">"
   ]
  },
  {
   "cell_type": "markdown",
   "metadata": {},
   "source": [
    "### 1) AAQ individual questions"
   ]
  },
  {
   "cell_type": "code",
   "execution_count": null,
   "metadata": {
    "collapsed": true,
    "scrolled": true
   },
   "outputs": [],
   "source": [
    "# create boxplots to visualize distributions\n",
    "sns.boxplot(data=HMS_aaq.drop(['AAQ_total'], axis=1), orient=\"h\");\n",
    "plt.title('AAQ Individual Question Scores');"
   ]
  },
  {
   "cell_type": "code",
   "execution_count": null,
   "metadata": {
    "collapsed": true,
    "scrolled": true
   },
   "outputs": [],
   "source": [
    "# generate summary statistics for each question\n",
    "HMS_aaq.drop(['AAQ_total'], axis=1).describe();"
   ]
  },
  {
   "cell_type": "code",
   "execution_count": null,
   "metadata": {
    "collapsed": true,
    "scrolled": false
   },
   "outputs": [],
   "source": [
    "# investigate correlation of individual questions\n",
    "HMS_aaq.drop(['AAQ_total'], axis=1).corr();"
   ]
  },
  {
   "cell_type": "markdown",
   "metadata": {},
   "source": [
    "#### NOTE: Questions 1/4 & 3/7 have very similar wording (i.e. 'painful memories', 'worries'), hence the correlation"
   ]
  },
  {
   "cell_type": "markdown",
   "metadata": {},
   "source": [
    "### 2) AAQ total score"
   ]
  },
  {
   "cell_type": "code",
   "execution_count": null,
   "metadata": {
    "collapsed": true,
    "scrolled": true
   },
   "outputs": [],
   "source": [
    "sns.distplot((HMS_aaq.AAQ_total).dropna());\n",
    "plt.title('AAQ Total Scores');"
   ]
  },
  {
   "cell_type": "code",
   "execution_count": null,
   "metadata": {
    "collapsed": true,
    "scrolled": true
   },
   "outputs": [],
   "source": [
    "print('AAQ_Total Value Counts:')\n",
    "HMS_aaq.AAQ_total.value_counts().head(5)"
   ]
  },
  {
   "cell_type": "markdown",
   "metadata": {},
   "source": [
    "## STEP #3: Pairwise - Demographics & Psych Inflexibility"
   ]
  },
  {
   "cell_type": "markdown",
   "metadata": {},
   "source": [
    "### 1) Age vs. AAQ"
   ]
  },
  {
   "cell_type": "code",
   "execution_count": null,
   "metadata": {
    "collapsed": true
   },
   "outputs": [],
   "source": [
    "# create side-by-side boxplots for every age group\n",
    "ageLabels = ['18','19','20','21','22','23-25','26-30']\n",
    "ax = sns.boxplot(y='age', x='AAQ_total', data = tidy_age, order = ageLabels, orient = 'h');\n",
    "ax.set_yticklabels(ageLabels);\n",
    "plt.title('Age vs. AAQ');"
   ]
  },
  {
   "cell_type": "markdown",
   "metadata": {},
   "source": [
    "#### <span style=\"color:red\">NOTE: it appears that as age goes up, AAQ goes down</span>"
   ]
  },
  {
   "cell_type": "markdown",
   "metadata": {},
   "source": [
    "### 2) Race vs. AAQ"
   ]
  },
  {
   "cell_type": "code",
   "execution_count": null,
   "metadata": {
    "collapsed": true
   },
   "outputs": [],
   "source": [
    "# create side-by-side boxplots for every race\n",
    "raceLabels = ['WHITE','ASIAN','LATINO','BLACK','ARAB','AMERIN','PACIF','OTHER']\n",
    "ax = sns.boxplot(y='race', x='AAQ_total', data=tidy_race, order = raceLabels, orient = 'h');\n",
    "ax.set_yticklabels(raceLabels);\n",
    "plt.title('Race vs. AAQ');"
   ]
  },
  {
   "cell_type": "markdown",
   "metadata": {},
   "source": [
    "#### <span style=\"color:red\">NOTE: it appears American Indians have the highest avg AAQ, while Arabs have the lowest</span>"
   ]
  },
  {
   "cell_type": "code",
   "execution_count": null,
   "metadata": {
    "collapsed": true
   },
   "outputs": [],
   "source": [
    "# plot distribution of American Indian AAQ scores\n",
    "sns.distplot(tidy_race[tidy_race.race == 'AMERIN'].AAQ_total.dropna());\n",
    "plt.title('American Indian AAQ Distribution');"
   ]
  },
  {
   "cell_type": "code",
   "execution_count": null,
   "metadata": {
    "collapsed": true
   },
   "outputs": [],
   "source": [
    "# plot distribution of Arab AAQ scores\n",
    "sns.distplot(tidy_race[tidy_race.race == 'ARAB'].AAQ_total.dropna());\n",
    "plt.title('Arab AAQ Distribution');"
   ]
  },
  {
   "cell_type": "markdown",
   "metadata": {},
   "source": [
    "### 3) Gender vs. AAQ"
   ]
  },
  {
   "cell_type": "code",
   "execution_count": null,
   "metadata": {
    "collapsed": true,
    "scrolled": true
   },
   "outputs": [],
   "source": [
    "# # create side-by-side boxplots for each gender identity\n",
    "genderLabels = ['Male', 'Female', 'Other']\n",
    "ax = sns.boxplot(y='gender', x='AAQ_total', data=tidy_gender, order = genderLabels, orient='h');\n",
    "ax.set_yticklabels(genderLabels);\n",
    "plt.title('Gender vs. AAQ');"
   ]
  },
  {
   "cell_type": "markdown",
   "metadata": {},
   "source": [
    "#### <span style=\"color:red\"> NOTE: it appears Females are more psychologically inflexible than Males, and those who identify as neither have even higher AAQ scores </span>"
   ]
  },
  {
   "cell_type": "code",
   "execution_count": null,
   "metadata": {
    "collapsed": true
   },
   "outputs": [],
   "source": [
    "# plot distribution of 'Female' AAQ scores\n",
    "sns.distplot(tidy_gender[tidy_gender.gender == 'Female'].AAQ_total.dropna());\n",
    "plt.title(\"Female AAQ Distribution\");"
   ]
  },
  {
   "cell_type": "code",
   "execution_count": null,
   "metadata": {
    "collapsed": true,
    "scrolled": true
   },
   "outputs": [],
   "source": [
    "# plot distribution of 'Male' AAQ scores\n",
    "sns.distplot(tidy_gender[tidy_gender.gender == 'Male'].AAQ_total.dropna());\n",
    "plt.title(\"Male AAQ Distribution\");"
   ]
  },
  {
   "cell_type": "markdown",
   "metadata": {},
   "source": [
    "### 4) Religiousness vs. AAQ"
   ]
  },
  {
   "cell_type": "code",
   "execution_count": null,
   "metadata": {
    "collapsed": true,
    "scrolled": true
   },
   "outputs": [],
   "source": [
    "# create side-by-side boxplots for every level of religiousness\n",
    "religLabels = ['Very Important', 'Important', 'Neutral', 'Unimportant', 'Very Unimportant']\n",
    "ax = sns.boxplot(y='religios', x='AAQ_total', data=tidy_relig, order = religLabels, orient='h');\n",
    "ax.set_yticklabels(religLabels);\n",
    "plt.title('Religiousness vs. AAQ');"
   ]
  },
  {
   "cell_type": "markdown",
   "metadata": {},
   "source": [
    "#### <span style=\"color:red\">NOTE: it appears religiousness is negatively correlated with psychological inflexibility <-- (this is worth investigating further)</span>"
   ]
  },
  {
   "cell_type": "code",
   "execution_count": null,
   "metadata": {
    "collapsed": true
   },
   "outputs": [],
   "source": [
    "# plot distribution of 'Very Unmportant' AAQ scores\n",
    "sns.distplot(tidy_relig[tidy_relig.religios == 'Very Unimportant'].AAQ_total.dropna());\n",
    "plt.title(\"Religion = 'Very Unimportant' AAQ Distribution\");"
   ]
  },
  {
   "cell_type": "code",
   "execution_count": null,
   "metadata": {
    "collapsed": true,
    "scrolled": true
   },
   "outputs": [],
   "source": [
    "# plot distribution of 'Very Important' AAQ scores\n",
    "sns.distplot(tidy_relig[tidy_relig.religios == 'Very Important'].AAQ_total.dropna());\n",
    "plt.title(\"Religion = 'Very Important' AAQ Distribution\");"
   ]
  },
  {
   "cell_type": "markdown",
   "metadata": {},
   "source": [
    "### 5) Religion vs. AAQ"
   ]
  },
  {
   "cell_type": "code",
   "execution_count": null,
   "metadata": {
    "collapsed": true,
    "scrolled": true
   },
   "outputs": [],
   "source": [
    "# # create side-by-side boxplots for each religion\n",
    "religionLabels = ['Agnostic', 'Atheist', 'Buddhist', 'Catholic',\n",
    "                  'Christian', 'Hindu', 'Jewish', 'Muslim', 'No Pref', 'Other']\n",
    "ax = sns.boxplot(y='religion', x='AAQ_total', data=tidy_religion, order = religionLabels, orient='h');\n",
    "ax.set_yticklabels(religionLabels);\n",
    "plt.title('Religion vs. AAQ');"
   ]
  },
  {
   "cell_type": "markdown",
   "metadata": {},
   "source": [
    "#### <span style=\"color:red\"> NOTE: it appears Agnostics have the highest AAQ while Christians have the lowest </span>"
   ]
  },
  {
   "cell_type": "code",
   "execution_count": null,
   "metadata": {
    "collapsed": true,
    "scrolled": true
   },
   "outputs": [],
   "source": [
    "# plot distribution of 'Agnostic' AAQ scores\n",
    "sns.distplot(tidy_religion[tidy_religion.religion == 'Agnostic'].AAQ_total.dropna());\n",
    "plt.title(\"Agnostic AAQ Distribution\");"
   ]
  },
  {
   "cell_type": "code",
   "execution_count": null,
   "metadata": {
    "collapsed": true
   },
   "outputs": [],
   "source": [
    "# plot distribution of 'Christian' AAQ scores\n",
    "sns.distplot(tidy_religion[tidy_religion.religion == 'Christian'].AAQ_total.dropna());\n",
    "plt.title(\"Christian AAQ Distribution\");"
   ]
  },
  {
   "cell_type": "markdown",
   "metadata": {},
   "source": [
    "### 6) Degree Type vs. AAQ"
   ]
  },
  {
   "cell_type": "code",
   "execution_count": null,
   "metadata": {
    "collapsed": true,
    "scrolled": true
   },
   "outputs": [],
   "source": [
    "# create side-by-side boxplots for each degree type\n",
    "degreeLabels = ['Associates', 'Bachelors', 'Masters', 'JD', 'MD', 'PhD', 'Other', 'Non-Degree']\n",
    "ax = sns.boxplot(y='degreeType', x='AAQ_total', data=tidy_degreeType, order = degreeLabels, orient='h');\n",
    "ax.set_yticklabels(degreeLabels);\n",
    "plt.title('Degree Type vs. AAQ');"
   ]
  },
  {
   "cell_type": "markdown",
   "metadata": {},
   "source": [
    "#### <span style=\"color:red\"> NOTE: it appears Bachelors students have the highest AAQ while MD students have the lowest </span>"
   ]
  },
  {
   "cell_type": "code",
   "execution_count": null,
   "metadata": {
    "collapsed": true
   },
   "outputs": [],
   "source": [
    "# plot distribution of 'Bachelors' AAQ scores\n",
    "sns.distplot(tidy_degreeType[tidy_degreeType.degreeType == 'Bachelors'].AAQ_total.dropna());\n",
    "plt.title(\"Bachelors students AAQ Distribution\");"
   ]
  },
  {
   "cell_type": "code",
   "execution_count": null,
   "metadata": {
    "collapsed": true
   },
   "outputs": [],
   "source": [
    "# plot distribution of 'MD' AAQ scores\n",
    "sns.distplot(tidy_degreeType[tidy_degreeType.degreeType == 'MD'].AAQ_total.dropna());\n",
    "plt.title(\"MD students AAQ Distribution\");"
   ]
  },
  {
   "cell_type": "markdown",
   "metadata": {},
   "source": [
    "### 7) Field of Study vs. AAQ"
   ]
  },
  {
   "cell_type": "code",
   "execution_count": null,
   "metadata": {
    "collapsed": true,
    "scrolled": true
   },
   "outputs": [],
   "source": [
    "# create side-by-side boxplots for each field of study\n",
    "fieldLabels = ['HUM', 'NAT', 'SOC', 'ARC', 'ART', 'BUS','DEN','ED','ENG','LAW',\n",
    "                     'MED','MUS','NUR','PHARM','PREP','PH','PP','SW','UND','OTHER']\n",
    "ax = sns.boxplot(y='fieldOfStudy', x='AAQ_total', data=tidy_fieldOfStudy, order = fieldLabels, orient='h');\n",
    "ax.set_yticklabels(fieldLabels);\n",
    "plt.title('Field of Study vs. AAQ');"
   ]
  },
  {
   "cell_type": "markdown",
   "metadata": {},
   "source": [
    "#### <span style=\"color:red\"> NOTE: it appears Humanities students have the highest AAQ while Medicine students have the lowest </span>"
   ]
  },
  {
   "cell_type": "code",
   "execution_count": null,
   "metadata": {
    "collapsed": true
   },
   "outputs": [],
   "source": [
    "# plot distribution of 'Humanities' AAQ scores\n",
    "sns.distplot(tidy_fieldOfStudy[tidy_fieldOfStudy.fieldOfStudy == 'HUM'].AAQ_total.dropna());\n",
    "plt.title(\"Humanities AAQ Distribution\");"
   ]
  },
  {
   "cell_type": "code",
   "execution_count": null,
   "metadata": {
    "collapsed": true
   },
   "outputs": [],
   "source": [
    "# plot distribution of 'Medicine' AAQ scores\n",
    "sns.distplot(tidy_fieldOfStudy[tidy_fieldOfStudy.fieldOfStudy == 'MED'].AAQ_total.dropna());\n",
    "plt.title(\"Medicine AAQ Distribution\");"
   ]
  },
  {
   "cell_type": "markdown",
   "metadata": {},
   "source": [
    "### 8) Extracurricular Activity vs. AAQ"
   ]
  },
  {
   "cell_type": "code",
   "execution_count": null,
   "metadata": {
    "collapsed": true,
    "scrolled": true
   },
   "outputs": [],
   "source": [
    "# create side-by-side boxplots for each extracurricular activity\n",
    "activityLabels = ['ACAD', 'ATH_C', 'ATH_V', 'ATH_I', 'COM', 'CUL','DANCE','GREEK','SEX','GOV',\n",
    "                         'HEALTH','MEDIA','MUSIC', 'RELIG','SOCIAL','ART','OTHER','NONE']\n",
    "ax = sns.boxplot(y='activity', x='AAQ_total', data=tidy_activity, order = activityLabels, orient='h');\n",
    "ax.set_yticklabels(activityLabels);\n",
    "plt.title('Extracurricular Activity vs. AAQ');"
   ]
  },
  {
   "cell_type": "markdown",
   "metadata": {},
   "source": [
    "#### <span style=\"color:red\"> NOTE: it appears students involved with Gender/Sexuality Orgs have the highest AAQ, while Varsity Athletes have the lowest</span>"
   ]
  },
  {
   "cell_type": "code",
   "execution_count": null,
   "metadata": {
    "collapsed": true
   },
   "outputs": [],
   "source": [
    "# plot distribution of 'Gender/Sexuality Orgs' AAQ scores\n",
    "sns.distplot(tidy_activity[tidy_activity.activity == 'SEX'].AAQ_total.dropna());\n",
    "plt.title(\"Gender/Sexuality Orgs AAQ Distribution\");"
   ]
  },
  {
   "cell_type": "code",
   "execution_count": null,
   "metadata": {
    "collapsed": true
   },
   "outputs": [],
   "source": [
    "# plot distribution of 'Varsity Athletes' AAQ scores\n",
    "sns.distplot(tidy_activity[tidy_activity.activity == 'ATH_V'].AAQ_total.dropna());\n",
    "plt.title(\"Varsity Athletes AAQ Distribution\");"
   ]
  },
  {
   "cell_type": "markdown",
   "metadata": {},
   "source": [
    "## STEP #4: Pass variables to next Jupyter notebook"
   ]
  },
  {
   "cell_type": "code",
   "execution_count": null,
   "metadata": {
    "collapsed": true
   },
   "outputs": [],
   "source": [
    "# cleaned dataset\n",
    "%store HMS\n",
    "\n",
    "# separated modules\n",
    "%store HMS_ids\n",
    "%store HMS_demo\n",
    "%store HMS_mhstatus\n",
    "%store HMS_mhhelp\n",
    "%store HMS_aaq\n",
    "\n",
    "# tidy variable groups\n",
    "%store tidy_race\n",
    "%store tidy_religion\n",
    "%store tidy_degreeType\n",
    "%store tidy_fieldOfStudy\n",
    "%store tidy_activity\n",
    "%store tidy_age\n",
    "%store tidy_gender\n",
    "%store tidy_relig"
   ]
  }
 ],
 "metadata": {
  "kernelspec": {
   "display_name": "Python [conda root]",
   "language": "python",
   "name": "conda-root-py"
  },
  "language_info": {
   "codemirror_mode": {
    "name": "ipython",
    "version": 2
   },
   "file_extension": ".py",
   "mimetype": "text/x-python",
   "name": "python",
   "nbconvert_exporter": "python",
   "pygments_lexer": "ipython2",
   "version": "2.7.13"
  }
 },
 "nbformat": 4,
 "nbformat_minor": 2
}
