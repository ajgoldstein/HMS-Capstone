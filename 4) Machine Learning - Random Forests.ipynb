{
 "cells": [
  {
   "cell_type": "markdown",
   "metadata": {},
   "source": [
    "# HMS Capstone - Machine Learning - Random Forests\n",
    "## By: AJ Goldstein (https://github.com/ajva1996)"
   ]
  },
  {
   "cell_type": "markdown",
   "metadata": {},
   "source": [
    "### <span style=\"color:red\">Modeling Task: </span>\n",
    "### Understand the relationship between psychological inflexibility (i.e. AAQ) and mental health outcomes (i.e. depression, anxiety) while also considering key demographic variables (i.e. race, gender, field of study)"
   ]
  },
  {
   "cell_type": "markdown",
   "metadata": {},
   "source": [
    "### <span style=\"color:red\">Why Random Forests?</span>\n",
    "- WHY 1: <b>high interpretability & stable feature importances</b>\n",
    "- WHY 2: <b>reduces variance & prevents overfitting</b>\n",
    "- WHY 3: <b>inherently models feature interactions</b>\n",
    "\n",
    "### <span style=\"color:red\">Analysis Steps:</span>\n",
    "- 1) Prepare data for classification\n",
    "- 2) Train a Random Forest Classifier\n",
    "- 3) Optimize Classifier Models\n",
    "- 4) Train a Random Forest Regressor"
   ]
  },
  {
   "cell_type": "code",
   "execution_count": 17,
   "metadata": {},
   "outputs": [],
   "source": [
    "from __future__ import division\n",
    "import pandas as pd\n",
    "import numpy as np\n",
    "from scipy.stats import spearmanr\n",
    "\n",
    "import matplotlib\n",
    "import matplotlib.pyplot as plt\n",
    "import seaborn as sns\n",
    "sns.set(style=\"darkgrid\")\n",
    "sns.set_context(\"talk\")\n",
    "\n",
    "import statsmodels.api as sm\n",
    "import statsmodels.formula.api as smf\n",
    "from scipy import stats\n",
    "\n",
    "from sklearn.ensemble import RandomForestClassifier, RandomForestRegressor\n",
    "from sklearn.model_selection import train_test_split\n",
    "from sklearn.metrics import accuracy_score\n",
    "from sklearn.preprocessing import LabelEncoder\n",
    "from sklearn.feature_selection import SelectFromModel\n",
    "from sklearn.metrics import accuracy_score\n",
    "from sklearn.dummy import DummyClassifier, DummyRegressor\n",
    "\n",
    "import warnings\n",
    "warnings.filterwarnings('ignore')\n",
    "%matplotlib inline"
   ]
  },
  {
   "cell_type": "markdown",
   "metadata": {},
   "source": [
    "## STEP #0: Carry forward data from previous notebook"
   ]
  },
  {
   "cell_type": "code",
   "execution_count": 18,
   "metadata": {},
   "outputs": [],
   "source": [
    "# cleaned dataset\n",
    "%store -r HMS\n",
    "\n",
    "# separated modules\n",
    "%store -r HMS_ids\n",
    "%store -r HMS_demo\n",
    "%store -r HMS_mhstatus\n",
    "%store -r HMS_mhhelp\n",
    "%store -r HMS_aaq\n",
    "\n",
    "# tidy variable groups\n",
    "%store -r tidy_race\n",
    "%store -r tidy_religion\n",
    "%store -r tidy_degreeType\n",
    "%store -r tidy_fieldOfStudy\n",
    "%store -r tidy_activity\n",
    "%store -r tidy_age\n",
    "%store -r tidy_gender\n",
    "%store -r tidy_relig"
   ]
  },
  {
   "cell_type": "markdown",
   "metadata": {},
   "source": [
    "## STEP #1: Prepare data for classification"
   ]
  },
  {
   "cell_type": "markdown",
   "metadata": {},
   "source": [
    "### a) convert survey demographics & AAQ into features matrix (X)"
   ]
  },
  {
   "cell_type": "code",
   "execution_count": 19,
   "metadata": {},
   "outputs": [],
   "source": [
    "# select columns without text and irrelevant variables\n",
    "cols = [col for col in HMS_demo.columns if ('text' not in col)] # text columns\n",
    "cols = [col for col in cols if col not in ['aca_impa','persist','fincur','finpast']] # irrelevant variables\n",
    "X = HMS_demo[cols].fillna(0)"
   ]
  },
  {
   "cell_type": "code",
   "execution_count": 20,
   "metadata": {},
   "outputs": [],
   "source": [
    "# convert them to categorical variables\n",
    "for col in cols:\n",
    "    X[col] = X[col].astype('category')"
   ]
  },
  {
   "cell_type": "code",
   "execution_count": 21,
   "metadata": {
    "scrolled": true
   },
   "outputs": [
    {
     "data": {
      "text/html": [
       "<div>\n",
       "<style>\n",
       "    .dataframe thead tr:only-child th {\n",
       "        text-align: right;\n",
       "    }\n",
       "\n",
       "    .dataframe thead th {\n",
       "        text-align: left;\n",
       "    }\n",
       "\n",
       "    .dataframe tbody tr th {\n",
       "        vertical-align: top;\n",
       "    }\n",
       "</style>\n",
       "<table border=\"1\" class=\"dataframe\">\n",
       "  <thead>\n",
       "    <tr style=\"text-align: right;\">\n",
       "      <th></th>\n",
       "      <th>AAQ</th>\n",
       "      <th>age</th>\n",
       "      <th>sex_birth</th>\n",
       "      <th>gender</th>\n",
       "      <th>sexual</th>\n",
       "      <th>relship</th>\n",
       "      <th>race_black</th>\n",
       "      <th>race_ainaan</th>\n",
       "      <th>race_asian</th>\n",
       "      <th>race_his_temp</th>\n",
       "      <th>...</th>\n",
       "      <th>disab_1_1</th>\n",
       "      <th>disab_1_2</th>\n",
       "      <th>disab_1_3</th>\n",
       "      <th>disab_1_4</th>\n",
       "      <th>disab_1_5</th>\n",
       "      <th>disab_1_6</th>\n",
       "      <th>disab_1_7</th>\n",
       "      <th>disab_1_8</th>\n",
       "      <th>disab_1_9</th>\n",
       "      <th>disab_3</th>\n",
       "    </tr>\n",
       "  </thead>\n",
       "  <tbody>\n",
       "    <tr>\n",
       "      <th>0</th>\n",
       "      <td>NaN</td>\n",
       "      <td>20.0</td>\n",
       "      <td>1.0</td>\n",
       "      <td>2.0</td>\n",
       "      <td>1.0</td>\n",
       "      <td>1.0</td>\n",
       "      <td>0.0</td>\n",
       "      <td>0.0</td>\n",
       "      <td>0.0</td>\n",
       "      <td>0.0</td>\n",
       "      <td>...</td>\n",
       "      <td>0.0</td>\n",
       "      <td>0.0</td>\n",
       "      <td>0.0</td>\n",
       "      <td>0.0</td>\n",
       "      <td>0.0</td>\n",
       "      <td>0.0</td>\n",
       "      <td>0.0</td>\n",
       "      <td>0.0</td>\n",
       "      <td>0.0</td>\n",
       "      <td>0.0</td>\n",
       "    </tr>\n",
       "    <tr>\n",
       "      <th>1</th>\n",
       "      <td>NaN</td>\n",
       "      <td>21.0</td>\n",
       "      <td>1.0</td>\n",
       "      <td>2.0</td>\n",
       "      <td>1.0</td>\n",
       "      <td>1.0</td>\n",
       "      <td>0.0</td>\n",
       "      <td>0.0</td>\n",
       "      <td>0.0</td>\n",
       "      <td>0.0</td>\n",
       "      <td>...</td>\n",
       "      <td>0.0</td>\n",
       "      <td>0.0</td>\n",
       "      <td>1.0</td>\n",
       "      <td>0.0</td>\n",
       "      <td>0.0</td>\n",
       "      <td>0.0</td>\n",
       "      <td>0.0</td>\n",
       "      <td>0.0</td>\n",
       "      <td>0.0</td>\n",
       "      <td>3.0</td>\n",
       "    </tr>\n",
       "    <tr>\n",
       "      <th>3</th>\n",
       "      <td>NaN</td>\n",
       "      <td>22.0</td>\n",
       "      <td>2.0</td>\n",
       "      <td>1.0</td>\n",
       "      <td>1.0</td>\n",
       "      <td>1.0</td>\n",
       "      <td>0.0</td>\n",
       "      <td>0.0</td>\n",
       "      <td>0.0</td>\n",
       "      <td>0.0</td>\n",
       "      <td>...</td>\n",
       "      <td>0.0</td>\n",
       "      <td>0.0</td>\n",
       "      <td>0.0</td>\n",
       "      <td>0.0</td>\n",
       "      <td>0.0</td>\n",
       "      <td>0.0</td>\n",
       "      <td>0.0</td>\n",
       "      <td>0.0</td>\n",
       "      <td>0.0</td>\n",
       "      <td>0.0</td>\n",
       "    </tr>\n",
       "    <tr>\n",
       "      <th>4</th>\n",
       "      <td>NaN</td>\n",
       "      <td>19.0</td>\n",
       "      <td>2.0</td>\n",
       "      <td>1.0</td>\n",
       "      <td>1.0</td>\n",
       "      <td>6.0</td>\n",
       "      <td>0.0</td>\n",
       "      <td>0.0</td>\n",
       "      <td>0.0</td>\n",
       "      <td>0.0</td>\n",
       "      <td>...</td>\n",
       "      <td>0.0</td>\n",
       "      <td>0.0</td>\n",
       "      <td>0.0</td>\n",
       "      <td>0.0</td>\n",
       "      <td>0.0</td>\n",
       "      <td>0.0</td>\n",
       "      <td>0.0</td>\n",
       "      <td>0.0</td>\n",
       "      <td>0.0</td>\n",
       "      <td>0.0</td>\n",
       "    </tr>\n",
       "    <tr>\n",
       "      <th>5</th>\n",
       "      <td>NaN</td>\n",
       "      <td>21.0</td>\n",
       "      <td>2.0</td>\n",
       "      <td>1.0</td>\n",
       "      <td>1.0</td>\n",
       "      <td>1.0</td>\n",
       "      <td>0.0</td>\n",
       "      <td>0.0</td>\n",
       "      <td>0.0</td>\n",
       "      <td>0.0</td>\n",
       "      <td>...</td>\n",
       "      <td>0.0</td>\n",
       "      <td>0.0</td>\n",
       "      <td>0.0</td>\n",
       "      <td>0.0</td>\n",
       "      <td>0.0</td>\n",
       "      <td>0.0</td>\n",
       "      <td>0.0</td>\n",
       "      <td>0.0</td>\n",
       "      <td>0.0</td>\n",
       "      <td>0.0</td>\n",
       "    </tr>\n",
       "  </tbody>\n",
       "</table>\n",
       "<p>5 rows × 96 columns</p>\n",
       "</div>"
      ],
      "text/plain": [
       "   AAQ   age sex_birth gender sexual relship race_black race_ainaan  \\\n",
       "0  NaN  20.0       1.0    2.0    1.0     1.0        0.0         0.0   \n",
       "1  NaN  21.0       1.0    2.0    1.0     1.0        0.0         0.0   \n",
       "3  NaN  22.0       2.0    1.0    1.0     1.0        0.0         0.0   \n",
       "4  NaN  19.0       2.0    1.0    1.0     6.0        0.0         0.0   \n",
       "5  NaN  21.0       2.0    1.0    1.0     1.0        0.0         0.0   \n",
       "\n",
       "  race_asian race_his_temp   ...   disab_1_1 disab_1_2 disab_1_3 disab_1_4  \\\n",
       "0        0.0           0.0   ...         0.0       0.0       0.0       0.0   \n",
       "1        0.0           0.0   ...         0.0       0.0       1.0       0.0   \n",
       "3        0.0           0.0   ...         0.0       0.0       0.0       0.0   \n",
       "4        0.0           0.0   ...         0.0       0.0       0.0       0.0   \n",
       "5        0.0           0.0   ...         0.0       0.0       0.0       0.0   \n",
       "\n",
       "  disab_1_5 disab_1_6 disab_1_7 disab_1_8 disab_1_9 disab_3  \n",
       "0       0.0       0.0       0.0       0.0       0.0     0.0  \n",
       "1       0.0       0.0       0.0       0.0       0.0     3.0  \n",
       "3       0.0       0.0       0.0       0.0       0.0     0.0  \n",
       "4       0.0       0.0       0.0       0.0       0.0     0.0  \n",
       "5       0.0       0.0       0.0       0.0       0.0     0.0  \n",
       "\n",
       "[5 rows x 96 columns]"
      ]
     },
     "execution_count": 21,
     "metadata": {},
     "output_type": "execute_result"
    }
   ],
   "source": [
    "# add in AAQ_total score\n",
    "X.insert(loc=0, column = 'AAQ', value = HMS_aaq['AAQ_total'])\n",
    "feat_cols = X.columns\n",
    "\n",
    "X.head()"
   ]
  },
  {
   "cell_type": "markdown",
   "metadata": {},
   "source": [
    "### b) remove unapplicable and missing values (NaN's)"
   ]
  },
  {
   "cell_type": "code",
   "execution_count": 22,
   "metadata": {},
   "outputs": [],
   "source": [
    "# select three main outcomes\n",
    "Y_flourish = HMS_mhstatus['flourish']\n",
    "Y_depression = HMS_mhstatus['deprawsc']\n",
    "Y_anxiety = HMS_mhstatus['anx_score']"
   ]
  },
  {
   "cell_type": "code",
   "execution_count": 23,
   "metadata": {},
   "outputs": [],
   "source": [
    "# combine all variables (X's and Y's) into one dataframe\n",
    "all_variables = pd.concat([X, Y_flourish, Y_depression, Y_anxiety], axis = 1)"
   ]
  },
  {
   "cell_type": "code",
   "execution_count": 24,
   "metadata": {},
   "outputs": [
    {
     "name": "stdout",
     "output_type": "stream",
     "text": [
      "('shape before removing NaNs:', (45756, 99))\n",
      "('shape after removing NaNs:', (22781, 99))\n"
     ]
    }
   ],
   "source": [
    "# remove all rows with any NaN\n",
    "print('shape before removing NaNs:', all_variables.shape)\n",
    "all_variables = all_variables.dropna(axis=0, how='any')\n",
    "print('shape after removing NaNs:', all_variables.shape) # NOTE: 25,000+ dropped rows were due to AAQ"
   ]
  },
  {
   "cell_type": "markdown",
   "metadata": {},
   "source": [
    "#### <span style=\"color:red\"> IMPORTANT NOTE: 25,000+ dropped rows were due to AAQ (half of respondents did not have an AAQ score)</span>"
   ]
  },
  {
   "cell_type": "code",
   "execution_count": 25,
   "metadata": {},
   "outputs": [
    {
     "name": "stdout",
     "output_type": "stream",
     "text": [
      "('shape BEFORE removing middle 1/3 of scores:', (22781, 99))\n",
      "('shape AFTER removing middle 1/3 of scores:', (8972, 99))\n"
     ]
    }
   ],
   "source": [
    "# remove middle 1/3 of scores in the \"mild\" range\n",
    "print('shape BEFORE removing middle 1/3 of scores:', all_variables.shape)\n",
    "all_variables = all_variables.loc[~all_variables['flourish'].between(42, 47, inclusive=True)]\n",
    "all_variables = all_variables.loc[~all_variables['deprawsc'].between(5, 9, inclusive=True)]\n",
    "all_variables = all_variables.loc[~all_variables['anx_score'].between(5, 9, inclusive=True)]\n",
    "print('shape AFTER removing middle 1/3 of scores:', all_variables.shape)"
   ]
  },
  {
   "cell_type": "markdown",
   "metadata": {},
   "source": [
    "#### <span style=\"color:red\"> IMPORTANT NOTE: 13,000 rows were dropped from the \"mild\" range of these scores</span>"
   ]
  },
  {
   "cell_type": "code",
   "execution_count": 26,
   "metadata": {},
   "outputs": [],
   "source": [
    "# split big dataframe back up\n",
    "X = all_variables.drop(labels=['flourish', 'deprawsc', 'anx_score'], axis=1)\n",
    "Y_flourish_cleaned = all_variables['flourish']\n",
    "Y_depression_cleaned = all_variables['deprawsc']\n",
    "Y_anxiety_cleaned = all_variables['anx_score']"
   ]
  },
  {
   "cell_type": "markdown",
   "metadata": {},
   "source": [
    "### c) categorize mental health outcomes into classified labels (Y)"
   ]
  },
  {
   "cell_type": "code",
   "execution_count": 27,
   "metadata": {},
   "outputs": [],
   "source": [
    "def categorize_outcome(value, outcome):\n",
    "    \n",
    "    # flourishing scale\n",
    "    if outcome == 'flourish':\n",
    "        if pd.isnull(value):\n",
    "            return value\n",
    "        elif value < 48:\n",
    "            return 0\n",
    "        elif value >= 48:\n",
    "            return 1\n",
    "        \n",
    "    # depression or anxiety\n",
    "    else:\n",
    "        if pd.isnull(value):\n",
    "            return value\n",
    "        elif value < 10:\n",
    "            return 0\n",
    "        elif value >= 10:\n",
    "            return 1"
   ]
  },
  {
   "cell_type": "code",
   "execution_count": 28,
   "metadata": {},
   "outputs": [],
   "source": [
    "# convert to categorical labels\n",
    "Y_flourish_cats = pd.Series([categorize_outcome(score, 'flourish') for score in Y_flourish_cleaned], name='flourish')\n",
    "Y_depression_cats = pd.Series([categorize_outcome(score, 'depression') for score in Y_depression_cleaned], name = 'depression')\n",
    "Y_anxiety_cats = pd.Series([categorize_outcome(score, 'anxiety') for score in Y_anxiety_cleaned], name = 'anxiety')"
   ]
  },
  {
   "cell_type": "markdown",
   "metadata": {},
   "source": [
    "#### <span style=\"color:red\">NOTE: using \"moderate\" score of 10 as cutoff for depression/anxiety... 48 as the threshold for positive mental health</span>"
   ]
  },
  {
   "cell_type": "markdown",
   "metadata": {},
   "source": [
    "## STEP #2: Train a Random Forest Classifier"
   ]
  },
  {
   "cell_type": "markdown",
   "metadata": {},
   "source": [
    "### a) split data into train & test sets"
   ]
  },
  {
   "cell_type": "code",
   "execution_count": 29,
   "metadata": {},
   "outputs": [],
   "source": [
    "# split the data into training and test sets\n",
    "X_train, X_test = train_test_split(X, test_size=0.3, random_state=0)\n",
    "y_flourish_train, y_flourish_test = train_test_split(Y_flourish_cats, test_size=0.3, random_state=0)\n",
    "y_depression_train, y_depression_test = train_test_split(Y_depression_cats, test_size=0.3, random_state=0)\n",
    "y_anxiety_train, y_anxiety_test = train_test_split(Y_anxiety_cats, test_size=0.3, random_state=0)"
   ]
  },
  {
   "cell_type": "markdown",
   "metadata": {},
   "source": [
    "### b) create and train the classifier"
   ]
  },
  {
   "cell_type": "code",
   "execution_count": 30,
   "metadata": {},
   "outputs": [],
   "source": [
    "# Create random forest classifiers\n",
    "dep_clf = RandomForestClassifier(n_estimators=1000, max_features = \"auto\", max_depth = 5,\n",
    "                             min_samples_leaf = 100, random_state=0, n_jobs=-1)\n",
    "\n",
    "anx_clf = RandomForestClassifier(n_estimators=1000, max_features = \"auto\", max_depth = 5,\n",
    "                             min_samples_leaf = 100, random_state=0, n_jobs=-1)\n",
    "\n",
    "flo_clf = RandomForestClassifier(n_estimators=1000, max_features = \"auto\", max_depth = 5,\n",
    "                             min_samples_leaf = 100, random_state=0, n_jobs=-1)"
   ]
  },
  {
   "cell_type": "code",
   "execution_count": 31,
   "metadata": {},
   "outputs": [
    {
     "data": {
      "text/plain": [
       "RandomForestClassifier(bootstrap=True, class_weight=None, criterion='gini',\n",
       "            max_depth=5, max_features='auto', max_leaf_nodes=None,\n",
       "            min_impurity_decrease=0.0, min_impurity_split=None,\n",
       "            min_samples_leaf=100, min_samples_split=2,\n",
       "            min_weight_fraction_leaf=0.0, n_estimators=1000, n_jobs=-1,\n",
       "            oob_score=False, random_state=0, verbose=0, warm_start=False)"
      ]
     },
     "execution_count": 31,
     "metadata": {},
     "output_type": "execute_result"
    }
   ],
   "source": [
    "# Train the classifier on all three outcomes\n",
    "dep_clf.fit(X_train, y_depression_train)\n",
    "anx_clf.fit(X_train, y_anxiety_train)\n",
    "flo_clf.fit(X_train, y_flourish_train)"
   ]
  },
  {
   "cell_type": "markdown",
   "metadata": {},
   "source": [
    "### c) extract feature importances"
   ]
  },
  {
   "cell_type": "code",
   "execution_count": 32,
   "metadata": {},
   "outputs": [],
   "source": [
    "from IPython.display import display, HTML"
   ]
  },
  {
   "cell_type": "code",
   "execution_count": 33,
   "metadata": {
    "scrolled": false
   },
   "outputs": [
    {
     "data": {
      "text/html": [
       "<div>\n",
       "<style>\n",
       "    .dataframe thead tr:only-child th {\n",
       "        text-align: right;\n",
       "    }\n",
       "\n",
       "    .dataframe thead th {\n",
       "        text-align: left;\n",
       "    }\n",
       "\n",
       "    .dataframe tbody tr th {\n",
       "        vertical-align: top;\n",
       "    }\n",
       "</style>\n",
       "<table border=\"1\" class=\"dataframe\">\n",
       "  <thead>\n",
       "    <tr style=\"text-align: right;\">\n",
       "      <th></th>\n",
       "      <th>variable name</th>\n",
       "      <th>importance</th>\n",
       "    </tr>\n",
       "  </thead>\n",
       "  <tbody>\n",
       "    <tr>\n",
       "      <th>0</th>\n",
       "      <td>AAQ</td>\n",
       "      <td>0.521501</td>\n",
       "    </tr>\n",
       "    <tr>\n",
       "      <th>1</th>\n",
       "      <td>sexual</td>\n",
       "      <td>0.123204</td>\n",
       "    </tr>\n",
       "    <tr>\n",
       "      <th>2</th>\n",
       "      <td>gpa_sr</td>\n",
       "      <td>0.062267</td>\n",
       "    </tr>\n",
       "    <tr>\n",
       "      <th>3</th>\n",
       "      <td>religios</td>\n",
       "      <td>0.039546</td>\n",
       "    </tr>\n",
       "    <tr>\n",
       "      <th>4</th>\n",
       "      <td>gender</td>\n",
       "      <td>0.033776</td>\n",
       "    </tr>\n",
       "    <tr>\n",
       "      <th>5</th>\n",
       "      <td>relig_aff_ch</td>\n",
       "      <td>0.026310</td>\n",
       "    </tr>\n",
       "    <tr>\n",
       "      <th>6</th>\n",
       "      <td>sex_birth</td>\n",
       "      <td>0.025789</td>\n",
       "    </tr>\n",
       "    <tr>\n",
       "      <th>7</th>\n",
       "      <td>activ_athv</td>\n",
       "      <td>0.013756</td>\n",
       "    </tr>\n",
       "    <tr>\n",
       "      <th>8</th>\n",
       "      <td>activ_athi</td>\n",
       "      <td>0.013221</td>\n",
       "    </tr>\n",
       "    <tr>\n",
       "      <th>9</th>\n",
       "      <td>relig_aff_ag</td>\n",
       "      <td>0.010871</td>\n",
       "    </tr>\n",
       "  </tbody>\n",
       "</table>\n",
       "</div>"
      ],
      "text/plain": [
       "  variable name  importance\n",
       "0           AAQ    0.521501\n",
       "1        sexual    0.123204\n",
       "2        gpa_sr    0.062267\n",
       "3      religios    0.039546\n",
       "4        gender    0.033776\n",
       "5  relig_aff_ch    0.026310\n",
       "6     sex_birth    0.025789\n",
       "7    activ_athv    0.013756\n",
       "8    activ_athi    0.013221\n",
       "9  relig_aff_ag    0.010871"
      ]
     },
     "metadata": {},
     "output_type": "display_data"
    },
    {
     "data": {
      "image/png": "[encoded data removed]",
      "text/plain": [
       "<matplotlib.figure.Figure at 0x117414610>"
      ]
     },
     "metadata": {},
     "output_type": "display_data"
    },
    {
     "data": {
      "text/html": [
       "<div>\n",
       "<style>\n",
       "    .dataframe thead tr:only-child th {\n",
       "        text-align: right;\n",
       "    }\n",
       "\n",
       "    .dataframe thead th {\n",
       "        text-align: left;\n",
       "    }\n",
       "\n",
       "    .dataframe tbody tr th {\n",
       "        vertical-align: top;\n",
       "    }\n",
       "</style>\n",
       "<table border=\"1\" class=\"dataframe\">\n",
       "  <thead>\n",
       "    <tr style=\"text-align: right;\">\n",
       "      <th></th>\n",
       "      <th>variable name</th>\n",
       "      <th>importance</th>\n",
       "    </tr>\n",
       "  </thead>\n",
       "  <tbody>\n",
       "    <tr>\n",
       "      <th>0</th>\n",
       "      <td>AAQ</td>\n",
       "      <td>0.504708</td>\n",
       "    </tr>\n",
       "    <tr>\n",
       "      <th>1</th>\n",
       "      <td>sexual</td>\n",
       "      <td>0.111366</td>\n",
       "    </tr>\n",
       "    <tr>\n",
       "      <th>2</th>\n",
       "      <td>gpa_sr</td>\n",
       "      <td>0.059653</td>\n",
       "    </tr>\n",
       "    <tr>\n",
       "      <th>3</th>\n",
       "      <td>gender</td>\n",
       "      <td>0.054187</td>\n",
       "    </tr>\n",
       "    <tr>\n",
       "      <th>4</th>\n",
       "      <td>sex_birth</td>\n",
       "      <td>0.042587</td>\n",
       "    </tr>\n",
       "    <tr>\n",
       "      <th>5</th>\n",
       "      <td>religios</td>\n",
       "      <td>0.031690</td>\n",
       "    </tr>\n",
       "    <tr>\n",
       "      <th>6</th>\n",
       "      <td>relig_aff_ch</td>\n",
       "      <td>0.019919</td>\n",
       "    </tr>\n",
       "    <tr>\n",
       "      <th>7</th>\n",
       "      <td>hours_work_paid</td>\n",
       "      <td>0.015288</td>\n",
       "    </tr>\n",
       "    <tr>\n",
       "      <th>8</th>\n",
       "      <td>disab_3</td>\n",
       "      <td>0.015002</td>\n",
       "    </tr>\n",
       "    <tr>\n",
       "      <th>9</th>\n",
       "      <td>activ_athi</td>\n",
       "      <td>0.013619</td>\n",
       "    </tr>\n",
       "  </tbody>\n",
       "</table>\n",
       "</div>"
      ],
      "text/plain": [
       "     variable name  importance\n",
       "0              AAQ    0.504708\n",
       "1           sexual    0.111366\n",
       "2           gpa_sr    0.059653\n",
       "3           gender    0.054187\n",
       "4        sex_birth    0.042587\n",
       "5         religios    0.031690\n",
       "6     relig_aff_ch    0.019919\n",
       "7  hours_work_paid    0.015288\n",
       "8          disab_3    0.015002\n",
       "9       activ_athi    0.013619"
      ]
     },
     "metadata": {},
     "output_type": "display_data"
    },
    {
     "data": {
      "image/png": "[encoded data removed]",
      "text/plain": [
       "<matplotlib.figure.Figure at 0x117edbc10>"
      ]
     },
     "metadata": {},
     "output_type": "display_data"
    }
   ],
   "source": [
    "# Print the name and gini importance of each feature\n",
    "for clf in [dep_clf, anx_clf, flo_clf]:\n",
    "    features = pd.DataFrame(sorted(zip(feat_cols, clf.feature_importances_),\n",
    "                            key=lambda x: x[1], reverse=True), columns = ['variable name', 'importance'])\n",
    "    #display(features.head(10))\n",
    "    if clf == dep_clf or clf == anx_clf:\n",
    "        display(features.head(10))\n",
    "        sns.barplot(y = 'variable name', x = 'importance', data = features.head(10))\n",
    "        plt.title('Variable Importance in Predicting Depression') if clf == dep_clf else plt.title('Variable Importance in Predicting Anxiety')\n",
    "        plt.savefig('Dep_Var_Importance') if clf == dep_clf else plt.savefig('Anx_Var_Importance')\n",
    "        plt.show()"
   ]
  },
  {
   "cell_type": "markdown",
   "metadata": {},
   "source": [
    "### <span style=\"color:red\">Interpretation: AAQ consistently comes out on top as BY FAR the most important feature</span>\n",
    "- #### <span style=\"color:red\">(10x more important than any demographic variable in predicting mental health outcomes)</span>"
   ]
  },
  {
   "cell_type": "markdown",
   "metadata": {},
   "source": [
    "### d) test the accuracy of our full-feature classifier"
   ]
  },
  {
   "cell_type": "code",
   "execution_count": 34,
   "metadata": {
    "scrolled": true
   },
   "outputs": [
    {
     "name": "stdout",
     "output_type": "stream",
     "text": [
      "('Depression Model Accuracy:', 0.88781575037147098)\n",
      "('Anxiety Model Accuracy:', 0.87704309063893016)\n",
      "('Flourishing Model Accuracy:', 0.83320950965824669)\n"
     ]
    }
   ],
   "source": [
    "# Apply The Full Featured Classifier To The Test Data\n",
    "y_pred_dep = dep_clf.predict(X_test)\n",
    "y_pred_anx = anx_clf.predict(X_test)\n",
    "y_pred_flo = flo_clf.predict(X_test)\n",
    "\n",
    "# Print the Accuracy Of Our Full Feature Model\n",
    "print('Depression Model Accuracy:', accuracy_score(y_depression_test, y_pred_dep))\n",
    "print('Anxiety Model Accuracy:', accuracy_score(y_anxiety_test, y_pred_anx))\n",
    "print('Flourishing Model Accuracy:', accuracy_score(y_flourish_test, y_pred_flo))"
   ]
  },
  {
   "cell_type": "markdown",
   "metadata": {},
   "source": [
    "### e) perform cross-validation to check for possible overfitting"
   ]
  },
  {
   "cell_type": "code",
   "execution_count": 36,
   "metadata": {},
   "outputs": [
    {
     "name": "stdout",
     "output_type": "stream",
     "text": [
      "10-fold cross validation average accuracy: 0.886\n",
      "10-fold cross validation average accuracy: 0.874\n",
      "10-fold cross validation average accuracy: 0.818\n"
     ]
    }
   ],
   "source": [
    "from sklearn import model_selection\n",
    "from sklearn.model_selection import cross_val_score\n",
    "kfold = model_selection.KFold(n_splits=10, random_state=7)\n",
    "for modelCV, trainingData in zip([dep_clf, anx_clf, flo_clf], [y_depression_train, y_anxiety_train, y_flourish_train]):\n",
    "    results = model_selection.cross_val_score(modelCV, X_train, trainingData, cv=kfold, scoring='accuracy')\n",
    "    print(\"10-fold cross validation average accuracy: %.3f\" % (results.mean()))"
   ]
  },
  {
   "cell_type": "markdown",
   "metadata": {},
   "source": [
    "### f) compare performance to baseline measure (dummyClassifier)"
   ]
  },
  {
   "cell_type": "code",
   "execution_count": 37,
   "metadata": {
    "scrolled": true
   },
   "outputs": [
    {
     "name": "stdout",
     "output_type": "stream",
     "text": [
      "('Depression BASELINE Accuracy:', 0.54866270430906394)\n",
      "('Anxiety BASELINE Accuracy:', 0.57206537890044573)\n",
      "('Flourishing BASELINE Accuracy:', 0.56723625557206536)\n"
     ]
    }
   ],
   "source": [
    "# Question: \"what if we just guessed the *most common class* everytime?\"\n",
    "y_mode_pred_dep = DummyClassifier(strategy='most_frequent').fit(X_train, y_depression_train).predict(X_test)\n",
    "y_mode_pred_anx = DummyClassifier(strategy='most_frequent').fit(X_train, y_anxiety_train).predict(X_test)\n",
    "y_mode_pred_flo = DummyClassifier(strategy='most_frequent').fit(X_train, y_flourish_train).predict(X_test)\n",
    "\n",
    "# use arrays of mode values to make baseline predictions\n",
    "print('Depression BASELINE Accuracy:', accuracy_score(y_depression_test, y_mode_pred_dep))\n",
    "print('Anxiety BASELINE Accuracy:', accuracy_score(y_anxiety_test, y_mode_pred_anx))\n",
    "print('Flourishing BASELINE Accuracy:', accuracy_score(y_flourish_test, y_mode_pred_flo))"
   ]
  },
  {
   "cell_type": "markdown",
   "metadata": {},
   "source": [
    "### <span style=\"color:red\"> The predictive models created above are 30-35% more accurate than their baseline measures: </span>\n",
    "- #### <span style=\"color:red\">Depression Classifer: ~89% accuracy</span> in predicting whether or not a student is clinically depressed\n",
    "- #### <span style=\"color:red\">Anxiety Classifer: ~87% accuracy </span>in predicting whether or not a student has general anxiety disorder\n",
    "- #### <span style=\"color:red\">Flourishing Classifer: ~82% accuracy </span>in predicting whether or not someone has positive mental health"
   ]
  },
  {
   "cell_type": "markdown",
   "metadata": {},
   "source": [
    "## STEP #3: Optimize Classifier Models"
   ]
  },
  {
   "cell_type": "markdown",
   "metadata": {},
   "source": [
    "### a) optimize hyperparameters using GridSearch"
   ]
  },
  {
   "cell_type": "code",
   "execution_count": null,
   "metadata": {
    "scrolled": true
   },
   "outputs": [],
   "source": [
    "from sklearn.grid_search import GridSearchCV\n",
    " \n",
    "rfc = RandomForestClassifier(n_jobs=-1, oob_score = True) \n",
    " \n",
    "# Use a grid over parameters of interest\n",
    "param_grid = {\"max_depth\" : [3, 5, 10],\n",
    "              \"min_samples_leaf\" : [50, 100, 150]}\n",
    " \n",
    "CV_rfc = GridSearchCV(estimator=rfc, param_grid=param_grid, cv=5)\n",
    "CV_rfc.fit(X_train, y_depression_train)\n",
    "print CV_rfc.best_params_"
   ]
  },
  {
   "cell_type": "markdown",
   "metadata": {},
   "source": [
    "### b) identify and select the most important features"
   ]
  },
  {
   "cell_type": "code",
   "execution_count": 38,
   "metadata": {
    "scrolled": true
   },
   "outputs": [
    {
     "name": "stdout",
     "output_type": "stream",
     "text": [
      "AAQ\n",
      "gender\n",
      "sexual\n",
      "religios\n",
      "gpa_sr\n"
     ]
    }
   ],
   "source": [
    "# Create a selector object that will use the random forest classifier to identify\n",
    "# features that have an importance of more than 0\n",
    "sfm = SelectFromModel(dep_clf, threshold=0.03)\n",
    "\n",
    "# Train the selector\n",
    "sfm.fit(X_train, y_depression_train)\n",
    "\n",
    "# Print the names of the most important features\n",
    "feat_cols_important = []\n",
    "for feature_list_index in sfm.get_support(indices=True):\n",
    "    feat_cols_important.append(feat_cols[feature_list_index])\n",
    "    print(feat_cols[feature_list_index])"
   ]
  },
  {
   "cell_type": "markdown",
   "metadata": {},
   "source": [
    "### c) create a dataset with only the most important features"
   ]
  },
  {
   "cell_type": "code",
   "execution_count": 39,
   "metadata": {},
   "outputs": [],
   "source": [
    "# Transform the data to create a new dataset containing only the most important features\n",
    "# Note: We have to apply the transform to both the training X and test X data.\n",
    "X_important_train = sfm.transform(X_train)\n",
    "X_important_test = sfm.transform(X_test)"
   ]
  },
  {
   "cell_type": "markdown",
   "metadata": {},
   "source": [
    "### d) train new classifiers using only the most important features ( + optimal hyperparameters)"
   ]
  },
  {
   "cell_type": "code",
   "execution_count": 40,
   "metadata": {},
   "outputs": [
    {
     "data": {
      "text/plain": [
       "RandomForestClassifier(bootstrap=True, class_weight=None, criterion='gini',\n",
       "            max_depth=5, max_features='auto', max_leaf_nodes=None,\n",
       "            min_impurity_decrease=0.0, min_impurity_split=None,\n",
       "            min_samples_leaf=10, min_samples_split=2,\n",
       "            min_weight_fraction_leaf=0.0, n_estimators=1000, n_jobs=-1,\n",
       "            oob_score=False, random_state=0, verbose=0, warm_start=False)"
      ]
     },
     "execution_count": 40,
     "metadata": {},
     "output_type": "execute_result"
    }
   ],
   "source": [
    "# Create a new random forest classifier for the most important features\n",
    "dep_clf_imp = RandomForestClassifier(n_estimators=1000, max_features = \"auto\", max_depth = 5,\n",
    "                             min_samples_leaf = 10, random_state=0, n_jobs=-1)\n",
    "\n",
    "anx_clf_imp = RandomForestClassifier(n_estimators=1000, max_features = \"auto\", max_depth = 5,\n",
    "                             min_samples_leaf = 10, random_state=0, n_jobs=-1)\n",
    "\n",
    "flo_clf_imp = RandomForestClassifier(n_estimators=1000, max_features = \"auto\", max_depth = 5,\n",
    "                             min_samples_leaf = 10, random_state=0, n_jobs=-1)\n",
    "\n",
    "# Train the new classifier on the new dataset containing the most important features\n",
    "dep_clf_imp.fit(X_important_train, y_depression_train)\n",
    "anx_clf_imp.fit(X_important_train, y_anxiety_train)\n",
    "flo_clf_imp.fit(X_important_train, y_anxiety_train)"
   ]
  },
  {
   "cell_type": "markdown",
   "metadata": {},
   "source": [
    "### e) extract feature importances"
   ]
  },
  {
   "cell_type": "code",
   "execution_count": 41,
   "metadata": {
    "scrolled": false
   },
   "outputs": [
    {
     "data": {
      "text/html": [
       "<div>\n",
       "<style>\n",
       "    .dataframe thead tr:only-child th {\n",
       "        text-align: right;\n",
       "    }\n",
       "\n",
       "    .dataframe thead th {\n",
       "        text-align: left;\n",
       "    }\n",
       "\n",
       "    .dataframe tbody tr th {\n",
       "        vertical-align: top;\n",
       "    }\n",
       "</style>\n",
       "<table border=\"1\" class=\"dataframe\">\n",
       "  <thead>\n",
       "    <tr style=\"text-align: right;\">\n",
       "      <th></th>\n",
       "      <th>variable name</th>\n",
       "      <th>importance</th>\n",
       "    </tr>\n",
       "  </thead>\n",
       "  <tbody>\n",
       "    <tr>\n",
       "      <th>0</th>\n",
       "      <td>AAQ</td>\n",
       "      <td>0.875508</td>\n",
       "    </tr>\n",
       "    <tr>\n",
       "      <th>1</th>\n",
       "      <td>Sexuality</td>\n",
       "      <td>0.069094</td>\n",
       "    </tr>\n",
       "    <tr>\n",
       "      <th>2</th>\n",
       "      <td>GPA</td>\n",
       "      <td>0.031934</td>\n",
       "    </tr>\n",
       "    <tr>\n",
       "      <th>3</th>\n",
       "      <td>Religiousness</td>\n",
       "      <td>0.013286</td>\n",
       "    </tr>\n",
       "    <tr>\n",
       "      <th>4</th>\n",
       "      <td>Gender</td>\n",
       "      <td>0.010178</td>\n",
       "    </tr>\n",
       "  </tbody>\n",
       "</table>\n",
       "</div>"
      ],
      "text/plain": [
       "   variable name  importance\n",
       "0            AAQ    0.875508\n",
       "1      Sexuality    0.069094\n",
       "2            GPA    0.031934\n",
       "3  Religiousness    0.013286\n",
       "4         Gender    0.010178"
      ]
     },
     "metadata": {},
     "output_type": "display_data"
    },
    {
     "data": {
      "image/png": "[encoded data removed]",
      "text/plain": [
       "<matplotlib.figure.Figure at 0x11724d490>"
      ]
     },
     "metadata": {},
     "output_type": "display_data"
    },
    {
     "data": {
      "text/html": [
       "<div>\n",
       "<style>\n",
       "    .dataframe thead tr:only-child th {\n",
       "        text-align: right;\n",
       "    }\n",
       "\n",
       "    .dataframe thead th {\n",
       "        text-align: left;\n",
       "    }\n",
       "\n",
       "    .dataframe tbody tr th {\n",
       "        vertical-align: top;\n",
       "    }\n",
       "</style>\n",
       "<table border=\"1\" class=\"dataframe\">\n",
       "  <thead>\n",
       "    <tr style=\"text-align: right;\">\n",
       "      <th></th>\n",
       "      <th>variable name</th>\n",
       "      <th>importance</th>\n",
       "    </tr>\n",
       "  </thead>\n",
       "  <tbody>\n",
       "    <tr>\n",
       "      <th>0</th>\n",
       "      <td>AAQ</td>\n",
       "      <td>0.878888</td>\n",
       "    </tr>\n",
       "    <tr>\n",
       "      <th>1</th>\n",
       "      <td>Sexuality</td>\n",
       "      <td>0.059770</td>\n",
       "    </tr>\n",
       "    <tr>\n",
       "      <th>2</th>\n",
       "      <td>GPA</td>\n",
       "      <td>0.027656</td>\n",
       "    </tr>\n",
       "    <tr>\n",
       "      <th>3</th>\n",
       "      <td>Gender</td>\n",
       "      <td>0.025093</td>\n",
       "    </tr>\n",
       "    <tr>\n",
       "      <th>4</th>\n",
       "      <td>Religiousness</td>\n",
       "      <td>0.008593</td>\n",
       "    </tr>\n",
       "  </tbody>\n",
       "</table>\n",
       "</div>"
      ],
      "text/plain": [
       "   variable name  importance\n",
       "0            AAQ    0.878888\n",
       "1      Sexuality    0.059770\n",
       "2            GPA    0.027656\n",
       "3         Gender    0.025093\n",
       "4  Religiousness    0.008593"
      ]
     },
     "metadata": {},
     "output_type": "display_data"
    },
    {
     "data": {
      "image/png": "[encoded data removed]",
      "text/plain": [
       "<matplotlib.figure.Figure at 0x117749b90>"
      ]
     },
     "metadata": {},
     "output_type": "display_data"
    }
   ],
   "source": [
    "# Print the name and gini importance of each feature\n",
    "for clf in [dep_clf_imp, anx_clf_imp, flo_clf_imp]:\n",
    "    features = pd.DataFrame(sorted(zip(feat_cols_important, clf.feature_importances_),\n",
    "                            key=lambda x: x[1], reverse=True), columns = ['variable name', 'importance'])\n",
    "    \n",
    "    #display(features.head(10))\n",
    "    if clf == dep_clf_imp or clf == anx_clf_imp:\n",
    "        features['variable name'] = ['AAQ', 'Sexuality','GPA', 'Religiousness','Gender'] if clf == dep_clf_imp else ['AAQ', 'Sexuality','GPA', 'Gender','Religiousness']\n",
    "        display(features.head(10))\n",
    "        sns.barplot(x = 'variable name', y = 'importance', data = features.head(10))\n",
    "        plt.title('Variable Importance in Predicting Depression') if clf == dep_clf_imp else plt.title('Variable Importance in Predicting Anxiety')\n",
    "        plt.tight_layout(pad=1)\n",
    "        plt.savefig('Dep_Var_Importance2') if clf == dep_clf_imp else plt.savefig('Anx_Var_Importance2')\n",
    "        plt.show()"
   ]
  },
  {
   "cell_type": "markdown",
   "metadata": {},
   "source": [
    "### f) test the accuracy of our limited-feature model"
   ]
  },
  {
   "cell_type": "code",
   "execution_count": 42,
   "metadata": {},
   "outputs": [
    {
     "name": "stdout",
     "output_type": "stream",
     "text": [
      "('Depression Model Accuracy:', 0.88893016344725106)\n",
      "('Anxiety Model Accuracy:', 0.88521545319465078)\n",
      "('Flourishing Model Accuracy:', 0.88521545319465078)\n"
     ]
    }
   ],
   "source": [
    "# Apply The Full Featured Classifier To The Test Data\n",
    "y_pred_dep_imp = dep_clf_imp.predict(X_important_test)\n",
    "y_pred_anx_imp = anx_clf_imp.predict(X_important_test)\n",
    "y_pred_flo_imp = flo_clf_imp.predict(X_important_test)\n",
    "\n",
    "# Print the Accuracy Of Our Full Feature Model\n",
    "print('Depression Model Accuracy:', accuracy_score(y_depression_test, y_pred_dep_imp))\n",
    "print('Anxiety Model Accuracy:', accuracy_score(y_anxiety_test, y_pred_anx_imp))\n",
    "print('Flourishing Model Accuracy:', accuracy_score(y_anxiety_test, y_pred_flo_imp))"
   ]
  },
  {
   "cell_type": "markdown",
   "metadata": {},
   "source": [
    "### g) perform cross-validation to check for possible overfitting"
   ]
  },
  {
   "cell_type": "code",
   "execution_count": 45,
   "metadata": {},
   "outputs": [
    {
     "name": "stdout",
     "output_type": "stream",
     "text": [
      "10-fold cross validation average accuracy: 0.886\n",
      "10-fold cross validation average accuracy: 0.876\n"
     ]
    }
   ],
   "source": [
    "kfold = model_selection.KFold(n_splits=10, random_state=7)\n",
    "for modelCV, trainingData in zip([dep_clf_imp, anx_clf_imp, flo_clf_imp], [y_depression_train, y_anxiety_train]):\n",
    "    results = model_selection.cross_val_score(modelCV, X_train, trainingData, cv=kfold, scoring='accuracy')\n",
    "    print(\"10-fold cross validation average accuracy: %.3f\" % (results.mean()))"
   ]
  },
  {
   "cell_type": "markdown",
   "metadata": {},
   "source": [
    "### h) compare performance to baseline measure (dummyClassifier)"
   ]
  },
  {
   "cell_type": "code",
   "execution_count": 46,
   "metadata": {
    "scrolled": true
   },
   "outputs": [
    {
     "name": "stdout",
     "output_type": "stream",
     "text": [
      "('Depression BASELINE Accuracy:', 0.54866270430906394)\n",
      "('Anxiety BASELINE Accuracy:', 0.57206537890044573)\n",
      "('Flourish BASELINE Accuracy:', 0.56723625557206536)\n"
     ]
    }
   ],
   "source": [
    "# Question: \"what if we just guessed the *most common class* everytime?\"\n",
    "y_mode_pred_dep = DummyClassifier(strategy='most_frequent').fit(X_important_train, y_depression_train).predict(X_important_test)\n",
    "y_mode_pred_anx = DummyClassifier(strategy='most_frequent').fit(X_important_train, y_anxiety_train).predict(X_important_test)\n",
    "y_mode_pred_flo = DummyClassifier(strategy='most_frequent').fit(X_important_train, y_flourish_train).predict(X_important_test)\n",
    "\n",
    "# use arrays of mode values to make baseline predictions\n",
    "print('Depression BASELINE Accuracy:', accuracy_score(y_depression_test, y_mode_pred_dep))\n",
    "print('Anxiety BASELINE Accuracy:', accuracy_score(y_anxiety_test, y_mode_pred_anx))\n",
    "print('Flourish BASELINE Accuracy:', accuracy_score(y_flourish_test, y_mode_pred_flo))"
   ]
  },
  {
   "cell_type": "markdown",
   "metadata": {},
   "source": [
    "### <span style=\"color:red\"> The predictive models created above are 35-40% more accurate than their baseline measures: </span>\n",
    "- #### <span style=\"color:red\">Depression Classifer: ~89% accuracy</span> in predicting whether or not a student is clinically depressed\n",
    "- #### <span style=\"color:red\">Anxiety Classifer: ~88% accuracy </span>in predicting whether or not a student has general anxiety disorder\n",
    "- #### <span style=\"color:red\">Flourishing Classifer: ~88% accuracy </span>in predicting whether or not someone has positive mental health"
   ]
  },
  {
   "cell_type": "markdown",
   "metadata": {},
   "source": [
    "## STEP #4: Train a Random Forest Regressor"
   ]
  },
  {
   "cell_type": "markdown",
   "metadata": {},
   "source": [
    "### a) do some quick cleaning"
   ]
  },
  {
   "cell_type": "code",
   "execution_count": 47,
   "metadata": {},
   "outputs": [],
   "source": [
    "# combine all variables (X's and Y's) into one dataframe\n",
    "all_variables_reg = pd.concat([X, Y_flourish, Y_depression, Y_anxiety], axis = 1)"
   ]
  },
  {
   "cell_type": "code",
   "execution_count": 48,
   "metadata": {},
   "outputs": [
    {
     "name": "stdout",
     "output_type": "stream",
     "text": [
      "('shape before removing NaNs:', (45756, 99))\n",
      "('shape after removing NaNs:', (8972, 99))\n"
     ]
    }
   ],
   "source": [
    "# remove all rows with any NaN\n",
    "print('shape before removing NaNs:', all_variables_reg.shape)\n",
    "all_variables_reg = all_variables_reg.dropna(axis=0, how='any')\n",
    "print('shape after removing NaNs:', all_variables_reg.shape) # NOTE: 25,000+ dropped rows were due to AAQ"
   ]
  },
  {
   "cell_type": "code",
   "execution_count": 49,
   "metadata": {},
   "outputs": [],
   "source": [
    "# split big dataframe back up\n",
    "X = all_variables.drop(labels=['flourish', 'deprawsc', 'anx_score'], axis=1)\n",
    "Y_flourish_reg = all_variables['flourish']\n",
    "Y_depression_reg = all_variables['deprawsc']\n",
    "Y_anxiety_reg = all_variables['anx_score']"
   ]
  },
  {
   "cell_type": "markdown",
   "metadata": {},
   "source": [
    "### b) split data into train & test sets"
   ]
  },
  {
   "cell_type": "code",
   "execution_count": 50,
   "metadata": {},
   "outputs": [],
   "source": [
    "# split the data into training and test sets\n",
    "X_train_reg, X_test_reg = train_test_split(X, test_size=0.3, random_state=0)\n",
    "y_flourish_train_reg, y_flourish_test_reg = train_test_split(Y_flourish_reg, test_size=0.3, random_state=0)\n",
    "y_depression_train_reg, y_depression_test_reg = train_test_split(Y_depression_reg, test_size=0.3, random_state=0)\n",
    "y_anxiety_train_reg, y_anxiety_test_reg = train_test_split(Y_anxiety_reg, test_size=0.3, random_state=0)"
   ]
  },
  {
   "cell_type": "markdown",
   "metadata": {},
   "source": [
    "### c) create and train the classifiers"
   ]
  },
  {
   "cell_type": "code",
   "execution_count": 51,
   "metadata": {},
   "outputs": [],
   "source": [
    "# Create random forest regressors\n",
    "dep_clf_reg = RandomForestRegressor(n_estimators=1000, max_features = \"auto\", max_depth = 5,\n",
    "                             min_samples_leaf = 100, random_state=0, n_jobs=-1)\n",
    "\n",
    "anx_clf_reg = RandomForestRegressor(n_estimators=1000, max_features = \"auto\", max_depth = 5,\n",
    "                             min_samples_leaf = 100, random_state=0, n_jobs=-1)\n",
    "\n",
    "flo_clf_reg = RandomForestRegressor(n_estimators=1000, max_features = \"auto\", max_depth = 5,\n",
    "                             min_samples_leaf = 100, random_state=0, n_jobs=-1)"
   ]
  },
  {
   "cell_type": "code",
   "execution_count": 52,
   "metadata": {},
   "outputs": [
    {
     "data": {
      "text/plain": [
       "RandomForestRegressor(bootstrap=True, criterion='mse', max_depth=5,\n",
       "           max_features='auto', max_leaf_nodes=None,\n",
       "           min_impurity_decrease=0.0, min_impurity_split=None,\n",
       "           min_samples_leaf=100, min_samples_split=2,\n",
       "           min_weight_fraction_leaf=0.0, n_estimators=1000, n_jobs=-1,\n",
       "           oob_score=False, random_state=0, verbose=0, warm_start=False)"
      ]
     },
     "execution_count": 52,
     "metadata": {},
     "output_type": "execute_result"
    }
   ],
   "source": [
    "# Train the classifiers on all three outcomes\n",
    "dep_clf_reg.fit(X_train_reg, y_depression_train_reg)\n",
    "anx_clf_reg.fit(X_train_reg, y_anxiety_train_reg)\n",
    "flo_clf_reg.fit(X_train_reg, y_flourish_train_reg)"
   ]
  },
  {
   "cell_type": "markdown",
   "metadata": {},
   "source": [
    "### d) extract feature importances"
   ]
  },
  {
   "cell_type": "code",
   "execution_count": 53,
   "metadata": {
    "scrolled": false
   },
   "outputs": [
    {
     "data": {
      "text/html": [
       "<div>\n",
       "<style>\n",
       "    .dataframe thead tr:only-child th {\n",
       "        text-align: right;\n",
       "    }\n",
       "\n",
       "    .dataframe thead th {\n",
       "        text-align: left;\n",
       "    }\n",
       "\n",
       "    .dataframe tbody tr th {\n",
       "        vertical-align: top;\n",
       "    }\n",
       "</style>\n",
       "<table border=\"1\" class=\"dataframe\">\n",
       "  <thead>\n",
       "    <tr style=\"text-align: right;\">\n",
       "      <th></th>\n",
       "      <th>variable name</th>\n",
       "      <th>importance</th>\n",
       "    </tr>\n",
       "  </thead>\n",
       "  <tbody>\n",
       "    <tr>\n",
       "      <th>0</th>\n",
       "      <td>AAQ</td>\n",
       "      <td>0.977959</td>\n",
       "    </tr>\n",
       "    <tr>\n",
       "      <th>1</th>\n",
       "      <td>gpa_sr</td>\n",
       "      <td>0.008726</td>\n",
       "    </tr>\n",
       "    <tr>\n",
       "      <th>2</th>\n",
       "      <td>educ_par2</td>\n",
       "      <td>0.002478</td>\n",
       "    </tr>\n",
       "    <tr>\n",
       "      <th>3</th>\n",
       "      <td>hours_work_paid</td>\n",
       "      <td>0.002453</td>\n",
       "    </tr>\n",
       "    <tr>\n",
       "      <th>4</th>\n",
       "      <td>sexual</td>\n",
       "      <td>0.002256</td>\n",
       "    </tr>\n",
       "    <tr>\n",
       "      <th>5</th>\n",
       "      <td>educ_par1</td>\n",
       "      <td>0.002131</td>\n",
       "    </tr>\n",
       "    <tr>\n",
       "      <th>6</th>\n",
       "      <td>residenc</td>\n",
       "      <td>0.000862</td>\n",
       "    </tr>\n",
       "    <tr>\n",
       "      <th>7</th>\n",
       "      <td>religios</td>\n",
       "      <td>0.000453</td>\n",
       "    </tr>\n",
       "    <tr>\n",
       "      <th>8</th>\n",
       "      <td>age</td>\n",
       "      <td>0.000416</td>\n",
       "    </tr>\n",
       "    <tr>\n",
       "      <th>9</th>\n",
       "      <td>transfer</td>\n",
       "      <td>0.000363</td>\n",
       "    </tr>\n",
       "  </tbody>\n",
       "</table>\n",
       "</div>"
      ],
      "text/plain": [
       "     variable name  importance\n",
       "0              AAQ    0.977959\n",
       "1           gpa_sr    0.008726\n",
       "2        educ_par2    0.002478\n",
       "3  hours_work_paid    0.002453\n",
       "4           sexual    0.002256\n",
       "5        educ_par1    0.002131\n",
       "6         residenc    0.000862\n",
       "7         religios    0.000453\n",
       "8              age    0.000416\n",
       "9         transfer    0.000363"
      ]
     },
     "metadata": {},
     "output_type": "display_data"
    },
    {
     "data": {
      "image/png": "[encoded data removed]",
      "text/plain": [
       "<matplotlib.figure.Figure at 0x1189a3e90>"
      ]
     },
     "metadata": {},
     "output_type": "display_data"
    },
    {
     "data": {
      "text/html": [
       "<div>\n",
       "<style>\n",
       "    .dataframe thead tr:only-child th {\n",
       "        text-align: right;\n",
       "    }\n",
       "\n",
       "    .dataframe thead th {\n",
       "        text-align: left;\n",
       "    }\n",
       "\n",
       "    .dataframe tbody tr th {\n",
       "        vertical-align: top;\n",
       "    }\n",
       "</style>\n",
       "<table border=\"1\" class=\"dataframe\">\n",
       "  <thead>\n",
       "    <tr style=\"text-align: right;\">\n",
       "      <th></th>\n",
       "      <th>variable name</th>\n",
       "      <th>importance</th>\n",
       "    </tr>\n",
       "  </thead>\n",
       "  <tbody>\n",
       "    <tr>\n",
       "      <th>0</th>\n",
       "      <td>AAQ</td>\n",
       "      <td>0.974765</td>\n",
       "    </tr>\n",
       "    <tr>\n",
       "      <th>1</th>\n",
       "      <td>hours_work_paid</td>\n",
       "      <td>0.007227</td>\n",
       "    </tr>\n",
       "    <tr>\n",
       "      <th>2</th>\n",
       "      <td>gender</td>\n",
       "      <td>0.003391</td>\n",
       "    </tr>\n",
       "    <tr>\n",
       "      <th>3</th>\n",
       "      <td>gpa_sr</td>\n",
       "      <td>0.003017</td>\n",
       "    </tr>\n",
       "    <tr>\n",
       "      <th>4</th>\n",
       "      <td>residenc</td>\n",
       "      <td>0.002570</td>\n",
       "    </tr>\n",
       "    <tr>\n",
       "      <th>5</th>\n",
       "      <td>educ_par2</td>\n",
       "      <td>0.001872</td>\n",
       "    </tr>\n",
       "    <tr>\n",
       "      <th>6</th>\n",
       "      <td>educ_par1</td>\n",
       "      <td>0.001828</td>\n",
       "    </tr>\n",
       "    <tr>\n",
       "      <th>7</th>\n",
       "      <td>sex_birth</td>\n",
       "      <td>0.001565</td>\n",
       "    </tr>\n",
       "    <tr>\n",
       "      <th>8</th>\n",
       "      <td>relship</td>\n",
       "      <td>0.000748</td>\n",
       "    </tr>\n",
       "    <tr>\n",
       "      <th>9</th>\n",
       "      <td>timestud</td>\n",
       "      <td>0.000509</td>\n",
       "    </tr>\n",
       "  </tbody>\n",
       "</table>\n",
       "</div>"
      ],
      "text/plain": [
       "     variable name  importance\n",
       "0              AAQ    0.974765\n",
       "1  hours_work_paid    0.007227\n",
       "2           gender    0.003391\n",
       "3           gpa_sr    0.003017\n",
       "4         residenc    0.002570\n",
       "5        educ_par2    0.001872\n",
       "6        educ_par1    0.001828\n",
       "7        sex_birth    0.001565\n",
       "8          relship    0.000748\n",
       "9         timestud    0.000509"
      ]
     },
     "metadata": {},
     "output_type": "display_data"
    },
    {
     "data": {
      "image/png": "[encoded data removed]",
      "text/plain": [
       "<matplotlib.figure.Figure at 0x1178deed0>"
      ]
     },
     "metadata": {},
     "output_type": "display_data"
    }
   ],
   "source": [
    "# Print the name and gini importance of each feature\n",
    "for clf in [dep_clf_reg, anx_clf_reg, flo_clf_reg]:\n",
    "    features = pd.DataFrame(sorted(zip(feat_cols, clf.feature_importances_),\n",
    "                            key=lambda x: x[1], reverse=True), columns = ['variable name', 'importance'])\n",
    "    \n",
    "    #display(features.head(10))\n",
    "    if clf == dep_clf_reg or clf == anx_clf_reg:\n",
    "        display(features.head(10))\n",
    "        sns.barplot(y = 'variable name', x = 'importance', data = features.head(5))\n",
    "        plt.title('Variable Importance in Predicting Depression') if clf == dep_clf_reg else plt.title('Variable Importance in Predicting Anxiety')\n",
    "        plt.savefig('Dep_Var_Importance_Reg') if clf == dep_clf_reg else plt.savefig('Anx_Var_Importance_Reg')\n",
    "        plt.show()"
   ]
  },
  {
   "cell_type": "markdown",
   "metadata": {},
   "source": [
    "### <span style=\"color:red\">Interpretation: AAQ consistently comes out on top as BY FAR the most important feature</span>\n",
    "- #### <span style=\"color:red\">(10x more important than any demographic variable in predicting mental health outcomes)</span>"
   ]
  },
  {
   "cell_type": "markdown",
   "metadata": {},
   "source": [
    "### e) test the performance of our full-feature classifier"
   ]
  },
  {
   "cell_type": "code",
   "execution_count": 54,
   "metadata": {},
   "outputs": [],
   "source": [
    "# create RMSE function as absolute measure of fit\n",
    "def rmse(predictions, targets):\n",
    "    return np.sqrt(((predictions - targets) ** 2).mean())"
   ]
  },
  {
   "cell_type": "code",
   "execution_count": 55,
   "metadata": {
    "scrolled": false
   },
   "outputs": [
    {
     "name": "stdout",
     "output_type": "stream",
     "text": [
      "('Depression Model R-squared:', 0.66707210896667046)\n",
      "('Anxiety Model R-squared:', 0.67471282647701258)\n",
      "('Flourishing Model R-squared:', 0.45206679662107607)\n",
      "\n",
      "\n",
      "('Depression Model RMSE:', 4.5249371134473169)\n",
      "('Anxiety Model RMSE:', 3.9732551974363814)\n",
      "('Flourishing Model RMSE:', 38.36218950758478)\n"
     ]
    }
   ],
   "source": [
    "# Apply The Full Featured Classifier To The Test Data\n",
    "y_pred_dep_reg = dep_clf_reg.predict(X_test_reg)\n",
    "y_pred_anx_reg = anx_clf_reg.predict(X_test_reg)\n",
    "y_pred_flo_reg = flo_clf_reg.predict(X_test_reg)\n",
    "\n",
    "# Measure Goodness-of-Fit\n",
    "print(\"Depression Model R-squared:\", dep_clf_reg.score(X_test_reg, y_depression_test_reg))\n",
    "print(\"Anxiety Model R-squared:\", anx_clf_reg.score(X_test_reg, y_anxiety_test_reg))\n",
    "print(\"Flourishing Model R-squared:\", flo_clf_reg.score(X_test_reg, y_flourish_test_reg))\n",
    "print('\\n')\n",
    "print(\"Depression Model RMSE:\", rmse(y_pred_dep_reg, y_depression_test_reg))\n",
    "print(\"Anxiety Model RMSE:\", rmse(y_pred_anx_reg, y_anxiety_test_reg))\n",
    "print(\"Flourishing Model RMSE:\", rmse(y_pred_flo_reg, y_anxiety_test_reg))"
   ]
  },
  {
   "cell_type": "markdown",
   "metadata": {},
   "source": [
    "#### <span style=\"color:red\">R-squared</span> measures the <span style=\"color:red\">proportion of variability</span> in Y explained by the regression model (a useful benchmark for comparing models)\n",
    "#### <span style=\"color:red\">RMSE</span> measures the <span style=\"color:red\">standard deviation of the residuals</span> (the spread of the points about the fitted regression line)"
   ]
  },
  {
   "cell_type": "markdown",
   "metadata": {},
   "source": [
    "### f) compare performance to baseline measure (dummyRegressor)"
   ]
  },
  {
   "cell_type": "code",
   "execution_count": 56,
   "metadata": {
    "scrolled": true
   },
   "outputs": [
    {
     "name": "stdout",
     "output_type": "stream",
     "text": [
      "('Depression BASELINE R-Squared', -0.32434011555204822)\n",
      "('Anxiety BASELINE R-Squared', -0.22440938066905858)\n",
      "('Flourishing BASELINE R-Squared', -0.18083339171710611)\n",
      "\n",
      "\n",
      "('Depression BASELINE RMSE:', 9.0247924986332961)\n",
      "('Anxiety BASELINE RMSE:', 7.7086142740927119)\n",
      "('Flourishing BASELINE RMSE:', 11.72321961568168)\n"
     ]
    }
   ],
   "source": [
    "# Question: \"what if we just guessed the *median value* everytime?\"\n",
    "y_median_pred_dep_reg = DummyRegressor(strategy='median').fit(X_train_reg, y_depression_train_reg).predict(X_test_reg)\n",
    "y_median_pred_anx_reg = DummyRegressor(strategy='median').fit(X_train_reg, y_anxiety_train_reg).predict(X_test_reg)\n",
    "y_median_pred_flo_reg = DummyRegressor(strategy='median').fit(X_train_reg, y_flourish_train_reg).predict(X_test_reg)\n",
    "\n",
    "# use arrays of median values to make baseline predictions\n",
    "print('Depression BASELINE R-Squared', DummyRegressor(strategy='median').fit(X_train_reg, y_depression_train_reg).score(X_test_reg, y_depression_test_reg))\n",
    "print('Anxiety BASELINE R-Squared', DummyRegressor(strategy='median').fit(X_train_reg, y_anxiety_train_reg).score(X_test_reg, y_anxiety_test_reg))\n",
    "print('Flourishing BASELINE R-Squared', DummyRegressor(strategy='median').fit(X_train_reg, y_flourish_train_reg).score(X_test_reg, y_flourish_test_reg))\n",
    "print('\\n')\n",
    "print('Depression BASELINE RMSE:', rmse(y_median_pred_dep_reg, y_depression_test_reg))\n",
    "print('Anxiety BASELINE RMSE:', rmse(y_median_pred_anx_reg, y_anxiety_test_reg))\n",
    "print('Flourishing BASELINE RMSE:', rmse(y_median_pred_flo_reg, y_flourish_test_reg))"
   ]
  },
  {
   "cell_type": "markdown",
   "metadata": {},
   "source": [
    "### <span style=\"color:red\"> The predictive models created above are 95-105% better fits than their baseline measures: </span>\n",
    "- #### <span style=\"color:red\">Depression Regressor: R-Squared = 0.73 // RMSE = 4.10 </span> in predicting a student's depression level\n",
    "- #### <span style=\"color:red\">Anxiety Regressor: R-Squared = 0.71 // RMSE = 3.77 </span>in predicting a student's anxiety level\n",
    "- #### <span style=\"color:red\">Flourishing Regressor: R-Squared = 0.49 // RMSE = 38.5 </span>in predicting a student's psychological well-being level "
   ]
  },
  {
   "cell_type": "markdown",
   "metadata": {},
   "source": [
    "## Conclusion:"
   ]
  },
  {
   "cell_type": "markdown",
   "metadata": {},
   "source": [
    "### <span style=\"color:green\">All in all, from the models above we can conclude that, of the 100+ variables considered, psychological flexibility has the by far the highest feature importance, and therefore the most predictive power, in predicting depression and anxiety in American college students.</span>"
   ]
  },
  {
   "cell_type": "markdown",
   "metadata": {},
   "source": [
    "## Next Steps:"
   ]
  },
  {
   "cell_type": "markdown",
   "metadata": {},
   "source": [
    "### <span style=\"color:green\">As a fifth and final step to this analysis, the exact impact of AAQ on depression and anxiety will be quantified using linear and logisitic regression: two models with simple implementation & high interpretability.</span>"
   ]
  },
  {
   "cell_type": "markdown",
   "metadata": {},
   "source": [
    "## STEP #4: Pass variables to next Jupyter notebook"
   ]
  },
  {
   "cell_type": "code",
   "execution_count": 44,
   "metadata": {},
   "outputs": [
    {
     "name": "stdout",
     "output_type": "stream",
     "text": [
      "Stored 'HMS' (DataFrame)\n",
      "Stored 'HMS_ids' (DataFrame)\n",
      "Stored 'HMS_demo' (DataFrame)\n",
      "Stored 'HMS_mhstatus' (DataFrame)\n",
      "Stored 'HMS_mhhelp' (DataFrame)\n",
      "Stored 'HMS_aaq' (DataFrame)\n",
      "Stored 'tidy_race' (DataFrame)\n",
      "Stored 'tidy_religion' (DataFrame)\n",
      "Stored 'tidy_degreeType' (DataFrame)\n",
      "Stored 'tidy_fieldOfStudy' (DataFrame)\n",
      "Stored 'tidy_activity' (DataFrame)\n",
      "Stored 'tidy_age' (DataFrame)\n",
      "Stored 'tidy_gender' (DataFrame)\n",
      "Stored 'tidy_relig' (DataFrame)\n",
      "Stored 'X' (DataFrame)\n",
      "Stored 'Y_flourish_cats' (Series)\n",
      "Stored 'Y_depression_cats' (Series)\n",
      "Stored 'Y_anxiety_cats' (Series)\n"
     ]
    }
   ],
   "source": [
    "# cleaned dataset\n",
    "%store HMS\n",
    "\n",
    "# separated modules\n",
    "%store HMS_ids\n",
    "%store HMS_demo\n",
    "%store HMS_mhstatus\n",
    "%store HMS_mhhelp\n",
    "%store HMS_aaq\n",
    "\n",
    "# tidy variable groups\n",
    "%store tidy_race\n",
    "%store tidy_religion\n",
    "%store tidy_degreeType\n",
    "%store tidy_fieldOfStudy\n",
    "%store tidy_activity\n",
    "%store tidy_age\n",
    "%store tidy_gender\n",
    "%store tidy_relig\n",
    "\n",
    "# classification features matrix and labels\n",
    "% store X\n",
    "% store Y_flourish_cats\n",
    "% store Y_depression_cats\n",
    "% store Y_anxiety_cats"
   ]
  },
  {
   "cell_type": "code",
   "execution_count": null,
   "metadata": {},
   "outputs": [],
   "source": []
  }
 ],
 "metadata": {
  "kernelspec": {
   "display_name": "Python [conda root]",
   "language": "python",
   "name": "conda-root-py"
  },
  "language_info": {
   "codemirror_mode": {
    "name": "ipython",
    "version": 2
   },
   "file_extension": ".py",
   "mimetype": "text/x-python",
   "name": "python",
   "nbconvert_exporter": "python",
   "pygments_lexer": "ipython2",
   "version": "2.7.13"
  }
 },
 "nbformat": 4,
 "nbformat_minor": 2
}
