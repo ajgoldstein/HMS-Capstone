{
 "cells": [
  {
   "cell_type": "markdown",
   "metadata": {},
   "source": [
    "# HMS Capstone - Data Cleaning"
   ]
  },
  {
   "cell_type": "code",
   "execution_count": 61,
   "metadata": {
    "collapsed": true
   },
   "outputs": [],
   "source": [
    "from __future__ import division\n",
    "import pandas as pd\n",
    "import numpy as np\n",
    "import matplotlib.pyplot as plt\n",
    "import seaborn as sns\n",
    "import warnings\n",
    "warnings.filterwarnings('ignore')\n",
    "%matplotlib inline"
   ]
  },
  {
   "cell_type": "markdown",
   "metadata": {},
   "source": [
    "## STEP #1: Read in dataset from .csv"
   ]
  },
  {
   "cell_type": "code",
   "execution_count": 62,
   "metadata": {
    "collapsed": true
   },
   "outputs": [],
   "source": [
    "# read in dataset as DataFrame\n",
    "HMS = pd.read_csv('2016-2017.csv')"
   ]
  },
  {
   "cell_type": "code",
   "execution_count": 63,
   "metadata": {
    "collapsed": true
   },
   "outputs": [],
   "source": [
    "# replace Excel NULL's with Python NaN's\n",
    "HMS = HMS.replace(['#NULL!'], [np.NaN])"
   ]
  },
  {
   "cell_type": "markdown",
   "metadata": {},
   "source": [
    "## STEP #2: Conduct high-level diagnostics"
   ]
  },
  {
   "cell_type": "code",
   "execution_count": 64,
   "metadata": {
    "scrolled": false
   },
   "outputs": [
    {
     "data": {
      "text/html": [
       "<div>\n",
       "<style>\n",
       "    .dataframe thead tr:only-child th {\n",
       "        text-align: right;\n",
       "    }\n",
       "\n",
       "    .dataframe thead th {\n",
       "        text-align: left;\n",
       "    }\n",
       "\n",
       "    .dataframe tbody tr th {\n",
       "        vertical-align: top;\n",
       "    }\n",
       "</style>\n",
       "<table border=\"1\" class=\"dataframe\">\n",
       "  <thead>\n",
       "    <tr style=\"text-align: right;\">\n",
       "      <th></th>\n",
       "      <th>survey</th>\n",
       "      <th>schoolnum</th>\n",
       "      <th>nrweight</th>\n",
       "      <th>responseid</th>\n",
       "      <th>age</th>\n",
       "      <th>sex_birth</th>\n",
       "      <th>gender</th>\n",
       "      <th>gender_text</th>\n",
       "      <th>sexual</th>\n",
       "      <th>sexual_text</th>\n",
       "      <th>...</th>\n",
       "      <th>talk2pro</th>\n",
       "      <th>talk2adv</th>\n",
       "      <th>talk2ofa</th>\n",
       "      <th>talk2ta</th>\n",
       "      <th>talk2sta</th>\n",
       "      <th>talk2dea</th>\n",
       "      <th>talk2oth</th>\n",
       "      <th>talk2noo</th>\n",
       "      <th>viol_victim</th>\n",
       "      <th>ret_confid_y</th>\n",
       "    </tr>\n",
       "  </thead>\n",
       "  <tbody>\n",
       "    <tr>\n",
       "      <th>53755</th>\n",
       "      <td>NaN</td>\n",
       "      <td>NaN</td>\n",
       "      <td>1.43</td>\n",
       "      <td>R_1dnNevp7EG1R8Ht</td>\n",
       "      <td>NaN</td>\n",
       "      <td>NaN</td>\n",
       "      <td>NaN</td>\n",
       "      <td>NaN</td>\n",
       "      <td>NaN</td>\n",
       "      <td>NaN</td>\n",
       "      <td>...</td>\n",
       "      <td>0</td>\n",
       "      <td>0</td>\n",
       "      <td>0</td>\n",
       "      <td>0</td>\n",
       "      <td>0</td>\n",
       "      <td>0</td>\n",
       "      <td>0</td>\n",
       "      <td>0</td>\n",
       "      <td>NaN</td>\n",
       "      <td>NaN</td>\n",
       "    </tr>\n",
       "    <tr>\n",
       "      <th>53756</th>\n",
       "      <td>NaN</td>\n",
       "      <td>NaN</td>\n",
       "      <td>1.13</td>\n",
       "      <td>R_30uhu9O9lvYtFG5</td>\n",
       "      <td>NaN</td>\n",
       "      <td>NaN</td>\n",
       "      <td>NaN</td>\n",
       "      <td>NaN</td>\n",
       "      <td>NaN</td>\n",
       "      <td>NaN</td>\n",
       "      <td>...</td>\n",
       "      <td>0</td>\n",
       "      <td>0</td>\n",
       "      <td>0</td>\n",
       "      <td>0</td>\n",
       "      <td>0</td>\n",
       "      <td>0</td>\n",
       "      <td>0</td>\n",
       "      <td>0</td>\n",
       "      <td>NaN</td>\n",
       "      <td>NaN</td>\n",
       "    </tr>\n",
       "    <tr>\n",
       "      <th>53757</th>\n",
       "      <td>NaN</td>\n",
       "      <td>NaN</td>\n",
       "      <td>1.73</td>\n",
       "      <td>R_20O11J6JJ29G3G1</td>\n",
       "      <td>NaN</td>\n",
       "      <td>NaN</td>\n",
       "      <td>NaN</td>\n",
       "      <td>NaN</td>\n",
       "      <td>NaN</td>\n",
       "      <td>NaN</td>\n",
       "      <td>...</td>\n",
       "      <td>0</td>\n",
       "      <td>0</td>\n",
       "      <td>0</td>\n",
       "      <td>0</td>\n",
       "      <td>0</td>\n",
       "      <td>0</td>\n",
       "      <td>0</td>\n",
       "      <td>0</td>\n",
       "      <td>NaN</td>\n",
       "      <td>NaN</td>\n",
       "    </tr>\n",
       "    <tr>\n",
       "      <th>53758</th>\n",
       "      <td>NaN</td>\n",
       "      <td>NaN</td>\n",
       "      <td>0.24</td>\n",
       "      <td>R_3j0Qwrmw8gELHgm</td>\n",
       "      <td>NaN</td>\n",
       "      <td>NaN</td>\n",
       "      <td>NaN</td>\n",
       "      <td>NaN</td>\n",
       "      <td>NaN</td>\n",
       "      <td>NaN</td>\n",
       "      <td>...</td>\n",
       "      <td>0</td>\n",
       "      <td>0</td>\n",
       "      <td>0</td>\n",
       "      <td>0</td>\n",
       "      <td>0</td>\n",
       "      <td>0</td>\n",
       "      <td>0</td>\n",
       "      <td>0</td>\n",
       "      <td>NaN</td>\n",
       "      <td>NaN</td>\n",
       "    </tr>\n",
       "    <tr>\n",
       "      <th>53759</th>\n",
       "      <td>NaN</td>\n",
       "      <td>NaN</td>\n",
       "      <td>1.13</td>\n",
       "      <td>R_zeFliYhCqHgUBi1</td>\n",
       "      <td>NaN</td>\n",
       "      <td>NaN</td>\n",
       "      <td>NaN</td>\n",
       "      <td>NaN</td>\n",
       "      <td>NaN</td>\n",
       "      <td>NaN</td>\n",
       "      <td>...</td>\n",
       "      <td>0</td>\n",
       "      <td>0</td>\n",
       "      <td>0</td>\n",
       "      <td>0</td>\n",
       "      <td>0</td>\n",
       "      <td>0</td>\n",
       "      <td>0</td>\n",
       "      <td>0</td>\n",
       "      <td>NaN</td>\n",
       "      <td>NaN</td>\n",
       "    </tr>\n",
       "  </tbody>\n",
       "</table>\n",
       "<p>5 rows × 1581 columns</p>\n",
       "</div>"
      ],
      "text/plain": [
       "      survey schoolnum  nrweight         responseid  age sex_birth gender  \\\n",
       "53755    NaN       NaN      1.43  R_1dnNevp7EG1R8Ht  NaN       NaN    NaN   \n",
       "53756    NaN       NaN      1.13  R_30uhu9O9lvYtFG5  NaN       NaN    NaN   \n",
       "53757    NaN       NaN      1.73  R_20O11J6JJ29G3G1  NaN       NaN    NaN   \n",
       "53758    NaN       NaN      0.24  R_3j0Qwrmw8gELHgm  NaN       NaN    NaN   \n",
       "53759    NaN       NaN      1.13  R_zeFliYhCqHgUBi1  NaN       NaN    NaN   \n",
       "\n",
       "      gender_text sexual sexual_text     ...      talk2pro talk2adv talk2ofa  \\\n",
       "53755         NaN    NaN         NaN     ...             0        0        0   \n",
       "53756         NaN    NaN         NaN     ...             0        0        0   \n",
       "53757         NaN    NaN         NaN     ...             0        0        0   \n",
       "53758         NaN    NaN         NaN     ...             0        0        0   \n",
       "53759         NaN    NaN         NaN     ...             0        0        0   \n",
       "\n",
       "      talk2ta talk2sta talk2dea talk2oth talk2noo viol_victim ret_confid_y  \n",
       "53755       0        0        0        0        0         NaN          NaN  \n",
       "53756       0        0        0        0        0         NaN          NaN  \n",
       "53757       0        0        0        0        0         NaN          NaN  \n",
       "53758       0        0        0        0        0         NaN          NaN  \n",
       "53759       0        0        0        0        0         NaN          NaN  \n",
       "\n",
       "[5 rows x 1581 columns]"
      ]
     },
     "execution_count": 64,
     "metadata": {},
     "output_type": "execute_result"
    }
   ],
   "source": [
    "HMS.head() # all good here\n",
    "HMS.tail() # identified missing values"
   ]
  },
  {
   "cell_type": "code",
   "execution_count": 65,
   "metadata": {},
   "outputs": [
    {
     "data": {
      "text/plain": [
       "HMS Winter 2017         34795\n",
       "HMS Fall 2016           12515\n",
       "HMS Winter 2017 CCMH     5308\n",
       "NaN                      1142\n",
       "Name: survey, dtype: int64"
      ]
     },
     "execution_count": 65,
     "metadata": {},
     "output_type": "execute_result"
    }
   ],
   "source": [
    "HMS.survey.value_counts(dropna = False) # 1142 missing values"
   ]
  },
  {
   "cell_type": "code",
   "execution_count": 66,
   "metadata": {},
   "outputs": [
    {
     "data": {
      "text/plain": [
       "(53760, 1581)"
      ]
     },
     "execution_count": 66,
     "metadata": {},
     "output_type": "execute_result"
    }
   ],
   "source": [
    "HMS.shape # 53760 students x 1581 variables"
   ]
  },
  {
   "cell_type": "code",
   "execution_count": 67,
   "metadata": {},
   "outputs": [
    {
     "name": "stdout",
     "output_type": "stream",
     "text": [
      "<class 'pandas.core.frame.DataFrame'>\n",
      "RangeIndex: 53760 entries, 0 to 53759\n",
      "Columns: 1581 entries, survey to ret_confid_y\n",
      "dtypes: float64(7), int64(88), object(1486)\n",
      "memory usage: 648.5+ MB\n"
     ]
    }
   ],
   "source": [
    "HMS.info(null_counts = True) # identified dtype issues"
   ]
  },
  {
   "cell_type": "code",
   "execution_count": 68,
   "metadata": {
    "scrolled": true
   },
   "outputs": [
    {
     "data": {
      "text/html": [
       "<div>\n",
       "<style>\n",
       "    .dataframe thead tr:only-child th {\n",
       "        text-align: right;\n",
       "    }\n",
       "\n",
       "    .dataframe thead th {\n",
       "        text-align: left;\n",
       "    }\n",
       "\n",
       "    .dataframe tbody tr th {\n",
       "        vertical-align: top;\n",
       "    }\n",
       "</style>\n",
       "<table border=\"1\" class=\"dataframe\">\n",
       "  <thead>\n",
       "    <tr style=\"text-align: right;\">\n",
       "      <th></th>\n",
       "      <th>survey</th>\n",
       "      <th>schoolnum</th>\n",
       "      <th>nrweight</th>\n",
       "      <th>responseid</th>\n",
       "      <th>age</th>\n",
       "      <th>sex_birth</th>\n",
       "      <th>gender</th>\n",
       "      <th>gender_text</th>\n",
       "      <th>sexual</th>\n",
       "      <th>sexual_text</th>\n",
       "      <th>...</th>\n",
       "      <th>talk2pro</th>\n",
       "      <th>talk2adv</th>\n",
       "      <th>talk2ofa</th>\n",
       "      <th>talk2ta</th>\n",
       "      <th>talk2sta</th>\n",
       "      <th>talk2dea</th>\n",
       "      <th>talk2oth</th>\n",
       "      <th>talk2noo</th>\n",
       "      <th>viol_victim</th>\n",
       "      <th>ret_confid_y</th>\n",
       "    </tr>\n",
       "  </thead>\n",
       "  <tbody>\n",
       "    <tr>\n",
       "      <th>count</th>\n",
       "      <td>52618</td>\n",
       "      <td>52618.0</td>\n",
       "      <td>53760.000000</td>\n",
       "      <td>53760</td>\n",
       "      <td>52618.0</td>\n",
       "      <td>52548</td>\n",
       "      <td>52536</td>\n",
       "      <td>314</td>\n",
       "      <td>52345</td>\n",
       "      <td>1691</td>\n",
       "      <td>...</td>\n",
       "      <td>53760.000000</td>\n",
       "      <td>53760.000000</td>\n",
       "      <td>53760.000000</td>\n",
       "      <td>53760.000000</td>\n",
       "      <td>53760.000000</td>\n",
       "      <td>53760.000000</td>\n",
       "      <td>53760.000000</td>\n",
       "      <td>53760.000000</td>\n",
       "      <td>47828</td>\n",
       "      <td>50826</td>\n",
       "    </tr>\n",
       "    <tr>\n",
       "      <th>unique</th>\n",
       "      <td>3</td>\n",
       "      <td>55.0</td>\n",
       "      <td>NaN</td>\n",
       "      <td>53760</td>\n",
       "      <td>85.0</td>\n",
       "      <td>6</td>\n",
       "      <td>12</td>\n",
       "      <td>208</td>\n",
       "      <td>12</td>\n",
       "      <td>438</td>\n",
       "      <td>...</td>\n",
       "      <td>NaN</td>\n",
       "      <td>NaN</td>\n",
       "      <td>NaN</td>\n",
       "      <td>NaN</td>\n",
       "      <td>NaN</td>\n",
       "      <td>NaN</td>\n",
       "      <td>NaN</td>\n",
       "      <td>NaN</td>\n",
       "      <td>2</td>\n",
       "      <td>2</td>\n",
       "    </tr>\n",
       "    <tr>\n",
       "      <th>top</th>\n",
       "      <td>HMS Winter 2017</td>\n",
       "      <td>49.0</td>\n",
       "      <td>NaN</td>\n",
       "      <td>R_CayJ2kVp6Mr9PBD</td>\n",
       "      <td>21.0</td>\n",
       "      <td>1</td>\n",
       "      <td>2</td>\n",
       "      <td>Agender</td>\n",
       "      <td>1</td>\n",
       "      <td>Pansexual</td>\n",
       "      <td>...</td>\n",
       "      <td>NaN</td>\n",
       "      <td>NaN</td>\n",
       "      <td>NaN</td>\n",
       "      <td>NaN</td>\n",
       "      <td>NaN</td>\n",
       "      <td>NaN</td>\n",
       "      <td>NaN</td>\n",
       "      <td>NaN</td>\n",
       "      <td>0</td>\n",
       "      <td>1</td>\n",
       "    </tr>\n",
       "    <tr>\n",
       "      <th>freq</th>\n",
       "      <td>34795</td>\n",
       "      <td>4705.0</td>\n",
       "      <td>NaN</td>\n",
       "      <td>1</td>\n",
       "      <td>7473.0</td>\n",
       "      <td>18123</td>\n",
       "      <td>20099</td>\n",
       "      <td>20</td>\n",
       "      <td>39932</td>\n",
       "      <td>324</td>\n",
       "      <td>...</td>\n",
       "      <td>NaN</td>\n",
       "      <td>NaN</td>\n",
       "      <td>NaN</td>\n",
       "      <td>NaN</td>\n",
       "      <td>NaN</td>\n",
       "      <td>NaN</td>\n",
       "      <td>NaN</td>\n",
       "      <td>NaN</td>\n",
       "      <td>44951</td>\n",
       "      <td>42367</td>\n",
       "    </tr>\n",
       "    <tr>\n",
       "      <th>mean</th>\n",
       "      <td>NaN</td>\n",
       "      <td>NaN</td>\n",
       "      <td>1.028820</td>\n",
       "      <td>NaN</td>\n",
       "      <td>NaN</td>\n",
       "      <td>NaN</td>\n",
       "      <td>NaN</td>\n",
       "      <td>NaN</td>\n",
       "      <td>NaN</td>\n",
       "      <td>NaN</td>\n",
       "      <td>...</td>\n",
       "      <td>0.302269</td>\n",
       "      <td>0.280004</td>\n",
       "      <td>0.060789</td>\n",
       "      <td>0.020182</td>\n",
       "      <td>0.117839</td>\n",
       "      <td>0.040513</td>\n",
       "      <td>0.315644</td>\n",
       "      <td>0.058557</td>\n",
       "      <td>NaN</td>\n",
       "      <td>NaN</td>\n",
       "    </tr>\n",
       "    <tr>\n",
       "      <th>std</th>\n",
       "      <td>NaN</td>\n",
       "      <td>NaN</td>\n",
       "      <td>0.944637</td>\n",
       "      <td>NaN</td>\n",
       "      <td>NaN</td>\n",
       "      <td>NaN</td>\n",
       "      <td>NaN</td>\n",
       "      <td>NaN</td>\n",
       "      <td>NaN</td>\n",
       "      <td>NaN</td>\n",
       "      <td>...</td>\n",
       "      <td>0.459246</td>\n",
       "      <td>0.449005</td>\n",
       "      <td>0.238945</td>\n",
       "      <td>0.140625</td>\n",
       "      <td>0.322420</td>\n",
       "      <td>0.197162</td>\n",
       "      <td>0.464776</td>\n",
       "      <td>0.234795</td>\n",
       "      <td>NaN</td>\n",
       "      <td>NaN</td>\n",
       "    </tr>\n",
       "    <tr>\n",
       "      <th>min</th>\n",
       "      <td>NaN</td>\n",
       "      <td>NaN</td>\n",
       "      <td>0.080000</td>\n",
       "      <td>NaN</td>\n",
       "      <td>NaN</td>\n",
       "      <td>NaN</td>\n",
       "      <td>NaN</td>\n",
       "      <td>NaN</td>\n",
       "      <td>NaN</td>\n",
       "      <td>NaN</td>\n",
       "      <td>...</td>\n",
       "      <td>0.000000</td>\n",
       "      <td>0.000000</td>\n",
       "      <td>0.000000</td>\n",
       "      <td>0.000000</td>\n",
       "      <td>0.000000</td>\n",
       "      <td>0.000000</td>\n",
       "      <td>0.000000</td>\n",
       "      <td>0.000000</td>\n",
       "      <td>NaN</td>\n",
       "      <td>NaN</td>\n",
       "    </tr>\n",
       "    <tr>\n",
       "      <th>25%</th>\n",
       "      <td>NaN</td>\n",
       "      <td>NaN</td>\n",
       "      <td>0.480000</td>\n",
       "      <td>NaN</td>\n",
       "      <td>NaN</td>\n",
       "      <td>NaN</td>\n",
       "      <td>NaN</td>\n",
       "      <td>NaN</td>\n",
       "      <td>NaN</td>\n",
       "      <td>NaN</td>\n",
       "      <td>...</td>\n",
       "      <td>0.000000</td>\n",
       "      <td>0.000000</td>\n",
       "      <td>0.000000</td>\n",
       "      <td>0.000000</td>\n",
       "      <td>0.000000</td>\n",
       "      <td>0.000000</td>\n",
       "      <td>0.000000</td>\n",
       "      <td>0.000000</td>\n",
       "      <td>NaN</td>\n",
       "      <td>NaN</td>\n",
       "    </tr>\n",
       "    <tr>\n",
       "      <th>50%</th>\n",
       "      <td>NaN</td>\n",
       "      <td>NaN</td>\n",
       "      <td>0.820000</td>\n",
       "      <td>NaN</td>\n",
       "      <td>NaN</td>\n",
       "      <td>NaN</td>\n",
       "      <td>NaN</td>\n",
       "      <td>NaN</td>\n",
       "      <td>NaN</td>\n",
       "      <td>NaN</td>\n",
       "      <td>...</td>\n",
       "      <td>0.000000</td>\n",
       "      <td>0.000000</td>\n",
       "      <td>0.000000</td>\n",
       "      <td>0.000000</td>\n",
       "      <td>0.000000</td>\n",
       "      <td>0.000000</td>\n",
       "      <td>0.000000</td>\n",
       "      <td>0.000000</td>\n",
       "      <td>NaN</td>\n",
       "      <td>NaN</td>\n",
       "    </tr>\n",
       "    <tr>\n",
       "      <th>75%</th>\n",
       "      <td>NaN</td>\n",
       "      <td>NaN</td>\n",
       "      <td>1.270000</td>\n",
       "      <td>NaN</td>\n",
       "      <td>NaN</td>\n",
       "      <td>NaN</td>\n",
       "      <td>NaN</td>\n",
       "      <td>NaN</td>\n",
       "      <td>NaN</td>\n",
       "      <td>NaN</td>\n",
       "      <td>...</td>\n",
       "      <td>1.000000</td>\n",
       "      <td>1.000000</td>\n",
       "      <td>0.000000</td>\n",
       "      <td>0.000000</td>\n",
       "      <td>0.000000</td>\n",
       "      <td>0.000000</td>\n",
       "      <td>1.000000</td>\n",
       "      <td>0.000000</td>\n",
       "      <td>NaN</td>\n",
       "      <td>NaN</td>\n",
       "    </tr>\n",
       "    <tr>\n",
       "      <th>max</th>\n",
       "      <td>NaN</td>\n",
       "      <td>NaN</td>\n",
       "      <td>23.350000</td>\n",
       "      <td>NaN</td>\n",
       "      <td>NaN</td>\n",
       "      <td>NaN</td>\n",
       "      <td>NaN</td>\n",
       "      <td>NaN</td>\n",
       "      <td>NaN</td>\n",
       "      <td>NaN</td>\n",
       "      <td>...</td>\n",
       "      <td>1.000000</td>\n",
       "      <td>1.000000</td>\n",
       "      <td>1.000000</td>\n",
       "      <td>1.000000</td>\n",
       "      <td>1.000000</td>\n",
       "      <td>1.000000</td>\n",
       "      <td>1.000000</td>\n",
       "      <td>1.000000</td>\n",
       "      <td>NaN</td>\n",
       "      <td>NaN</td>\n",
       "    </tr>\n",
       "  </tbody>\n",
       "</table>\n",
       "<p>11 rows × 1581 columns</p>\n",
       "</div>"
      ],
      "text/plain": [
       "                 survey  schoolnum      nrweight         responseid      age  \\\n",
       "count             52618    52618.0  53760.000000              53760  52618.0   \n",
       "unique                3       55.0           NaN              53760     85.0   \n",
       "top     HMS Winter 2017       49.0           NaN  R_CayJ2kVp6Mr9PBD     21.0   \n",
       "freq              34795     4705.0           NaN                  1   7473.0   \n",
       "mean                NaN        NaN      1.028820                NaN      NaN   \n",
       "std                 NaN        NaN      0.944637                NaN      NaN   \n",
       "min                 NaN        NaN      0.080000                NaN      NaN   \n",
       "25%                 NaN        NaN      0.480000                NaN      NaN   \n",
       "50%                 NaN        NaN      0.820000                NaN      NaN   \n",
       "75%                 NaN        NaN      1.270000                NaN      NaN   \n",
       "max                 NaN        NaN     23.350000                NaN      NaN   \n",
       "\n",
       "       sex_birth gender gender_text sexual sexual_text     ...       \\\n",
       "count      52548  52536         314  52345        1691     ...        \n",
       "unique         6     12         208     12         438     ...        \n",
       "top            1      2     Agender      1   Pansexual     ...        \n",
       "freq       18123  20099          20  39932         324     ...        \n",
       "mean         NaN    NaN         NaN    NaN         NaN     ...        \n",
       "std          NaN    NaN         NaN    NaN         NaN     ...        \n",
       "min          NaN    NaN         NaN    NaN         NaN     ...        \n",
       "25%          NaN    NaN         NaN    NaN         NaN     ...        \n",
       "50%          NaN    NaN         NaN    NaN         NaN     ...        \n",
       "75%          NaN    NaN         NaN    NaN         NaN     ...        \n",
       "max          NaN    NaN         NaN    NaN         NaN     ...        \n",
       "\n",
       "            talk2pro      talk2adv      talk2ofa       talk2ta      talk2sta  \\\n",
       "count   53760.000000  53760.000000  53760.000000  53760.000000  53760.000000   \n",
       "unique           NaN           NaN           NaN           NaN           NaN   \n",
       "top              NaN           NaN           NaN           NaN           NaN   \n",
       "freq             NaN           NaN           NaN           NaN           NaN   \n",
       "mean        0.302269      0.280004      0.060789      0.020182      0.117839   \n",
       "std         0.459246      0.449005      0.238945      0.140625      0.322420   \n",
       "min         0.000000      0.000000      0.000000      0.000000      0.000000   \n",
       "25%         0.000000      0.000000      0.000000      0.000000      0.000000   \n",
       "50%         0.000000      0.000000      0.000000      0.000000      0.000000   \n",
       "75%         1.000000      1.000000      0.000000      0.000000      0.000000   \n",
       "max         1.000000      1.000000      1.000000      1.000000      1.000000   \n",
       "\n",
       "            talk2dea      talk2oth      talk2noo viol_victim ret_confid_y  \n",
       "count   53760.000000  53760.000000  53760.000000       47828        50826  \n",
       "unique           NaN           NaN           NaN           2            2  \n",
       "top              NaN           NaN           NaN           0            1  \n",
       "freq             NaN           NaN           NaN       44951        42367  \n",
       "mean        0.040513      0.315644      0.058557         NaN          NaN  \n",
       "std         0.197162      0.464776      0.234795         NaN          NaN  \n",
       "min         0.000000      0.000000      0.000000         NaN          NaN  \n",
       "25%         0.000000      0.000000      0.000000         NaN          NaN  \n",
       "50%         0.000000      0.000000      0.000000         NaN          NaN  \n",
       "75%         0.000000      1.000000      0.000000         NaN          NaN  \n",
       "max         1.000000      1.000000      1.000000         NaN          NaN  \n",
       "\n",
       "[11 rows x 1581 columns]"
      ]
     },
     "execution_count": 68,
     "metadata": {},
     "output_type": "execute_result"
    }
   ],
   "source": [
    "HMS.describe(include = 'all') # investigated dtype issues"
   ]
  },
  {
   "cell_type": "markdown",
   "metadata": {},
   "source": [
    "## STEP #3: Clean data"
   ]
  },
  {
   "cell_type": "markdown",
   "metadata": {},
   "source": [
    "### 1) check for duplicate rows"
   ]
  },
  {
   "cell_type": "code",
   "execution_count": 69,
   "metadata": {},
   "outputs": [
    {
     "name": "stdout",
     "output_type": "stream",
     "text": [
      "no duplicate rows!\n"
     ]
    }
   ],
   "source": [
    "print('no duplicate rows!') if not any(HMS.duplicated()) else 'duplicates present!'"
   ]
  },
  {
   "cell_type": "markdown",
   "metadata": {},
   "source": [
    "### 2) Address missing values"
   ]
  },
  {
   "cell_type": "code",
   "execution_count": 70,
   "metadata": {
    "collapsed": true
   },
   "outputs": [],
   "source": [
    "# remove students who didn't complete the survey\n",
    "HMS = HMS[pd.notnull(HMS['survey'])]"
   ]
  },
  {
   "cell_type": "markdown",
   "metadata": {},
   "source": [
    "### 3) Convert datatypes"
   ]
  },
  {
   "cell_type": "code",
   "execution_count": 71,
   "metadata": {
    "scrolled": true
   },
   "outputs": [
    {
     "data": {
      "text/plain": [
       "object     1486\n",
       "int64        88\n",
       "float64       7\n",
       "dtype: int64"
      ]
     },
     "execution_count": 71,
     "metadata": {},
     "output_type": "execute_result"
    }
   ],
   "source": [
    "# BEFORE: nearly all 'object' datatypes\n",
    "HMS.dtypes.value_counts()"
   ]
  },
  {
   "cell_type": "code",
   "execution_count": 72,
   "metadata": {
    "collapsed": true
   },
   "outputs": [],
   "source": [
    "# DURING: convert all *non-string* columns to a 'numeric' datatype\n",
    "HMS = HMS.apply(pd.to_numeric, errors = 'ignore')"
   ]
  },
  {
   "cell_type": "code",
   "execution_count": 73,
   "metadata": {
    "scrolled": false
   },
   "outputs": [
    {
     "data": {
      "text/plain": [
       "float64    1434\n",
       "int64        89\n",
       "object       58\n",
       "dtype: int64"
      ]
     },
     "execution_count": 73,
     "metadata": {},
     "output_type": "execute_result"
    }
   ],
   "source": [
    "# AFTER: nearly all 'float64' datatypes\n",
    "HMS.dtypes.value_counts()"
   ]
  },
  {
   "cell_type": "markdown",
   "metadata": {},
   "source": [
    "## STEP #4: Check for outliers"
   ]
  },
  {
   "cell_type": "markdown",
   "metadata": {},
   "source": [
    "### survey type"
   ]
  },
  {
   "cell_type": "code",
   "execution_count": 74,
   "metadata": {
    "scrolled": false
   },
   "outputs": [
    {
     "data": {
      "text/plain": [
       "<matplotlib.axes._subplots.AxesSubplot at 0x11ebc33d0>"
      ]
     },
     "execution_count": 74,
     "metadata": {},
     "output_type": "execute_result"
    },
    {
     "data": {
      "image/png": "[encoded data removed]",
      "text/plain": [
       "<matplotlib.figure.Figure at 0x10ddc6110>"
      ]
     },
     "metadata": {},
     "output_type": "display_data"
    }
   ],
   "source": [
    "sns.countplot(y = 'survey', data= HMS) # seems normal"
   ]
  },
  {
   "cell_type": "markdown",
   "metadata": {},
   "source": [
    "### schoolnum respondents"
   ]
  },
  {
   "cell_type": "code",
   "execution_count": 75,
   "metadata": {},
   "outputs": [
    {
     "data": {
      "text/plain": [
       "<matplotlib.axes._subplots.AxesSubplot at 0x11ebdf4d0>"
      ]
     },
     "execution_count": 75,
     "metadata": {},
     "output_type": "execute_result"
    },
    {
     "data": {
      "image/png": "[encoded data removed]",
      "text/plain": [
       "<matplotlib.figure.Figure at 0x11f5a4510>"
      ]
     },
     "metadata": {},
     "output_type": "display_data"
    }
   ],
   "source": [
    "sns.countplot(x = 'schoolnum', data = HMS) # interesting distribution"
   ]
  },
  {
   "cell_type": "markdown",
   "metadata": {},
   "source": [
    "### age"
   ]
  },
  {
   "cell_type": "code",
   "execution_count": 76,
   "metadata": {
    "collapsed": true
   },
   "outputs": [],
   "source": [
    "ageForPlot = pd.to_numeric(HMS.age).dropna()"
   ]
  },
  {
   "cell_type": "code",
   "execution_count": 77,
   "metadata": {
    "scrolled": true
   },
   "outputs": [
    {
     "data": {
      "text/plain": [
       "<matplotlib.axes._subplots.AxesSubplot at 0x11ecee450>"
      ]
     },
     "execution_count": 77,
     "metadata": {},
     "output_type": "execute_result"
    },
    {
     "data": {
      "image/png": "[encoded data removed]",
      "text/plain": [
       "<matplotlib.figure.Figure at 0x11ea615d0>"
      ]
     },
     "metadata": {},
     "output_type": "display_data"
    }
   ],
   "source": [
    "sns.distplot(ageForPlot, kde = False, bins = 50)"
   ]
  },
  {
   "cell_type": "code",
   "execution_count": 78,
   "metadata": {
    "scrolled": true
   },
   "outputs": [
    {
     "data": {
      "text/plain": [
       "52618"
      ]
     },
     "execution_count": 78,
     "metadata": {},
     "output_type": "execute_result"
    }
   ],
   "source": [
    "len(HMS.age)"
   ]
  },
  {
   "cell_type": "code",
   "execution_count": 79,
   "metadata": {},
   "outputs": [
    {
     "data": {
      "text/plain": [
       "6049"
      ]
     },
     "execution_count": 79,
     "metadata": {},
     "output_type": "execute_result"
    }
   ],
   "source": [
    "len(HMS[HMS['age'] > 30])"
   ]
  },
  {
   "cell_type": "code",
   "execution_count": 80,
   "metadata": {
    "scrolled": true
   },
   "outputs": [
    {
     "data": {
      "text/plain": [
       "16317    118.0\n",
       "3242      99.0\n",
       "12805     83.0\n",
       "40130     82.0\n",
       "40446     80.0\n",
       "24674     75.0\n",
       "34664     73.0\n",
       "8462      72.0\n",
       "26060     72.0\n",
       "2526      71.0\n",
       "16423     71.0\n",
       "20423     71.0\n",
       "33778     71.0\n",
       "36748     71.0\n",
       "52341     71.0\n",
       "403       70.0\n",
       "13566     70.0\n",
       "15292     70.0\n",
       "24918     70.0\n",
       "29341     70.0\n",
       "40385     70.0\n",
       "11988     69.0\n",
       "29477     69.0\n",
       "50214     69.0\n",
       "7777      68.0\n",
       "16630     68.0\n",
       "17382     68.0\n",
       "23898     68.0\n",
       "25928     68.0\n",
       "12281     67.0\n",
       "         ...  \n",
       "43722     64.0\n",
       "50441     64.0\n",
       "50664     64.0\n",
       "51265     64.0\n",
       "3369      63.0\n",
       "3641      63.0\n",
       "5274      63.0\n",
       "10268     63.0\n",
       "10473     63.0\n",
       "11273     63.0\n",
       "11467     63.0\n",
       "13557     63.0\n",
       "15770     63.0\n",
       "16137     63.0\n",
       "16577     63.0\n",
       "24168     63.0\n",
       "25197     63.0\n",
       "36533     63.0\n",
       "41385     63.0\n",
       "47450     63.0\n",
       "50103     63.0\n",
       "50381     63.0\n",
       "286       62.0\n",
       "3294      62.0\n",
       "3783      62.0\n",
       "5212      62.0\n",
       "8079      62.0\n",
       "8743      62.0\n",
       "10740     62.0\n",
       "10804     62.0\n",
       "Name: age, Length: 100, dtype: float64"
      ]
     },
     "execution_count": 80,
     "metadata": {},
     "output_type": "execute_result"
    }
   ],
   "source": [
    "ageForPlot.nlargest(n=100)"
   ]
  },
  {
   "cell_type": "markdown",
   "metadata": {},
   "source": [
    "### sex_birth"
   ]
  },
  {
   "cell_type": "code",
   "execution_count": 81,
   "metadata": {
    "scrolled": true
   },
   "outputs": [
    {
     "data": {
      "text/plain": [
       "<matplotlib.axes._subplots.AxesSubplot at 0x11df6f3d0>"
      ]
     },
     "execution_count": 81,
     "metadata": {},
     "output_type": "execute_result"
    },
    {
     "data": {
      "image/png": "[encoded data removed]",
      "text/plain": [
       "<matplotlib.figure.Figure at 0x11ebdfc10>"
      ]
     },
     "metadata": {},
     "output_type": "display_data"
    }
   ],
   "source": [
    "sns.countplot(x = 'sex_birth', data = HMS)"
   ]
  },
  {
   "cell_type": "markdown",
   "metadata": {},
   "source": [
    "### gender"
   ]
  },
  {
   "cell_type": "code",
   "execution_count": 82,
   "metadata": {
    "scrolled": true
   },
   "outputs": [
    {
     "data": {
      "text/plain": [
       "<matplotlib.axes._subplots.AxesSubplot at 0x11effab50>"
      ]
     },
     "execution_count": 82,
     "metadata": {},
     "output_type": "execute_result"
    },
    {
     "data": {
      "image/png": "[encoded data removed]",
      "text/plain": [
       "<matplotlib.figure.Figure at 0x11f01c310>"
      ]
     },
     "metadata": {},
     "output_type": "display_data"
    }
   ],
   "source": [
    "sns.countplot(x = 'gender', data = HMS)"
   ]
  },
  {
   "cell_type": "code",
   "execution_count": 83,
   "metadata": {
    "scrolled": true
   },
   "outputs": [
    {
     "data": {
      "text/plain": [
       "49    4705\n",
       "23    3208\n",
       "15    2679\n",
       "27    2062\n",
       "28    1732\n",
       "13    1696\n",
       "19    1671\n",
       "22    1590\n",
       "3     1559\n",
       "34    1430\n",
       "26    1257\n",
       "44    1195\n",
       "31    1137\n",
       "41    1111\n",
       "42    1038\n",
       "24    1032\n",
       "48    1010\n",
       "52     933\n",
       "45     884\n",
       "18     878\n",
       "25     843\n",
       "20     843\n",
       "7      833\n",
       "53     828\n",
       "4      796\n",
       "30     769\n",
       "2      762\n",
       "38     762\n",
       "46     758\n",
       "1      756\n",
       "8      746\n",
       "32     731\n",
       "35     730\n",
       "11     703\n",
       "43     692\n",
       "47     651\n",
       "50     597\n",
       "37     590\n",
       "16     564\n",
       "40     563\n",
       "29     531\n",
       "9      514\n",
       "33     505\n",
       "36     466\n",
       "51     457\n",
       "10     457\n",
       "12     388\n",
       "6      383\n",
       "54     375\n",
       "14     358\n",
       "39     286\n",
       "5      251\n",
       "17     177\n",
       "21     146\n",
       "Name: schoolnum, dtype: int64"
      ]
     },
     "execution_count": 83,
     "metadata": {},
     "output_type": "execute_result"
    }
   ],
   "source": [
    "HMS.schoolnum.value_counts(sort = True)"
   ]
  },
  {
   "cell_type": "markdown",
   "metadata": {},
   "source": [
    "## STEP #5: Organize data "
   ]
  },
  {
   "cell_type": "markdown",
   "metadata": {},
   "source": [
    "### 1) Extract required columns"
   ]
  },
  {
   "cell_type": "code",
   "execution_count": 84,
   "metadata": {
    "collapsed": true
   },
   "outputs": [],
   "source": [
    "# separate out standard survey modules\n",
    "HMS_ids = HMS.loc[:, 'schoolnum':'responseid']\n",
    "HMS_demo = HMS.loc[:, 'age':'disab_3']\n",
    "HMS_mhstatus = HMS.loc[:, 'diener1':'sleep_np2']\n",
    "HMS_mhhelp = HMS.loc[:, 'dx_dep1':'pay_mh']"
   ]
  },
  {
   "cell_type": "code",
   "execution_count": 85,
   "metadata": {
    "scrolled": true
   },
   "outputs": [
    {
     "data": {
      "text/html": [
       "<div>\n",
       "<style>\n",
       "    .dataframe thead tr:only-child th {\n",
       "        text-align: right;\n",
       "    }\n",
       "\n",
       "    .dataframe thead th {\n",
       "        text-align: left;\n",
       "    }\n",
       "\n",
       "    .dataframe tbody tr th {\n",
       "        vertical-align: top;\n",
       "    }\n",
       "</style>\n",
       "<table border=\"1\" class=\"dataframe\">\n",
       "  <thead>\n",
       "    <tr style=\"text-align: right;\">\n",
       "      <th></th>\n",
       "      <th>diener1</th>\n",
       "      <th>diener2</th>\n",
       "      <th>diener3</th>\n",
       "      <th>diener4</th>\n",
       "      <th>diener5</th>\n",
       "      <th>diener6</th>\n",
       "      <th>diener7</th>\n",
       "      <th>diener8</th>\n",
       "      <th>flourish</th>\n",
       "      <th>phq9_1</th>\n",
       "      <th>...</th>\n",
       "      <th>binge_fr_f</th>\n",
       "      <th>binge_fr_m</th>\n",
       "      <th>binge_fr_o</th>\n",
       "      <th>drug_other1_text</th>\n",
       "      <th>sleep_wk1</th>\n",
       "      <th>sleep_wd1</th>\n",
       "      <th>sleep_wk2</th>\n",
       "      <th>sleep_wd2</th>\n",
       "      <th>sleep_np1</th>\n",
       "      <th>sleep_np2</th>\n",
       "    </tr>\n",
       "  </thead>\n",
       "  <tbody>\n",
       "    <tr>\n",
       "      <th>0</th>\n",
       "      <td>4.0</td>\n",
       "      <td>6.0</td>\n",
       "      <td>3.0</td>\n",
       "      <td>5.0</td>\n",
       "      <td>4.0</td>\n",
       "      <td>4.0</td>\n",
       "      <td>2.0</td>\n",
       "      <td>4.0</td>\n",
       "      <td>32.0</td>\n",
       "      <td>NaN</td>\n",
       "      <td>...</td>\n",
       "      <td>NaN</td>\n",
       "      <td>NaN</td>\n",
       "      <td>NaN</td>\n",
       "      <td>NaN</td>\n",
       "      <td>13.0</td>\n",
       "      <td>14.0</td>\n",
       "      <td>19.0</td>\n",
       "      <td>22.0</td>\n",
       "      <td>1.0</td>\n",
       "      <td>NaN</td>\n",
       "    </tr>\n",
       "    <tr>\n",
       "      <th>1</th>\n",
       "      <td>7.0</td>\n",
       "      <td>5.0</td>\n",
       "      <td>5.0</td>\n",
       "      <td>5.0</td>\n",
       "      <td>3.0</td>\n",
       "      <td>6.0</td>\n",
       "      <td>6.0</td>\n",
       "      <td>3.0</td>\n",
       "      <td>40.0</td>\n",
       "      <td>NaN</td>\n",
       "      <td>...</td>\n",
       "      <td>NaN</td>\n",
       "      <td>NaN</td>\n",
       "      <td>NaN</td>\n",
       "      <td>NaN</td>\n",
       "      <td>13.0</td>\n",
       "      <td>15.0</td>\n",
       "      <td>21.0</td>\n",
       "      <td>1.0</td>\n",
       "      <td>1.0</td>\n",
       "      <td>NaN</td>\n",
       "    </tr>\n",
       "    <tr>\n",
       "      <th>2</th>\n",
       "      <td>7.0</td>\n",
       "      <td>6.0</td>\n",
       "      <td>7.0</td>\n",
       "      <td>7.0</td>\n",
       "      <td>7.0</td>\n",
       "      <td>6.0</td>\n",
       "      <td>7.0</td>\n",
       "      <td>6.0</td>\n",
       "      <td>53.0</td>\n",
       "      <td>NaN</td>\n",
       "      <td>...</td>\n",
       "      <td>NaN</td>\n",
       "      <td>NaN</td>\n",
       "      <td>NaN</td>\n",
       "      <td>NaN</td>\n",
       "      <td>NaN</td>\n",
       "      <td>NaN</td>\n",
       "      <td>NaN</td>\n",
       "      <td>NaN</td>\n",
       "      <td>NaN</td>\n",
       "      <td>NaN</td>\n",
       "    </tr>\n",
       "    <tr>\n",
       "      <th>3</th>\n",
       "      <td>6.0</td>\n",
       "      <td>6.0</td>\n",
       "      <td>6.0</td>\n",
       "      <td>6.0</td>\n",
       "      <td>6.0</td>\n",
       "      <td>5.0</td>\n",
       "      <td>5.0</td>\n",
       "      <td>4.0</td>\n",
       "      <td>44.0</td>\n",
       "      <td>NaN</td>\n",
       "      <td>...</td>\n",
       "      <td>NaN</td>\n",
       "      <td>NaN</td>\n",
       "      <td>NaN</td>\n",
       "      <td>xanax</td>\n",
       "      <td>14.0</td>\n",
       "      <td>15.0</td>\n",
       "      <td>23.0</td>\n",
       "      <td>1.0</td>\n",
       "      <td>2.0</td>\n",
       "      <td>3.0</td>\n",
       "    </tr>\n",
       "    <tr>\n",
       "      <th>4</th>\n",
       "      <td>7.0</td>\n",
       "      <td>7.0</td>\n",
       "      <td>6.0</td>\n",
       "      <td>7.0</td>\n",
       "      <td>7.0</td>\n",
       "      <td>7.0</td>\n",
       "      <td>NaN</td>\n",
       "      <td>4.0</td>\n",
       "      <td>NaN</td>\n",
       "      <td>NaN</td>\n",
       "      <td>...</td>\n",
       "      <td>NaN</td>\n",
       "      <td>NaN</td>\n",
       "      <td>NaN</td>\n",
       "      <td>NaN</td>\n",
       "      <td>16.0</td>\n",
       "      <td>15.0</td>\n",
       "      <td>18.0</td>\n",
       "      <td>1.0</td>\n",
       "      <td>1.0</td>\n",
       "      <td>NaN</td>\n",
       "    </tr>\n",
       "  </tbody>\n",
       "</table>\n",
       "<p>5 rows × 86 columns</p>\n",
       "</div>"
      ],
      "text/plain": [
       "   diener1  diener2  diener3  diener4  diener5  diener6  diener7  diener8  \\\n",
       "0      4.0      6.0      3.0      5.0      4.0      4.0      2.0      4.0   \n",
       "1      7.0      5.0      5.0      5.0      3.0      6.0      6.0      3.0   \n",
       "2      7.0      6.0      7.0      7.0      7.0      6.0      7.0      6.0   \n",
       "3      6.0      6.0      6.0      6.0      6.0      5.0      5.0      4.0   \n",
       "4      7.0      7.0      6.0      7.0      7.0      7.0      NaN      4.0   \n",
       "\n",
       "   flourish  phq9_1    ...      binge_fr_f  binge_fr_m  binge_fr_o  \\\n",
       "0      32.0     NaN    ...             NaN         NaN         NaN   \n",
       "1      40.0     NaN    ...             NaN         NaN         NaN   \n",
       "2      53.0     NaN    ...             NaN         NaN         NaN   \n",
       "3      44.0     NaN    ...             NaN         NaN         NaN   \n",
       "4       NaN     NaN    ...             NaN         NaN         NaN   \n",
       "\n",
       "   drug_other1_text  sleep_wk1  sleep_wd1  sleep_wk2  sleep_wd2  sleep_np1  \\\n",
       "0               NaN       13.0       14.0       19.0       22.0        1.0   \n",
       "1               NaN       13.0       15.0       21.0        1.0        1.0   \n",
       "2               NaN        NaN        NaN        NaN        NaN        NaN   \n",
       "3             xanax       14.0       15.0       23.0        1.0        2.0   \n",
       "4               NaN       16.0       15.0       18.0        1.0        1.0   \n",
       "\n",
       "   sleep_np2  \n",
       "0        NaN  \n",
       "1        NaN  \n",
       "2        NaN  \n",
       "3        3.0  \n",
       "4        NaN  \n",
       "\n",
       "[5 rows x 86 columns]"
      ]
     },
     "execution_count": 85,
     "metadata": {},
     "output_type": "execute_result"
    }
   ],
   "source": [
    "HMS_mhstatus.head()"
   ]
  },
  {
   "cell_type": "markdown",
   "metadata": {},
   "source": [
    "### 2) Tidy variable groups"
   ]
  },
  {
   "cell_type": "code",
   "execution_count": 86,
   "metadata": {
    "collapsed": true
   },
   "outputs": [],
   "source": [
    "def tidyCatVarGroup(varGroup, categoryName, uniqueID, numMetrics):\n",
    "    \n",
    "    # 1) convert categorical variables into dummy/indicator variables\n",
    "    dummies = pd.get_dummies(varGroup)\n",
    "    dummies.columns = varGroup.columns\n",
    "    \n",
    "    # 2) add unique ID + numerical metrics\n",
    "    dummies.insert(0, uniqueID.name, uniqueID)\n",
    "    data = dummies.join(numMetrics.apply(pd.to_numeric))\n",
    "    \n",
    "    # 3) melt data from wide to tall\n",
    "    melted_data = pd.melt(data, id_vars = list(numMetrics.columns.insert(0, uniqueID.name)), var_name = categoryName)\n",
    "    \n",
    "    # 4) Filter out all the 0 values (aka: this person doesn't identity with this race) and drop column\n",
    "    tidy_data = melted_data.loc[melted_data.loc[:,'value'] == 1]\n",
    "    tidy_data = tidy_data.drop('value', axis = 1)\n",
    "    \n",
    "    return tidy_data"
   ]
  },
  {
   "cell_type": "code",
   "execution_count": 87,
   "metadata": {
    "collapsed": true
   },
   "outputs": [],
   "source": [
    "# gather uniqueIDs and key-performance-indicators (KPIs)\n",
    "HMS_IDs = HMS_ids['responseid']\n",
    "HMS_KPIs = pd.concat([HMS_mhstatus['flourish'], HMS_mhstatus['deprawsc'], HMS_mhstatus['anx_score']], axis=1)"
   ]
  },
  {
   "cell_type": "code",
   "execution_count": 88,
   "metadata": {
    "collapsed": true
   },
   "outputs": [],
   "source": [
    "# gather main variable groups\n",
    "HMS_race = HMS.loc[:, 'race_black':'race_other']\n",
    "HMS_religion = HMS.loc[:, 'relig_aff_ag':'relig_aff_no']\n",
    "HMS_degreeType = HMS.loc[:, 'degree_ass':'degree_nd']\n",
    "HMS_fieldOfStudy = HMS.loc[:, 'field_hum':'field_other']\n",
    "HMS_activity = HMS.loc[:, 'activ_ac':'activ_none']\n",
    "HMS_disability = HMS.loc[:, 'disab_1_1':'disab_1_9']"
   ]
  },
  {
   "cell_type": "code",
   "execution_count": 89,
   "metadata": {
    "collapsed": true
   },
   "outputs": [],
   "source": [
    "# tidy variable groups\n",
    "tidy_race = tidyCatVarGroup(HMS_race, 'race', HMS_IDs, HMS_KPIs)\n",
    "tidy_religion = tidyCatVarGroup(HMS_religion, 'religion', HMS_IDs, HMS_KPIs)\n",
    "tidy_degreeType = tidyCatVarGroup(HMS_degreeType, 'degreeType', HMS_IDs, HMS_KPIs)\n",
    "tidy_fieldOfStudy = tidyCatVarGroup(HMS_fieldOfStudy, 'fieldOfStudy', HMS_IDs, HMS_KPIs)\n",
    "tidy_activity = tidyCatVarGroup(HMS_activity, 'activity', HMS_IDs, HMS_KPIs)\n",
    "tidy_disability = tidyCatVarGroup(HMS_disability, 'disability', HMS_IDs, HMS_KPIs)"
   ]
  },
  {
   "cell_type": "code",
   "execution_count": 90,
   "metadata": {},
   "outputs": [
    {
     "data": {
      "text/html": [
       "<div>\n",
       "<style>\n",
       "    .dataframe thead tr:only-child th {\n",
       "        text-align: right;\n",
       "    }\n",
       "\n",
       "    .dataframe thead th {\n",
       "        text-align: left;\n",
       "    }\n",
       "\n",
       "    .dataframe tbody tr th {\n",
       "        vertical-align: top;\n",
       "    }\n",
       "</style>\n",
       "<table border=\"1\" class=\"dataframe\">\n",
       "  <thead>\n",
       "    <tr style=\"text-align: right;\">\n",
       "      <th></th>\n",
       "      <th>responseid</th>\n",
       "      <th>flourish</th>\n",
       "      <th>deprawsc</th>\n",
       "      <th>anx_score</th>\n",
       "      <th>activity</th>\n",
       "    </tr>\n",
       "  </thead>\n",
       "  <tbody>\n",
       "    <tr>\n",
       "      <th>1</th>\n",
       "      <td>R_31yEX4Xz6bZzgUr</td>\n",
       "      <td>40.0</td>\n",
       "      <td>NaN</td>\n",
       "      <td>NaN</td>\n",
       "      <td>activ_ac</td>\n",
       "    </tr>\n",
       "    <tr>\n",
       "      <th>12</th>\n",
       "      <td>R_2tbCRbV3H8zRoy0</td>\n",
       "      <td>46.0</td>\n",
       "      <td>NaN</td>\n",
       "      <td>NaN</td>\n",
       "      <td>activ_ac</td>\n",
       "    </tr>\n",
       "    <tr>\n",
       "      <th>14</th>\n",
       "      <td>R_w7BW2IVlnRHXcI1</td>\n",
       "      <td>53.0</td>\n",
       "      <td>NaN</td>\n",
       "      <td>NaN</td>\n",
       "      <td>activ_ac</td>\n",
       "    </tr>\n",
       "    <tr>\n",
       "      <th>17</th>\n",
       "      <td>R_2CIZ2OyHCiIhFUf</td>\n",
       "      <td>48.0</td>\n",
       "      <td>NaN</td>\n",
       "      <td>NaN</td>\n",
       "      <td>activ_ac</td>\n",
       "    </tr>\n",
       "    <tr>\n",
       "      <th>23</th>\n",
       "      <td>R_aVPuYwPez3JrQ8V</td>\n",
       "      <td>56.0</td>\n",
       "      <td>NaN</td>\n",
       "      <td>NaN</td>\n",
       "      <td>activ_ac</td>\n",
       "    </tr>\n",
       "  </tbody>\n",
       "</table>\n",
       "</div>"
      ],
      "text/plain": [
       "           responseid  flourish  deprawsc  anx_score  activity\n",
       "1   R_31yEX4Xz6bZzgUr      40.0       NaN        NaN  activ_ac\n",
       "12  R_2tbCRbV3H8zRoy0      46.0       NaN        NaN  activ_ac\n",
       "14  R_w7BW2IVlnRHXcI1      53.0       NaN        NaN  activ_ac\n",
       "17  R_2CIZ2OyHCiIhFUf      48.0       NaN        NaN  activ_ac\n",
       "23  R_aVPuYwPez3JrQ8V      56.0       NaN        NaN  activ_ac"
      ]
     },
     "execution_count": 90,
     "metadata": {},
     "output_type": "execute_result"
    }
   ],
   "source": [
    "tidy_activity.head()"
   ]
  },
  {
   "cell_type": "code",
   "execution_count": null,
   "metadata": {
    "collapsed": true
   },
   "outputs": [],
   "source": []
  }
 ],
 "metadata": {
  "kernelspec": {
   "display_name": "Python 2",
   "language": "python",
   "name": "python2"
  },
  "language_info": {
   "codemirror_mode": {
    "name": "ipython",
    "version": 2
   },
   "file_extension": ".py",
   "mimetype": "text/x-python",
   "name": "python",
   "nbconvert_exporter": "python",
   "pygments_lexer": "ipython2",
   "version": "2.7.13"
  }
 },
 "nbformat": 4,
 "nbformat_minor": 2
}
