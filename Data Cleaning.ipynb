{
 "cells": [
  {
   "cell_type": "markdown",
   "metadata": {},
   "source": [
    "# HMS Capstone - Data Cleaning\n",
    "## By: AJ Goldstein (https://github.com/ajva1996)"
   ]
  },
  {
   "cell_type": "code",
   "execution_count": 62,
   "metadata": {
    "collapsed": true
   },
   "outputs": [],
   "source": [
    "from __future__ import division\n",
    "import pandas as pd\n",
    "import numpy as np\n",
    "\n",
    "import matplotlib.pyplot as plt\n",
    "import seaborn as sns\n",
    "sns.set_context(\"talk\")\n",
    "\n",
    "import warnings\n",
    "warnings.filterwarnings('ignore')\n",
    "%matplotlib inline"
   ]
  },
  {
   "cell_type": "markdown",
   "metadata": {},
   "source": [
    "## STEP #1: Read in dataset from .csv"
   ]
  },
  {
   "cell_type": "code",
   "execution_count": 63,
   "metadata": {
    "collapsed": true
   },
   "outputs": [],
   "source": [
    "# read in dataset as DataFrame\n",
    "HMS = pd.read_csv('2016-2017.csv')"
   ]
  },
  {
   "cell_type": "code",
   "execution_count": 64,
   "metadata": {
    "collapsed": true
   },
   "outputs": [],
   "source": [
    "# replace Excel NULL's with Python NaN's\n",
    "HMS = HMS.replace(['#NULL!'], [np.NaN])"
   ]
  },
  {
   "cell_type": "markdown",
   "metadata": {},
   "source": [
    "## STEP #2: Conduct high-level diagnostics"
   ]
  },
  {
   "cell_type": "code",
   "execution_count": 65,
   "metadata": {
    "scrolled": false
   },
   "outputs": [
    {
     "data": {
      "text/html": [
       "<div>\n",
       "<style>\n",
       "    .dataframe thead tr:only-child th {\n",
       "        text-align: right;\n",
       "    }\n",
       "\n",
       "    .dataframe thead th {\n",
       "        text-align: left;\n",
       "    }\n",
       "\n",
       "    .dataframe tbody tr th {\n",
       "        vertical-align: top;\n",
       "    }\n",
       "</style>\n",
       "<table border=\"1\" class=\"dataframe\">\n",
       "  <thead>\n",
       "    <tr style=\"text-align: right;\">\n",
       "      <th></th>\n",
       "      <th>survey</th>\n",
       "      <th>schoolnum</th>\n",
       "      <th>nrweight</th>\n",
       "      <th>responseid</th>\n",
       "      <th>age</th>\n",
       "      <th>sex_birth</th>\n",
       "      <th>gender</th>\n",
       "      <th>gender_text</th>\n",
       "      <th>sexual</th>\n",
       "      <th>sexual_text</th>\n",
       "      <th>...</th>\n",
       "      <th>talk2pro</th>\n",
       "      <th>talk2adv</th>\n",
       "      <th>talk2ofa</th>\n",
       "      <th>talk2ta</th>\n",
       "      <th>talk2sta</th>\n",
       "      <th>talk2dea</th>\n",
       "      <th>talk2oth</th>\n",
       "      <th>talk2noo</th>\n",
       "      <th>viol_victim</th>\n",
       "      <th>ret_confid_y</th>\n",
       "    </tr>\n",
       "  </thead>\n",
       "  <tbody>\n",
       "    <tr>\n",
       "      <th>53755</th>\n",
       "      <td>NaN</td>\n",
       "      <td>NaN</td>\n",
       "      <td>1.43</td>\n",
       "      <td>R_1dnNevp7EG1R8Ht</td>\n",
       "      <td>NaN</td>\n",
       "      <td>NaN</td>\n",
       "      <td>NaN</td>\n",
       "      <td>NaN</td>\n",
       "      <td>NaN</td>\n",
       "      <td>NaN</td>\n",
       "      <td>...</td>\n",
       "      <td>0</td>\n",
       "      <td>0</td>\n",
       "      <td>0</td>\n",
       "      <td>0</td>\n",
       "      <td>0</td>\n",
       "      <td>0</td>\n",
       "      <td>0</td>\n",
       "      <td>0</td>\n",
       "      <td>NaN</td>\n",
       "      <td>NaN</td>\n",
       "    </tr>\n",
       "    <tr>\n",
       "      <th>53756</th>\n",
       "      <td>NaN</td>\n",
       "      <td>NaN</td>\n",
       "      <td>1.13</td>\n",
       "      <td>R_30uhu9O9lvYtFG5</td>\n",
       "      <td>NaN</td>\n",
       "      <td>NaN</td>\n",
       "      <td>NaN</td>\n",
       "      <td>NaN</td>\n",
       "      <td>NaN</td>\n",
       "      <td>NaN</td>\n",
       "      <td>...</td>\n",
       "      <td>0</td>\n",
       "      <td>0</td>\n",
       "      <td>0</td>\n",
       "      <td>0</td>\n",
       "      <td>0</td>\n",
       "      <td>0</td>\n",
       "      <td>0</td>\n",
       "      <td>0</td>\n",
       "      <td>NaN</td>\n",
       "      <td>NaN</td>\n",
       "    </tr>\n",
       "    <tr>\n",
       "      <th>53757</th>\n",
       "      <td>NaN</td>\n",
       "      <td>NaN</td>\n",
       "      <td>1.73</td>\n",
       "      <td>R_20O11J6JJ29G3G1</td>\n",
       "      <td>NaN</td>\n",
       "      <td>NaN</td>\n",
       "      <td>NaN</td>\n",
       "      <td>NaN</td>\n",
       "      <td>NaN</td>\n",
       "      <td>NaN</td>\n",
       "      <td>...</td>\n",
       "      <td>0</td>\n",
       "      <td>0</td>\n",
       "      <td>0</td>\n",
       "      <td>0</td>\n",
       "      <td>0</td>\n",
       "      <td>0</td>\n",
       "      <td>0</td>\n",
       "      <td>0</td>\n",
       "      <td>NaN</td>\n",
       "      <td>NaN</td>\n",
       "    </tr>\n",
       "    <tr>\n",
       "      <th>53758</th>\n",
       "      <td>NaN</td>\n",
       "      <td>NaN</td>\n",
       "      <td>0.24</td>\n",
       "      <td>R_3j0Qwrmw8gELHgm</td>\n",
       "      <td>NaN</td>\n",
       "      <td>NaN</td>\n",
       "      <td>NaN</td>\n",
       "      <td>NaN</td>\n",
       "      <td>NaN</td>\n",
       "      <td>NaN</td>\n",
       "      <td>...</td>\n",
       "      <td>0</td>\n",
       "      <td>0</td>\n",
       "      <td>0</td>\n",
       "      <td>0</td>\n",
       "      <td>0</td>\n",
       "      <td>0</td>\n",
       "      <td>0</td>\n",
       "      <td>0</td>\n",
       "      <td>NaN</td>\n",
       "      <td>NaN</td>\n",
       "    </tr>\n",
       "    <tr>\n",
       "      <th>53759</th>\n",
       "      <td>NaN</td>\n",
       "      <td>NaN</td>\n",
       "      <td>1.13</td>\n",
       "      <td>R_zeFliYhCqHgUBi1</td>\n",
       "      <td>NaN</td>\n",
       "      <td>NaN</td>\n",
       "      <td>NaN</td>\n",
       "      <td>NaN</td>\n",
       "      <td>NaN</td>\n",
       "      <td>NaN</td>\n",
       "      <td>...</td>\n",
       "      <td>0</td>\n",
       "      <td>0</td>\n",
       "      <td>0</td>\n",
       "      <td>0</td>\n",
       "      <td>0</td>\n",
       "      <td>0</td>\n",
       "      <td>0</td>\n",
       "      <td>0</td>\n",
       "      <td>NaN</td>\n",
       "      <td>NaN</td>\n",
       "    </tr>\n",
       "  </tbody>\n",
       "</table>\n",
       "<p>5 rows × 1581 columns</p>\n",
       "</div>"
      ],
      "text/plain": [
       "      survey schoolnum  nrweight         responseid  age sex_birth gender  \\\n",
       "53755    NaN       NaN      1.43  R_1dnNevp7EG1R8Ht  NaN       NaN    NaN   \n",
       "53756    NaN       NaN      1.13  R_30uhu9O9lvYtFG5  NaN       NaN    NaN   \n",
       "53757    NaN       NaN      1.73  R_20O11J6JJ29G3G1  NaN       NaN    NaN   \n",
       "53758    NaN       NaN      0.24  R_3j0Qwrmw8gELHgm  NaN       NaN    NaN   \n",
       "53759    NaN       NaN      1.13  R_zeFliYhCqHgUBi1  NaN       NaN    NaN   \n",
       "\n",
       "      gender_text sexual sexual_text     ...      talk2pro talk2adv talk2ofa  \\\n",
       "53755         NaN    NaN         NaN     ...             0        0        0   \n",
       "53756         NaN    NaN         NaN     ...             0        0        0   \n",
       "53757         NaN    NaN         NaN     ...             0        0        0   \n",
       "53758         NaN    NaN         NaN     ...             0        0        0   \n",
       "53759         NaN    NaN         NaN     ...             0        0        0   \n",
       "\n",
       "      talk2ta talk2sta talk2dea talk2oth talk2noo viol_victim ret_confid_y  \n",
       "53755       0        0        0        0        0         NaN          NaN  \n",
       "53756       0        0        0        0        0         NaN          NaN  \n",
       "53757       0        0        0        0        0         NaN          NaN  \n",
       "53758       0        0        0        0        0         NaN          NaN  \n",
       "53759       0        0        0        0        0         NaN          NaN  \n",
       "\n",
       "[5 rows x 1581 columns]"
      ]
     },
     "execution_count": 65,
     "metadata": {},
     "output_type": "execute_result"
    }
   ],
   "source": [
    "HMS.head() # all good here\n",
    "HMS.tail() # identified missing values"
   ]
  },
  {
   "cell_type": "code",
   "execution_count": 66,
   "metadata": {},
   "outputs": [
    {
     "data": {
      "text/plain": [
       "HMS Winter 2017         34795\n",
       "HMS Fall 2016           12515\n",
       "HMS Winter 2017 CCMH     5308\n",
       "NaN                      1142\n",
       "Name: survey, dtype: int64"
      ]
     },
     "execution_count": 66,
     "metadata": {},
     "output_type": "execute_result"
    }
   ],
   "source": [
    "HMS.survey.value_counts(dropna = False) # 1142 missing values"
   ]
  },
  {
   "cell_type": "code",
   "execution_count": 67,
   "metadata": {},
   "outputs": [
    {
     "data": {
      "text/plain": [
       "(53760, 1581)"
      ]
     },
     "execution_count": 67,
     "metadata": {},
     "output_type": "execute_result"
    }
   ],
   "source": [
    "HMS.shape # 53760 students x 1581 variables"
   ]
  },
  {
   "cell_type": "code",
   "execution_count": 68,
   "metadata": {
    "scrolled": true
   },
   "outputs": [
    {
     "name": "stdout",
     "output_type": "stream",
     "text": [
      "<class 'pandas.core.frame.DataFrame'>\n",
      "RangeIndex: 53760 entries, 0 to 53759\n",
      "Columns: 1581 entries, survey to ret_confid_y\n",
      "dtypes: float64(7), int64(88), object(1486)\n",
      "memory usage: 648.5+ MB\n"
     ]
    }
   ],
   "source": [
    "HMS.info(null_counts = True) # identified dtype issues"
   ]
  },
  {
   "cell_type": "code",
   "execution_count": 69,
   "metadata": {
    "scrolled": true
   },
   "outputs": [
    {
     "data": {
      "text/html": [
       "<div>\n",
       "<style>\n",
       "    .dataframe thead tr:only-child th {\n",
       "        text-align: right;\n",
       "    }\n",
       "\n",
       "    .dataframe thead th {\n",
       "        text-align: left;\n",
       "    }\n",
       "\n",
       "    .dataframe tbody tr th {\n",
       "        vertical-align: top;\n",
       "    }\n",
       "</style>\n",
       "<table border=\"1\" class=\"dataframe\">\n",
       "  <thead>\n",
       "    <tr style=\"text-align: right;\">\n",
       "      <th></th>\n",
       "      <th>survey</th>\n",
       "      <th>schoolnum</th>\n",
       "      <th>nrweight</th>\n",
       "      <th>responseid</th>\n",
       "      <th>age</th>\n",
       "      <th>sex_birth</th>\n",
       "      <th>gender</th>\n",
       "      <th>gender_text</th>\n",
       "      <th>sexual</th>\n",
       "      <th>sexual_text</th>\n",
       "      <th>...</th>\n",
       "      <th>talk2pro</th>\n",
       "      <th>talk2adv</th>\n",
       "      <th>talk2ofa</th>\n",
       "      <th>talk2ta</th>\n",
       "      <th>talk2sta</th>\n",
       "      <th>talk2dea</th>\n",
       "      <th>talk2oth</th>\n",
       "      <th>talk2noo</th>\n",
       "      <th>viol_victim</th>\n",
       "      <th>ret_confid_y</th>\n",
       "    </tr>\n",
       "  </thead>\n",
       "  <tbody>\n",
       "    <tr>\n",
       "      <th>count</th>\n",
       "      <td>52618</td>\n",
       "      <td>52618.0</td>\n",
       "      <td>53760.000000</td>\n",
       "      <td>53760</td>\n",
       "      <td>52618.0</td>\n",
       "      <td>52548</td>\n",
       "      <td>52536</td>\n",
       "      <td>314</td>\n",
       "      <td>52345</td>\n",
       "      <td>1691</td>\n",
       "      <td>...</td>\n",
       "      <td>53760.000000</td>\n",
       "      <td>53760.000000</td>\n",
       "      <td>53760.000000</td>\n",
       "      <td>53760.000000</td>\n",
       "      <td>53760.000000</td>\n",
       "      <td>53760.000000</td>\n",
       "      <td>53760.000000</td>\n",
       "      <td>53760.000000</td>\n",
       "      <td>47828</td>\n",
       "      <td>50826</td>\n",
       "    </tr>\n",
       "    <tr>\n",
       "      <th>unique</th>\n",
       "      <td>3</td>\n",
       "      <td>55.0</td>\n",
       "      <td>NaN</td>\n",
       "      <td>53760</td>\n",
       "      <td>85.0</td>\n",
       "      <td>6</td>\n",
       "      <td>12</td>\n",
       "      <td>208</td>\n",
       "      <td>12</td>\n",
       "      <td>438</td>\n",
       "      <td>...</td>\n",
       "      <td>NaN</td>\n",
       "      <td>NaN</td>\n",
       "      <td>NaN</td>\n",
       "      <td>NaN</td>\n",
       "      <td>NaN</td>\n",
       "      <td>NaN</td>\n",
       "      <td>NaN</td>\n",
       "      <td>NaN</td>\n",
       "      <td>2</td>\n",
       "      <td>2</td>\n",
       "    </tr>\n",
       "    <tr>\n",
       "      <th>top</th>\n",
       "      <td>HMS Winter 2017</td>\n",
       "      <td>49.0</td>\n",
       "      <td>NaN</td>\n",
       "      <td>R_CayJ2kVp6Mr9PBD</td>\n",
       "      <td>21.0</td>\n",
       "      <td>1</td>\n",
       "      <td>2</td>\n",
       "      <td>Agender</td>\n",
       "      <td>1</td>\n",
       "      <td>Pansexual</td>\n",
       "      <td>...</td>\n",
       "      <td>NaN</td>\n",
       "      <td>NaN</td>\n",
       "      <td>NaN</td>\n",
       "      <td>NaN</td>\n",
       "      <td>NaN</td>\n",
       "      <td>NaN</td>\n",
       "      <td>NaN</td>\n",
       "      <td>NaN</td>\n",
       "      <td>0</td>\n",
       "      <td>1</td>\n",
       "    </tr>\n",
       "    <tr>\n",
       "      <th>freq</th>\n",
       "      <td>34795</td>\n",
       "      <td>4705.0</td>\n",
       "      <td>NaN</td>\n",
       "      <td>1</td>\n",
       "      <td>7473.0</td>\n",
       "      <td>18123</td>\n",
       "      <td>20099</td>\n",
       "      <td>20</td>\n",
       "      <td>39932</td>\n",
       "      <td>324</td>\n",
       "      <td>...</td>\n",
       "      <td>NaN</td>\n",
       "      <td>NaN</td>\n",
       "      <td>NaN</td>\n",
       "      <td>NaN</td>\n",
       "      <td>NaN</td>\n",
       "      <td>NaN</td>\n",
       "      <td>NaN</td>\n",
       "      <td>NaN</td>\n",
       "      <td>44951</td>\n",
       "      <td>42367</td>\n",
       "    </tr>\n",
       "    <tr>\n",
       "      <th>mean</th>\n",
       "      <td>NaN</td>\n",
       "      <td>NaN</td>\n",
       "      <td>1.028820</td>\n",
       "      <td>NaN</td>\n",
       "      <td>NaN</td>\n",
       "      <td>NaN</td>\n",
       "      <td>NaN</td>\n",
       "      <td>NaN</td>\n",
       "      <td>NaN</td>\n",
       "      <td>NaN</td>\n",
       "      <td>...</td>\n",
       "      <td>0.302269</td>\n",
       "      <td>0.280004</td>\n",
       "      <td>0.060789</td>\n",
       "      <td>0.020182</td>\n",
       "      <td>0.117839</td>\n",
       "      <td>0.040513</td>\n",
       "      <td>0.315644</td>\n",
       "      <td>0.058557</td>\n",
       "      <td>NaN</td>\n",
       "      <td>NaN</td>\n",
       "    </tr>\n",
       "    <tr>\n",
       "      <th>std</th>\n",
       "      <td>NaN</td>\n",
       "      <td>NaN</td>\n",
       "      <td>0.944637</td>\n",
       "      <td>NaN</td>\n",
       "      <td>NaN</td>\n",
       "      <td>NaN</td>\n",
       "      <td>NaN</td>\n",
       "      <td>NaN</td>\n",
       "      <td>NaN</td>\n",
       "      <td>NaN</td>\n",
       "      <td>...</td>\n",
       "      <td>0.459246</td>\n",
       "      <td>0.449005</td>\n",
       "      <td>0.238945</td>\n",
       "      <td>0.140625</td>\n",
       "      <td>0.322420</td>\n",
       "      <td>0.197162</td>\n",
       "      <td>0.464776</td>\n",
       "      <td>0.234795</td>\n",
       "      <td>NaN</td>\n",
       "      <td>NaN</td>\n",
       "    </tr>\n",
       "    <tr>\n",
       "      <th>min</th>\n",
       "      <td>NaN</td>\n",
       "      <td>NaN</td>\n",
       "      <td>0.080000</td>\n",
       "      <td>NaN</td>\n",
       "      <td>NaN</td>\n",
       "      <td>NaN</td>\n",
       "      <td>NaN</td>\n",
       "      <td>NaN</td>\n",
       "      <td>NaN</td>\n",
       "      <td>NaN</td>\n",
       "      <td>...</td>\n",
       "      <td>0.000000</td>\n",
       "      <td>0.000000</td>\n",
       "      <td>0.000000</td>\n",
       "      <td>0.000000</td>\n",
       "      <td>0.000000</td>\n",
       "      <td>0.000000</td>\n",
       "      <td>0.000000</td>\n",
       "      <td>0.000000</td>\n",
       "      <td>NaN</td>\n",
       "      <td>NaN</td>\n",
       "    </tr>\n",
       "    <tr>\n",
       "      <th>25%</th>\n",
       "      <td>NaN</td>\n",
       "      <td>NaN</td>\n",
       "      <td>0.480000</td>\n",
       "      <td>NaN</td>\n",
       "      <td>NaN</td>\n",
       "      <td>NaN</td>\n",
       "      <td>NaN</td>\n",
       "      <td>NaN</td>\n",
       "      <td>NaN</td>\n",
       "      <td>NaN</td>\n",
       "      <td>...</td>\n",
       "      <td>0.000000</td>\n",
       "      <td>0.000000</td>\n",
       "      <td>0.000000</td>\n",
       "      <td>0.000000</td>\n",
       "      <td>0.000000</td>\n",
       "      <td>0.000000</td>\n",
       "      <td>0.000000</td>\n",
       "      <td>0.000000</td>\n",
       "      <td>NaN</td>\n",
       "      <td>NaN</td>\n",
       "    </tr>\n",
       "    <tr>\n",
       "      <th>50%</th>\n",
       "      <td>NaN</td>\n",
       "      <td>NaN</td>\n",
       "      <td>0.820000</td>\n",
       "      <td>NaN</td>\n",
       "      <td>NaN</td>\n",
       "      <td>NaN</td>\n",
       "      <td>NaN</td>\n",
       "      <td>NaN</td>\n",
       "      <td>NaN</td>\n",
       "      <td>NaN</td>\n",
       "      <td>...</td>\n",
       "      <td>0.000000</td>\n",
       "      <td>0.000000</td>\n",
       "      <td>0.000000</td>\n",
       "      <td>0.000000</td>\n",
       "      <td>0.000000</td>\n",
       "      <td>0.000000</td>\n",
       "      <td>0.000000</td>\n",
       "      <td>0.000000</td>\n",
       "      <td>NaN</td>\n",
       "      <td>NaN</td>\n",
       "    </tr>\n",
       "    <tr>\n",
       "      <th>75%</th>\n",
       "      <td>NaN</td>\n",
       "      <td>NaN</td>\n",
       "      <td>1.270000</td>\n",
       "      <td>NaN</td>\n",
       "      <td>NaN</td>\n",
       "      <td>NaN</td>\n",
       "      <td>NaN</td>\n",
       "      <td>NaN</td>\n",
       "      <td>NaN</td>\n",
       "      <td>NaN</td>\n",
       "      <td>...</td>\n",
       "      <td>1.000000</td>\n",
       "      <td>1.000000</td>\n",
       "      <td>0.000000</td>\n",
       "      <td>0.000000</td>\n",
       "      <td>0.000000</td>\n",
       "      <td>0.000000</td>\n",
       "      <td>1.000000</td>\n",
       "      <td>0.000000</td>\n",
       "      <td>NaN</td>\n",
       "      <td>NaN</td>\n",
       "    </tr>\n",
       "    <tr>\n",
       "      <th>max</th>\n",
       "      <td>NaN</td>\n",
       "      <td>NaN</td>\n",
       "      <td>23.350000</td>\n",
       "      <td>NaN</td>\n",
       "      <td>NaN</td>\n",
       "      <td>NaN</td>\n",
       "      <td>NaN</td>\n",
       "      <td>NaN</td>\n",
       "      <td>NaN</td>\n",
       "      <td>NaN</td>\n",
       "      <td>...</td>\n",
       "      <td>1.000000</td>\n",
       "      <td>1.000000</td>\n",
       "      <td>1.000000</td>\n",
       "      <td>1.000000</td>\n",
       "      <td>1.000000</td>\n",
       "      <td>1.000000</td>\n",
       "      <td>1.000000</td>\n",
       "      <td>1.000000</td>\n",
       "      <td>NaN</td>\n",
       "      <td>NaN</td>\n",
       "    </tr>\n",
       "  </tbody>\n",
       "</table>\n",
       "<p>11 rows × 1581 columns</p>\n",
       "</div>"
      ],
      "text/plain": [
       "                 survey  schoolnum      nrweight         responseid      age  \\\n",
       "count             52618    52618.0  53760.000000              53760  52618.0   \n",
       "unique                3       55.0           NaN              53760     85.0   \n",
       "top     HMS Winter 2017       49.0           NaN  R_CayJ2kVp6Mr9PBD     21.0   \n",
       "freq              34795     4705.0           NaN                  1   7473.0   \n",
       "mean                NaN        NaN      1.028820                NaN      NaN   \n",
       "std                 NaN        NaN      0.944637                NaN      NaN   \n",
       "min                 NaN        NaN      0.080000                NaN      NaN   \n",
       "25%                 NaN        NaN      0.480000                NaN      NaN   \n",
       "50%                 NaN        NaN      0.820000                NaN      NaN   \n",
       "75%                 NaN        NaN      1.270000                NaN      NaN   \n",
       "max                 NaN        NaN     23.350000                NaN      NaN   \n",
       "\n",
       "       sex_birth gender gender_text sexual sexual_text     ...       \\\n",
       "count      52548  52536         314  52345        1691     ...        \n",
       "unique         6     12         208     12         438     ...        \n",
       "top            1      2     Agender      1   Pansexual     ...        \n",
       "freq       18123  20099          20  39932         324     ...        \n",
       "mean         NaN    NaN         NaN    NaN         NaN     ...        \n",
       "std          NaN    NaN         NaN    NaN         NaN     ...        \n",
       "min          NaN    NaN         NaN    NaN         NaN     ...        \n",
       "25%          NaN    NaN         NaN    NaN         NaN     ...        \n",
       "50%          NaN    NaN         NaN    NaN         NaN     ...        \n",
       "75%          NaN    NaN         NaN    NaN         NaN     ...        \n",
       "max          NaN    NaN         NaN    NaN         NaN     ...        \n",
       "\n",
       "            talk2pro      talk2adv      talk2ofa       talk2ta      talk2sta  \\\n",
       "count   53760.000000  53760.000000  53760.000000  53760.000000  53760.000000   \n",
       "unique           NaN           NaN           NaN           NaN           NaN   \n",
       "top              NaN           NaN           NaN           NaN           NaN   \n",
       "freq             NaN           NaN           NaN           NaN           NaN   \n",
       "mean        0.302269      0.280004      0.060789      0.020182      0.117839   \n",
       "std         0.459246      0.449005      0.238945      0.140625      0.322420   \n",
       "min         0.000000      0.000000      0.000000      0.000000      0.000000   \n",
       "25%         0.000000      0.000000      0.000000      0.000000      0.000000   \n",
       "50%         0.000000      0.000000      0.000000      0.000000      0.000000   \n",
       "75%         1.000000      1.000000      0.000000      0.000000      0.000000   \n",
       "max         1.000000      1.000000      1.000000      1.000000      1.000000   \n",
       "\n",
       "            talk2dea      talk2oth      talk2noo viol_victim ret_confid_y  \n",
       "count   53760.000000  53760.000000  53760.000000       47828        50826  \n",
       "unique           NaN           NaN           NaN           2            2  \n",
       "top              NaN           NaN           NaN           0            1  \n",
       "freq             NaN           NaN           NaN       44951        42367  \n",
       "mean        0.040513      0.315644      0.058557         NaN          NaN  \n",
       "std         0.197162      0.464776      0.234795         NaN          NaN  \n",
       "min         0.000000      0.000000      0.000000         NaN          NaN  \n",
       "25%         0.000000      0.000000      0.000000         NaN          NaN  \n",
       "50%         0.000000      0.000000      0.000000         NaN          NaN  \n",
       "75%         0.000000      1.000000      0.000000         NaN          NaN  \n",
       "max         1.000000      1.000000      1.000000         NaN          NaN  \n",
       "\n",
       "[11 rows x 1581 columns]"
      ]
     },
     "execution_count": 69,
     "metadata": {},
     "output_type": "execute_result"
    }
   ],
   "source": [
    "HMS.describe(include = 'all') # investigated dtype issues"
   ]
  },
  {
   "cell_type": "markdown",
   "metadata": {},
   "source": [
    "## STEP #3: Clean data"
   ]
  },
  {
   "cell_type": "markdown",
   "metadata": {},
   "source": [
    "### 1) check for duplicate rows"
   ]
  },
  {
   "cell_type": "code",
   "execution_count": 70,
   "metadata": {},
   "outputs": [
    {
     "name": "stdout",
     "output_type": "stream",
     "text": [
      "no duplicate rows!\n"
     ]
    }
   ],
   "source": [
    "print('no duplicate rows!') if not any(HMS.duplicated()) else 'duplicates present!'"
   ]
  },
  {
   "cell_type": "markdown",
   "metadata": {},
   "source": [
    "### 2) address missing values"
   ]
  },
  {
   "cell_type": "code",
   "execution_count": 71,
   "metadata": {
    "collapsed": true
   },
   "outputs": [],
   "source": [
    "# remove students who didn't complete the survey\n",
    "HMS = HMS[pd.notnull(HMS['survey'])]"
   ]
  },
  {
   "cell_type": "markdown",
   "metadata": {},
   "source": [
    "### 3) convert datatypes"
   ]
  },
  {
   "cell_type": "code",
   "execution_count": 72,
   "metadata": {
    "scrolled": true
   },
   "outputs": [
    {
     "data": {
      "text/plain": [
       "object     1486\n",
       "int64        88\n",
       "float64       7\n",
       "dtype: int64"
      ]
     },
     "execution_count": 72,
     "metadata": {},
     "output_type": "execute_result"
    }
   ],
   "source": [
    "# BEFORE: nearly all 'object' datatypes\n",
    "HMS.dtypes.value_counts()"
   ]
  },
  {
   "cell_type": "code",
   "execution_count": 73,
   "metadata": {
    "collapsed": true
   },
   "outputs": [],
   "source": [
    "# DURING: convert all *non-string* columns to a 'numeric' datatype\n",
    "HMS = HMS.apply(pd.to_numeric, errors = 'ignore')"
   ]
  },
  {
   "cell_type": "code",
   "execution_count": 74,
   "metadata": {
    "scrolled": false
   },
   "outputs": [
    {
     "data": {
      "text/plain": [
       "float64    1434\n",
       "int64        89\n",
       "object       58\n",
       "dtype: int64"
      ]
     },
     "execution_count": 74,
     "metadata": {},
     "output_type": "execute_result"
    }
   ],
   "source": [
    "# AFTER: nearly all 'float64' datatypes\n",
    "HMS.dtypes.value_counts()"
   ]
  },
  {
   "cell_type": "markdown",
   "metadata": {},
   "source": [
    "## STEP #4: Check for outliers"
   ]
  },
  {
   "cell_type": "markdown",
   "metadata": {},
   "source": [
    "### survey type"
   ]
  },
  {
   "cell_type": "code",
   "execution_count": 75,
   "metadata": {
    "scrolled": true
   },
   "outputs": [
    {
     "data": {
      "image/png": "[encoded data removed]",
      "text/plain": [
       "<matplotlib.figure.Figure at 0x11cf96790>"
      ]
     },
     "metadata": {},
     "output_type": "display_data"
    }
   ],
   "source": [
    "sns.countplot(y = 'survey', data= HMS); # seems normal"
   ]
  },
  {
   "cell_type": "markdown",
   "metadata": {},
   "source": [
    "### schoolnum respondents"
   ]
  },
  {
   "cell_type": "code",
   "execution_count": 76,
   "metadata": {},
   "outputs": [
    {
     "data": {
      "image/png": "[encoded data removed]",
      "text/plain": [
       "<matplotlib.figure.Figure at 0x11fcb1a90>"
      ]
     },
     "metadata": {},
     "output_type": "display_data"
    }
   ],
   "source": [
    "sns.countplot(x = 'schoolnum', data = HMS); # interesting distribution"
   ]
  },
  {
   "cell_type": "markdown",
   "metadata": {},
   "source": [
    "### age"
   ]
  },
  {
   "cell_type": "code",
   "execution_count": 77,
   "metadata": {},
   "outputs": [
    {
     "name": "stdout",
     "output_type": "stream",
     "text": [
      "('removed:', 18.100000000000001)\n",
      "('removed:', 0.0)\n",
      "('removed:', 19.5)\n",
      "('removed:', 21.5)\n"
     ]
    }
   ],
   "source": [
    "# remove decimal or 0-value ages\n",
    "for idx, age in enumerate(HMS.age):\n",
    "    if (not age.is_integer()) or (age == 0):\n",
    "        HMS.age = HMS.age.drop([idx])\n",
    "        print('removed:',age)"
   ]
  },
  {
   "cell_type": "code",
   "execution_count": 78,
   "metadata": {
    "scrolled": true
   },
   "outputs": [
    {
     "data": {
      "image/png": "[encoded data removed]",
      "text/plain": [
       "<matplotlib.figure.Figure at 0x11f6a6190>"
      ]
     },
     "metadata": {},
     "output_type": "display_data"
    }
   ],
   "source": [
    "# plot histograpm of age distribution\n",
    "ageForPlot = pd.to_numeric(HMS.age).dropna()\n",
    "sns.distplot(ageForPlot, kde = False);"
   ]
  },
  {
   "cell_type": "code",
   "execution_count": 79,
   "metadata": {
    "scrolled": false
   },
   "outputs": [
    {
     "data": {
      "text/plain": [
       "16317    118.0\n",
       "3242      99.0\n",
       "12805     83.0\n",
       "40130     82.0\n",
       "40446     80.0\n",
       "24674     75.0\n",
       "34664     73.0\n",
       "8462      72.0\n",
       "Name: age, dtype: float64"
      ]
     },
     "execution_count": 79,
     "metadata": {},
     "output_type": "execute_result"
    }
   ],
   "source": [
    "# check oldest reported ages\n",
    "ageForPlot.nlargest(n=8)"
   ]
  },
  {
   "cell_type": "code",
   "execution_count": 80,
   "metadata": {
    "scrolled": false
   },
   "outputs": [
    {
     "name": "stdout",
     "output_type": "stream",
     "text": [
      "('percent over 25 years old:', 0.23503363867877913)\n",
      "('percent over 30 years old:', 0.11496065985024136)\n",
      "('percent over 35 years old:', 0.06663119084723859)\n"
     ]
    }
   ],
   "source": [
    "# check percentage of older age groups\n",
    "print('percent over 25 years old:', len(HMS[HMS['age'] > 25])/len(HMS.age))\n",
    "print('percent over 30 years old:', len(HMS[HMS['age'] > 30])/len(HMS.age))\n",
    "print('percent over 35 years old:', len(HMS[HMS['age'] > 35])/len(HMS.age))"
   ]
  },
  {
   "cell_type": "markdown",
   "metadata": {},
   "source": [
    "### NOTE: I decided to remove respondents over 30 years old (as outliers)"
   ]
  },
  {
   "cell_type": "code",
   "execution_count": 81,
   "metadata": {
    "collapsed": true,
    "scrolled": true
   },
   "outputs": [],
   "source": [
    "# remove participants over 30 years old\n",
    "HMS = HMS[HMS['age'] < 30]"
   ]
  },
  {
   "cell_type": "markdown",
   "metadata": {},
   "source": [
    "### sex_birth"
   ]
  },
  {
   "cell_type": "code",
   "execution_count": 82,
   "metadata": {
    "scrolled": true
   },
   "outputs": [
    {
     "data": {
      "image/png": "[encoded data removed]",
      "text/plain": [
       "<matplotlib.figure.Figure at 0x11cf96a90>"
      ]
     },
     "metadata": {},
     "output_type": "display_data"
    }
   ],
   "source": [
    "ax = sns.countplot(x = 'sex_birth', data = HMS);\n",
    "ax.set_xticklabels(['Male', 'Female']);"
   ]
  },
  {
   "cell_type": "markdown",
   "metadata": {},
   "source": [
    "### sexuality"
   ]
  },
  {
   "cell_type": "code",
   "execution_count": 83,
   "metadata": {},
   "outputs": [
    {
     "data": {
      "image/png": "[encoded data removed]",
      "text/plain": [
       "<matplotlib.figure.Figure at 0x11f6a2310>"
      ]
     },
     "metadata": {},
     "output_type": "display_data"
    }
   ],
   "source": [
    "ax = sns.countplot(x = 'sexual', data = HMS);\n",
    "ax.set_xticklabels(['Straight', 'Bisexual', 'Gay', 'Questioning', 'Other']);"
   ]
  },
  {
   "cell_type": "markdown",
   "metadata": {},
   "source": [
    "## STEP #5: Organize data "
   ]
  },
  {
   "cell_type": "markdown",
   "metadata": {},
   "source": [
    "### 1) Extract required columns"
   ]
  },
  {
   "cell_type": "code",
   "execution_count": 84,
   "metadata": {
    "collapsed": true
   },
   "outputs": [],
   "source": [
    "# separate out standard survey modules\n",
    "HMS_ids = HMS.loc[:, 'schoolnum':'responseid']\n",
    "HMS_demo = HMS.loc[:, 'age':'disab_3']\n",
    "HMS_mhstatus = HMS.loc[:, 'diener1':'sleep_np2']\n",
    "HMS_mhhelp = HMS.loc[:, 'dx_dep1':'pay_mh']\n",
    "\n",
    "# get AAQ scores, sum them, & convert 0's to NaN\n",
    "HMS_aaq = HMS.loc[:, 'AAQ_1':'AAQ_7']\n",
    "HMS_aaq['AAQ_total'] = HMS_aaq.sum(axis=1)\n",
    "HMS_aaq.AAQ_total[HMS_aaq.AAQ_total == 0.0] = np.NaN"
   ]
  },
  {
   "cell_type": "code",
   "execution_count": 85,
   "metadata": {
    "scrolled": true
   },
   "outputs": [
    {
     "name": "stdout",
     "output_type": "stream",
     "text": [
      "('total IDs:', 45756)\n"
     ]
    }
   ],
   "source": [
    "HMS_ids.head(3)\n",
    "print('total IDs:',len(HMS_ids.dropna(axis=0, how='all')))"
   ]
  },
  {
   "cell_type": "code",
   "execution_count": 86,
   "metadata": {},
   "outputs": [
    {
     "name": "stdout",
     "output_type": "stream",
     "text": [
      "('total demographics:', 45756)\n"
     ]
    }
   ],
   "source": [
    "HMS_demo.head(3)\n",
    "print('total demographics:',len(HMS_demo.dropna(axis=0, how='all')))"
   ]
  },
  {
   "cell_type": "code",
   "execution_count": 87,
   "metadata": {},
   "outputs": [
    {
     "name": "stdout",
     "output_type": "stream",
     "text": [
      "('total MH status:', 43441)\n"
     ]
    }
   ],
   "source": [
    "HMS_mhstatus.head(3)\n",
    "print('total MH status:',len(HMS_mhstatus.dropna(axis=0, how='all')))"
   ]
  },
  {
   "cell_type": "code",
   "execution_count": 88,
   "metadata": {},
   "outputs": [
    {
     "name": "stdout",
     "output_type": "stream",
     "text": [
      "('total MH help:', 41188)\n"
     ]
    }
   ],
   "source": [
    "print('total MH help:',len(HMS_mhhelp.dropna(axis=0, how='all')))"
   ]
  },
  {
   "cell_type": "code",
   "execution_count": 89,
   "metadata": {},
   "outputs": [
    {
     "name": "stdout",
     "output_type": "stream",
     "text": [
      "('total AAQ scores:', 24725)\n"
     ]
    }
   ],
   "source": [
    "HMS_aaq.head(3)\n",
    "print('total AAQ scores:',len(HMS_aaq.dropna(axis=0, how='any')))"
   ]
  },
  {
   "cell_type": "markdown",
   "metadata": {},
   "source": [
    "## STEP #6: Convert data from wide to tall"
   ]
  },
  {
   "cell_type": "markdown",
   "metadata": {},
   "source": [
    "### 1) Write tidy data function"
   ]
  },
  {
   "cell_type": "code",
   "execution_count": 90,
   "metadata": {
    "collapsed": true
   },
   "outputs": [],
   "source": [
    "def tidyCatVarGroup(varGroup, categoryName, uniqueID, numMetrics):\n",
    "    \n",
    "    # 1) convert categorical variables into dummy/indicator variables\n",
    "    dummies = pd.get_dummies(varGroup)\n",
    "    dummies.columns = varGroup.columns\n",
    "    \n",
    "    # 2) add unique ID + numerical metrics\n",
    "    dummies.insert(0, uniqueID.name, uniqueID)\n",
    "    data = dummies.join(numMetrics.apply(pd.to_numeric))\n",
    "    \n",
    "    # 3) melt data from wide to tall\n",
    "    melted_data = pd.melt(data, id_vars = list(numMetrics.columns.insert(0, uniqueID.name)), var_name = categoryName)\n",
    "    \n",
    "    # 4) Filter out all the 0 values (aka: this person doesn't identity with this race) and drop column\n",
    "    tidy_data = melted_data.loc[melted_data.loc[:,'value'] == 1]\n",
    "    tidy_data = tidy_data.drop('value', axis = 1)\n",
    "    \n",
    "    return tidy_data"
   ]
  },
  {
   "cell_type": "markdown",
   "metadata": {},
   "source": [
    "### 2) Gather ID's, KPI's, & variable groups"
   ]
  },
  {
   "cell_type": "code",
   "execution_count": 91,
   "metadata": {
    "collapsed": true
   },
   "outputs": [],
   "source": [
    "# gather uniqueIDs\n",
    "HMS_IDs = HMS_ids['responseid']"
   ]
  },
  {
   "cell_type": "code",
   "execution_count": 92,
   "metadata": {
    "collapsed": true
   },
   "outputs": [],
   "source": [
    "# gather mental health key-performance-indicators (KPIs)\n",
    "HMS_KPIs = pd.concat([HMS_mhstatus['flourish'], HMS_mhstatus['deprawsc'],\n",
    "                      HMS_mhstatus['anx_score'], HMS_aaq['AAQ_total']], axis=1)"
   ]
  },
  {
   "cell_type": "code",
   "execution_count": 93,
   "metadata": {
    "collapsed": true
   },
   "outputs": [],
   "source": [
    "# gather main variable groups\n",
    "HMS_race = HMS.loc[:, 'race_black':'race_other']\n",
    "HMS_religion = HMS.loc[:, 'relig_aff_ag':'relig_aff_oth']\n",
    "HMS_degreeType = HMS.loc[:, 'degree_ass':'degree_nd']\n",
    "HMS_fieldOfStudy = HMS.loc[:, 'field_hum':'field_other']\n",
    "HMS_activity = HMS.loc[:, 'activ_ac':'activ_none']"
   ]
  },
  {
   "cell_type": "markdown",
   "metadata": {},
   "source": [
    "### 3) Tidy data (wide to tall)"
   ]
  },
  {
   "cell_type": "code",
   "execution_count": 94,
   "metadata": {
    "collapsed": true
   },
   "outputs": [],
   "source": [
    "# tidy variable groups\n",
    "tidy_race = tidyCatVarGroup(HMS_race, 'race', HMS_IDs, HMS_KPIs)\n",
    "tidy_religion = tidyCatVarGroup(HMS_religion, 'religion', HMS_IDs, HMS_KPIs)\n",
    "tidy_degreeType = tidyCatVarGroup(HMS_degreeType, 'degreeType', HMS_IDs, HMS_KPIs)\n",
    "tidy_fieldOfStudy = tidyCatVarGroup(HMS_fieldOfStudy, 'fieldOfStudy', HMS_IDs, HMS_KPIs)\n",
    "tidy_activity = tidyCatVarGroup(HMS_activity, 'activity', HMS_IDs, HMS_KPIs)\n",
    "\n",
    "# gather other variables too\n",
    "tidy_age = pd.DataFrame(HMS_IDs).join(HMS_KPIs.apply(pd.to_numeric)).join(HMS.age)\n",
    "tidy_gender = pd.DataFrame(HMS_IDs).join(HMS_KPIs.apply(pd.to_numeric)).join(HMS.gender)\n",
    "tidy_relig = pd.DataFrame(HMS_IDs).join(HMS_KPIs.apply(pd.to_numeric)).join(HMS.religios)"
   ]
  },
  {
   "cell_type": "code",
   "execution_count": 95,
   "metadata": {
    "scrolled": true
   },
   "outputs": [
    {
     "data": {
      "text/html": [
       "<div>\n",
       "<style>\n",
       "    .dataframe thead tr:only-child th {\n",
       "        text-align: right;\n",
       "    }\n",
       "\n",
       "    .dataframe thead th {\n",
       "        text-align: left;\n",
       "    }\n",
       "\n",
       "    .dataframe tbody tr th {\n",
       "        vertical-align: top;\n",
       "    }\n",
       "</style>\n",
       "<table border=\"1\" class=\"dataframe\">\n",
       "  <thead>\n",
       "    <tr style=\"text-align: right;\">\n",
       "      <th></th>\n",
       "      <th>responseid</th>\n",
       "      <th>flourish</th>\n",
       "      <th>deprawsc</th>\n",
       "      <th>anx_score</th>\n",
       "      <th>AAQ_total</th>\n",
       "      <th>race</th>\n",
       "    </tr>\n",
       "  </thead>\n",
       "  <tbody>\n",
       "    <tr>\n",
       "      <th>16</th>\n",
       "      <td>R_1gvZNcJatOt9lEi</td>\n",
       "      <td>49.0</td>\n",
       "      <td>NaN</td>\n",
       "      <td>NaN</td>\n",
       "      <td>NaN</td>\n",
       "      <td>race_black</td>\n",
       "    </tr>\n",
       "    <tr>\n",
       "      <th>34</th>\n",
       "      <td>R_1JOq1q31fzyKpXu</td>\n",
       "      <td>45.0</td>\n",
       "      <td>NaN</td>\n",
       "      <td>NaN</td>\n",
       "      <td>NaN</td>\n",
       "      <td>race_black</td>\n",
       "    </tr>\n",
       "    <tr>\n",
       "      <th>40</th>\n",
       "      <td>R_2xwWffFvNbw4BOp</td>\n",
       "      <td>NaN</td>\n",
       "      <td>NaN</td>\n",
       "      <td>NaN</td>\n",
       "      <td>NaN</td>\n",
       "      <td>race_black</td>\n",
       "    </tr>\n",
       "    <tr>\n",
       "      <th>49</th>\n",
       "      <td>R_27kz8oG4lLC41TA</td>\n",
       "      <td>43.0</td>\n",
       "      <td>NaN</td>\n",
       "      <td>NaN</td>\n",
       "      <td>NaN</td>\n",
       "      <td>race_black</td>\n",
       "    </tr>\n",
       "    <tr>\n",
       "      <th>73</th>\n",
       "      <td>R_1NC8EpaqcDX0CLm</td>\n",
       "      <td>52.0</td>\n",
       "      <td>NaN</td>\n",
       "      <td>NaN</td>\n",
       "      <td>NaN</td>\n",
       "      <td>race_black</td>\n",
       "    </tr>\n",
       "  </tbody>\n",
       "</table>\n",
       "</div>"
      ],
      "text/plain": [
       "           responseid  flourish  deprawsc  anx_score  AAQ_total        race\n",
       "16  R_1gvZNcJatOt9lEi      49.0       NaN        NaN        NaN  race_black\n",
       "34  R_1JOq1q31fzyKpXu      45.0       NaN        NaN        NaN  race_black\n",
       "40  R_2xwWffFvNbw4BOp       NaN       NaN        NaN        NaN  race_black\n",
       "49  R_27kz8oG4lLC41TA      43.0       NaN        NaN        NaN  race_black\n",
       "73  R_1NC8EpaqcDX0CLm      52.0       NaN        NaN        NaN  race_black"
      ]
     },
     "execution_count": 95,
     "metadata": {},
     "output_type": "execute_result"
    }
   ],
   "source": [
    "# preview tidy data\n",
    "tidy_race.head()"
   ]
  },
  {
   "cell_type": "markdown",
   "metadata": {},
   "source": [
    "## STEP #7: Pass variables to next Jupyter notebook"
   ]
  },
  {
   "cell_type": "code",
   "execution_count": 96,
   "metadata": {
    "scrolled": true
   },
   "outputs": [
    {
     "name": "stdout",
     "output_type": "stream",
     "text": [
      "Stored 'HMS' (DataFrame)\n",
      "Stored 'HMS_ids' (DataFrame)\n",
      "Stored 'HMS_demo' (DataFrame)\n",
      "Stored 'HMS_mhstatus' (DataFrame)\n",
      "Stored 'HMS_mhhelp' (DataFrame)\n",
      "Stored 'HMS_aaq' (DataFrame)\n",
      "Stored 'tidy_race' (DataFrame)\n",
      "Stored 'tidy_religion' (DataFrame)\n",
      "Stored 'tidy_degreeType' (DataFrame)\n",
      "Stored 'tidy_fieldOfStudy' (DataFrame)\n",
      "Stored 'tidy_activity' (DataFrame)\n",
      "Stored 'tidy_age' (DataFrame)\n",
      "Stored 'tidy_gender' (DataFrame)\n",
      "Stored 'tidy_relig' (DataFrame)\n"
     ]
    }
   ],
   "source": [
    "# cleaned dataset\n",
    "%store HMS\n",
    "\n",
    "# separated modules\n",
    "%store HMS_ids\n",
    "%store HMS_demo\n",
    "%store HMS_mhstatus\n",
    "%store HMS_mhhelp\n",
    "%store HMS_aaq\n",
    "\n",
    "# tidy variable groups\n",
    "%store tidy_race\n",
    "%store tidy_religion\n",
    "%store tidy_degreeType\n",
    "%store tidy_fieldOfStudy\n",
    "%store tidy_activity\n",
    "%store tidy_age\n",
    "%store tidy_gender\n",
    "%store tidy_relig"
   ]
  }
 ],
 "metadata": {
  "kernelspec": {
   "display_name": "Python [default]",
   "language": "python",
   "name": "python2"
  },
  "language_info": {
   "codemirror_mode": {
    "name": "ipython",
    "version": 2
   },
   "file_extension": ".py",
   "mimetype": "text/x-python",
   "name": "python",
   "nbconvert_exporter": "python",
   "pygments_lexer": "ipython2",
   "version": "2.7.13"
  }
 },
 "nbformat": 4,
 "nbformat_minor": 2
}
