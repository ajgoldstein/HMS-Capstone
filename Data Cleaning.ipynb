{
 "cells": [
  {
   "cell_type": "markdown",
   "metadata": {},
   "source": [
    "# HMS Capstone - Data Cleaning"
   ]
  },
  {
   "cell_type": "code",
   "execution_count": 2,
   "metadata": {
    "collapsed": true
   },
   "outputs": [],
   "source": [
    "from __future__ import division\n",
    "import pandas as pd\n",
    "import numpy as np\n",
    "import matplotlib.pyplot as plt\n",
    "import seaborn as sns\n",
    "import warnings\n",
    "warnings.filterwarnings('ignore')\n",
    "%matplotlib inline"
   ]
  },
  {
   "cell_type": "markdown",
   "metadata": {},
   "source": [
    "## Read in dataset from .csv"
   ]
  },
  {
   "cell_type": "code",
   "execution_count": 3,
   "metadata": {
    "collapsed": true
   },
   "outputs": [],
   "source": [
    "# read in dataset as DataFrame\n",
    "HMS = pd.read_csv('2016-2017.csv')"
   ]
  },
  {
   "cell_type": "code",
   "execution_count": 4,
   "metadata": {
    "collapsed": true
   },
   "outputs": [],
   "source": [
    "# replace Excel NULL's with Python NaN's\n",
    "HMS = HMS.replace(['#NULL!'], [np.NaN])"
   ]
  },
  {
   "cell_type": "markdown",
   "metadata": {},
   "source": [
    "## Conduct high-level diagnostics"
   ]
  },
  {
   "cell_type": "code",
   "execution_count": 5,
   "metadata": {
    "scrolled": false
   },
   "outputs": [
    {
     "data": {
      "text/html": [
       "<div>\n",
       "<style>\n",
       "    .dataframe thead tr:only-child th {\n",
       "        text-align: right;\n",
       "    }\n",
       "\n",
       "    .dataframe thead th {\n",
       "        text-align: left;\n",
       "    }\n",
       "\n",
       "    .dataframe tbody tr th {\n",
       "        vertical-align: top;\n",
       "    }\n",
       "</style>\n",
       "<table border=\"1\" class=\"dataframe\">\n",
       "  <thead>\n",
       "    <tr style=\"text-align: right;\">\n",
       "      <th></th>\n",
       "      <th>survey</th>\n",
       "      <th>schoolnum</th>\n",
       "      <th>nrweight</th>\n",
       "      <th>responseid</th>\n",
       "      <th>age</th>\n",
       "      <th>sex_birth</th>\n",
       "      <th>gender</th>\n",
       "      <th>gender_text</th>\n",
       "      <th>sexual</th>\n",
       "      <th>sexual_text</th>\n",
       "      <th>...</th>\n",
       "      <th>talk2pro</th>\n",
       "      <th>talk2adv</th>\n",
       "      <th>talk2ofa</th>\n",
       "      <th>talk2ta</th>\n",
       "      <th>talk2sta</th>\n",
       "      <th>talk2dea</th>\n",
       "      <th>talk2oth</th>\n",
       "      <th>talk2noo</th>\n",
       "      <th>viol_victim</th>\n",
       "      <th>ret_confid_y</th>\n",
       "    </tr>\n",
       "  </thead>\n",
       "  <tbody>\n",
       "    <tr>\n",
       "      <th>53755</th>\n",
       "      <td>NaN</td>\n",
       "      <td>NaN</td>\n",
       "      <td>1.43</td>\n",
       "      <td>R_1dnNevp7EG1R8Ht</td>\n",
       "      <td>NaN</td>\n",
       "      <td>NaN</td>\n",
       "      <td>NaN</td>\n",
       "      <td>NaN</td>\n",
       "      <td>NaN</td>\n",
       "      <td>NaN</td>\n",
       "      <td>...</td>\n",
       "      <td>0</td>\n",
       "      <td>0</td>\n",
       "      <td>0</td>\n",
       "      <td>0</td>\n",
       "      <td>0</td>\n",
       "      <td>0</td>\n",
       "      <td>0</td>\n",
       "      <td>0</td>\n",
       "      <td>NaN</td>\n",
       "      <td>NaN</td>\n",
       "    </tr>\n",
       "    <tr>\n",
       "      <th>53756</th>\n",
       "      <td>NaN</td>\n",
       "      <td>NaN</td>\n",
       "      <td>1.13</td>\n",
       "      <td>R_30uhu9O9lvYtFG5</td>\n",
       "      <td>NaN</td>\n",
       "      <td>NaN</td>\n",
       "      <td>NaN</td>\n",
       "      <td>NaN</td>\n",
       "      <td>NaN</td>\n",
       "      <td>NaN</td>\n",
       "      <td>...</td>\n",
       "      <td>0</td>\n",
       "      <td>0</td>\n",
       "      <td>0</td>\n",
       "      <td>0</td>\n",
       "      <td>0</td>\n",
       "      <td>0</td>\n",
       "      <td>0</td>\n",
       "      <td>0</td>\n",
       "      <td>NaN</td>\n",
       "      <td>NaN</td>\n",
       "    </tr>\n",
       "    <tr>\n",
       "      <th>53757</th>\n",
       "      <td>NaN</td>\n",
       "      <td>NaN</td>\n",
       "      <td>1.73</td>\n",
       "      <td>R_20O11J6JJ29G3G1</td>\n",
       "      <td>NaN</td>\n",
       "      <td>NaN</td>\n",
       "      <td>NaN</td>\n",
       "      <td>NaN</td>\n",
       "      <td>NaN</td>\n",
       "      <td>NaN</td>\n",
       "      <td>...</td>\n",
       "      <td>0</td>\n",
       "      <td>0</td>\n",
       "      <td>0</td>\n",
       "      <td>0</td>\n",
       "      <td>0</td>\n",
       "      <td>0</td>\n",
       "      <td>0</td>\n",
       "      <td>0</td>\n",
       "      <td>NaN</td>\n",
       "      <td>NaN</td>\n",
       "    </tr>\n",
       "    <tr>\n",
       "      <th>53758</th>\n",
       "      <td>NaN</td>\n",
       "      <td>NaN</td>\n",
       "      <td>0.24</td>\n",
       "      <td>R_3j0Qwrmw8gELHgm</td>\n",
       "      <td>NaN</td>\n",
       "      <td>NaN</td>\n",
       "      <td>NaN</td>\n",
       "      <td>NaN</td>\n",
       "      <td>NaN</td>\n",
       "      <td>NaN</td>\n",
       "      <td>...</td>\n",
       "      <td>0</td>\n",
       "      <td>0</td>\n",
       "      <td>0</td>\n",
       "      <td>0</td>\n",
       "      <td>0</td>\n",
       "      <td>0</td>\n",
       "      <td>0</td>\n",
       "      <td>0</td>\n",
       "      <td>NaN</td>\n",
       "      <td>NaN</td>\n",
       "    </tr>\n",
       "    <tr>\n",
       "      <th>53759</th>\n",
       "      <td>NaN</td>\n",
       "      <td>NaN</td>\n",
       "      <td>1.13</td>\n",
       "      <td>R_zeFliYhCqHgUBi1</td>\n",
       "      <td>NaN</td>\n",
       "      <td>NaN</td>\n",
       "      <td>NaN</td>\n",
       "      <td>NaN</td>\n",
       "      <td>NaN</td>\n",
       "      <td>NaN</td>\n",
       "      <td>...</td>\n",
       "      <td>0</td>\n",
       "      <td>0</td>\n",
       "      <td>0</td>\n",
       "      <td>0</td>\n",
       "      <td>0</td>\n",
       "      <td>0</td>\n",
       "      <td>0</td>\n",
       "      <td>0</td>\n",
       "      <td>NaN</td>\n",
       "      <td>NaN</td>\n",
       "    </tr>\n",
       "  </tbody>\n",
       "</table>\n",
       "<p>5 rows × 1581 columns</p>\n",
       "</div>"
      ],
      "text/plain": [
       "      survey schoolnum  nrweight         responseid  age sex_birth gender  \\\n",
       "53755    NaN       NaN      1.43  R_1dnNevp7EG1R8Ht  NaN       NaN    NaN   \n",
       "53756    NaN       NaN      1.13  R_30uhu9O9lvYtFG5  NaN       NaN    NaN   \n",
       "53757    NaN       NaN      1.73  R_20O11J6JJ29G3G1  NaN       NaN    NaN   \n",
       "53758    NaN       NaN      0.24  R_3j0Qwrmw8gELHgm  NaN       NaN    NaN   \n",
       "53759    NaN       NaN      1.13  R_zeFliYhCqHgUBi1  NaN       NaN    NaN   \n",
       "\n",
       "      gender_text sexual sexual_text     ...      talk2pro talk2adv talk2ofa  \\\n",
       "53755         NaN    NaN         NaN     ...             0        0        0   \n",
       "53756         NaN    NaN         NaN     ...             0        0        0   \n",
       "53757         NaN    NaN         NaN     ...             0        0        0   \n",
       "53758         NaN    NaN         NaN     ...             0        0        0   \n",
       "53759         NaN    NaN         NaN     ...             0        0        0   \n",
       "\n",
       "      talk2ta talk2sta talk2dea talk2oth talk2noo viol_victim ret_confid_y  \n",
       "53755       0        0        0        0        0         NaN          NaN  \n",
       "53756       0        0        0        0        0         NaN          NaN  \n",
       "53757       0        0        0        0        0         NaN          NaN  \n",
       "53758       0        0        0        0        0         NaN          NaN  \n",
       "53759       0        0        0        0        0         NaN          NaN  \n",
       "\n",
       "[5 rows x 1581 columns]"
      ]
     },
     "execution_count": 5,
     "metadata": {},
     "output_type": "execute_result"
    }
   ],
   "source": [
    "HMS.head() # all good here\n",
    "HMS.tail() # identified missing values"
   ]
  },
  {
   "cell_type": "code",
   "execution_count": 6,
   "metadata": {},
   "outputs": [
    {
     "data": {
      "text/plain": [
       "HMS Winter 2017         34795\n",
       "HMS Fall 2016           12515\n",
       "HMS Winter 2017 CCMH     5308\n",
       "NaN                      1142\n",
       "Name: survey, dtype: int64"
      ]
     },
     "execution_count": 6,
     "metadata": {},
     "output_type": "execute_result"
    }
   ],
   "source": [
    "HMS.survey.value_counts(dropna = False) # 1142 missing values"
   ]
  },
  {
   "cell_type": "code",
   "execution_count": 7,
   "metadata": {},
   "outputs": [
    {
     "data": {
      "text/plain": [
       "(53760, 1581)"
      ]
     },
     "execution_count": 7,
     "metadata": {},
     "output_type": "execute_result"
    }
   ],
   "source": [
    "HMS.shape # 53760 students x 1581 variables"
   ]
  },
  {
   "cell_type": "code",
   "execution_count": 8,
   "metadata": {},
   "outputs": [
    {
     "name": "stdout",
     "output_type": "stream",
     "text": [
      "<class 'pandas.core.frame.DataFrame'>\n",
      "RangeIndex: 53760 entries, 0 to 53759\n",
      "Columns: 1581 entries, survey to ret_confid_y\n",
      "dtypes: float64(7), int64(88), object(1486)\n",
      "memory usage: 648.5+ MB\n"
     ]
    }
   ],
   "source": [
    "HMS.info(null_counts = True) # identified dtype issues"
   ]
  },
  {
   "cell_type": "code",
   "execution_count": 9,
   "metadata": {},
   "outputs": [
    {
     "data": {
      "text/html": [
       "<div>\n",
       "<style>\n",
       "    .dataframe thead tr:only-child th {\n",
       "        text-align: right;\n",
       "    }\n",
       "\n",
       "    .dataframe thead th {\n",
       "        text-align: left;\n",
       "    }\n",
       "\n",
       "    .dataframe tbody tr th {\n",
       "        vertical-align: top;\n",
       "    }\n",
       "</style>\n",
       "<table border=\"1\" class=\"dataframe\">\n",
       "  <thead>\n",
       "    <tr style=\"text-align: right;\">\n",
       "      <th></th>\n",
       "      <th>survey</th>\n",
       "      <th>schoolnum</th>\n",
       "      <th>nrweight</th>\n",
       "      <th>responseid</th>\n",
       "      <th>age</th>\n",
       "      <th>sex_birth</th>\n",
       "      <th>gender</th>\n",
       "      <th>gender_text</th>\n",
       "      <th>sexual</th>\n",
       "      <th>sexual_text</th>\n",
       "      <th>...</th>\n",
       "      <th>talk2pro</th>\n",
       "      <th>talk2adv</th>\n",
       "      <th>talk2ofa</th>\n",
       "      <th>talk2ta</th>\n",
       "      <th>talk2sta</th>\n",
       "      <th>talk2dea</th>\n",
       "      <th>talk2oth</th>\n",
       "      <th>talk2noo</th>\n",
       "      <th>viol_victim</th>\n",
       "      <th>ret_confid_y</th>\n",
       "    </tr>\n",
       "  </thead>\n",
       "  <tbody>\n",
       "    <tr>\n",
       "      <th>count</th>\n",
       "      <td>52618</td>\n",
       "      <td>52618.0</td>\n",
       "      <td>53760.000000</td>\n",
       "      <td>53760</td>\n",
       "      <td>52618.0</td>\n",
       "      <td>52548</td>\n",
       "      <td>52536</td>\n",
       "      <td>314</td>\n",
       "      <td>52345</td>\n",
       "      <td>1691</td>\n",
       "      <td>...</td>\n",
       "      <td>53760.000000</td>\n",
       "      <td>53760.000000</td>\n",
       "      <td>53760.000000</td>\n",
       "      <td>53760.000000</td>\n",
       "      <td>53760.000000</td>\n",
       "      <td>53760.000000</td>\n",
       "      <td>53760.000000</td>\n",
       "      <td>53760.000000</td>\n",
       "      <td>47828</td>\n",
       "      <td>50826</td>\n",
       "    </tr>\n",
       "    <tr>\n",
       "      <th>unique</th>\n",
       "      <td>3</td>\n",
       "      <td>55.0</td>\n",
       "      <td>NaN</td>\n",
       "      <td>53760</td>\n",
       "      <td>85.0</td>\n",
       "      <td>6</td>\n",
       "      <td>12</td>\n",
       "      <td>208</td>\n",
       "      <td>12</td>\n",
       "      <td>438</td>\n",
       "      <td>...</td>\n",
       "      <td>NaN</td>\n",
       "      <td>NaN</td>\n",
       "      <td>NaN</td>\n",
       "      <td>NaN</td>\n",
       "      <td>NaN</td>\n",
       "      <td>NaN</td>\n",
       "      <td>NaN</td>\n",
       "      <td>NaN</td>\n",
       "      <td>2</td>\n",
       "      <td>2</td>\n",
       "    </tr>\n",
       "    <tr>\n",
       "      <th>top</th>\n",
       "      <td>HMS Winter 2017</td>\n",
       "      <td>49.0</td>\n",
       "      <td>NaN</td>\n",
       "      <td>R_CayJ2kVp6Mr9PBD</td>\n",
       "      <td>21.0</td>\n",
       "      <td>1</td>\n",
       "      <td>2</td>\n",
       "      <td>Agender</td>\n",
       "      <td>1</td>\n",
       "      <td>Pansexual</td>\n",
       "      <td>...</td>\n",
       "      <td>NaN</td>\n",
       "      <td>NaN</td>\n",
       "      <td>NaN</td>\n",
       "      <td>NaN</td>\n",
       "      <td>NaN</td>\n",
       "      <td>NaN</td>\n",
       "      <td>NaN</td>\n",
       "      <td>NaN</td>\n",
       "      <td>0</td>\n",
       "      <td>1</td>\n",
       "    </tr>\n",
       "    <tr>\n",
       "      <th>freq</th>\n",
       "      <td>34795</td>\n",
       "      <td>4705.0</td>\n",
       "      <td>NaN</td>\n",
       "      <td>1</td>\n",
       "      <td>7473.0</td>\n",
       "      <td>18123</td>\n",
       "      <td>20099</td>\n",
       "      <td>20</td>\n",
       "      <td>39932</td>\n",
       "      <td>324</td>\n",
       "      <td>...</td>\n",
       "      <td>NaN</td>\n",
       "      <td>NaN</td>\n",
       "      <td>NaN</td>\n",
       "      <td>NaN</td>\n",
       "      <td>NaN</td>\n",
       "      <td>NaN</td>\n",
       "      <td>NaN</td>\n",
       "      <td>NaN</td>\n",
       "      <td>44951</td>\n",
       "      <td>42367</td>\n",
       "    </tr>\n",
       "    <tr>\n",
       "      <th>mean</th>\n",
       "      <td>NaN</td>\n",
       "      <td>NaN</td>\n",
       "      <td>1.028820</td>\n",
       "      <td>NaN</td>\n",
       "      <td>NaN</td>\n",
       "      <td>NaN</td>\n",
       "      <td>NaN</td>\n",
       "      <td>NaN</td>\n",
       "      <td>NaN</td>\n",
       "      <td>NaN</td>\n",
       "      <td>...</td>\n",
       "      <td>0.302269</td>\n",
       "      <td>0.280004</td>\n",
       "      <td>0.060789</td>\n",
       "      <td>0.020182</td>\n",
       "      <td>0.117839</td>\n",
       "      <td>0.040513</td>\n",
       "      <td>0.315644</td>\n",
       "      <td>0.058557</td>\n",
       "      <td>NaN</td>\n",
       "      <td>NaN</td>\n",
       "    </tr>\n",
       "    <tr>\n",
       "      <th>std</th>\n",
       "      <td>NaN</td>\n",
       "      <td>NaN</td>\n",
       "      <td>0.944637</td>\n",
       "      <td>NaN</td>\n",
       "      <td>NaN</td>\n",
       "      <td>NaN</td>\n",
       "      <td>NaN</td>\n",
       "      <td>NaN</td>\n",
       "      <td>NaN</td>\n",
       "      <td>NaN</td>\n",
       "      <td>...</td>\n",
       "      <td>0.459246</td>\n",
       "      <td>0.449005</td>\n",
       "      <td>0.238945</td>\n",
       "      <td>0.140625</td>\n",
       "      <td>0.322420</td>\n",
       "      <td>0.197162</td>\n",
       "      <td>0.464776</td>\n",
       "      <td>0.234795</td>\n",
       "      <td>NaN</td>\n",
       "      <td>NaN</td>\n",
       "    </tr>\n",
       "    <tr>\n",
       "      <th>min</th>\n",
       "      <td>NaN</td>\n",
       "      <td>NaN</td>\n",
       "      <td>0.080000</td>\n",
       "      <td>NaN</td>\n",
       "      <td>NaN</td>\n",
       "      <td>NaN</td>\n",
       "      <td>NaN</td>\n",
       "      <td>NaN</td>\n",
       "      <td>NaN</td>\n",
       "      <td>NaN</td>\n",
       "      <td>...</td>\n",
       "      <td>0.000000</td>\n",
       "      <td>0.000000</td>\n",
       "      <td>0.000000</td>\n",
       "      <td>0.000000</td>\n",
       "      <td>0.000000</td>\n",
       "      <td>0.000000</td>\n",
       "      <td>0.000000</td>\n",
       "      <td>0.000000</td>\n",
       "      <td>NaN</td>\n",
       "      <td>NaN</td>\n",
       "    </tr>\n",
       "    <tr>\n",
       "      <th>25%</th>\n",
       "      <td>NaN</td>\n",
       "      <td>NaN</td>\n",
       "      <td>0.480000</td>\n",
       "      <td>NaN</td>\n",
       "      <td>NaN</td>\n",
       "      <td>NaN</td>\n",
       "      <td>NaN</td>\n",
       "      <td>NaN</td>\n",
       "      <td>NaN</td>\n",
       "      <td>NaN</td>\n",
       "      <td>...</td>\n",
       "      <td>0.000000</td>\n",
       "      <td>0.000000</td>\n",
       "      <td>0.000000</td>\n",
       "      <td>0.000000</td>\n",
       "      <td>0.000000</td>\n",
       "      <td>0.000000</td>\n",
       "      <td>0.000000</td>\n",
       "      <td>0.000000</td>\n",
       "      <td>NaN</td>\n",
       "      <td>NaN</td>\n",
       "    </tr>\n",
       "    <tr>\n",
       "      <th>50%</th>\n",
       "      <td>NaN</td>\n",
       "      <td>NaN</td>\n",
       "      <td>0.820000</td>\n",
       "      <td>NaN</td>\n",
       "      <td>NaN</td>\n",
       "      <td>NaN</td>\n",
       "      <td>NaN</td>\n",
       "      <td>NaN</td>\n",
       "      <td>NaN</td>\n",
       "      <td>NaN</td>\n",
       "      <td>...</td>\n",
       "      <td>0.000000</td>\n",
       "      <td>0.000000</td>\n",
       "      <td>0.000000</td>\n",
       "      <td>0.000000</td>\n",
       "      <td>0.000000</td>\n",
       "      <td>0.000000</td>\n",
       "      <td>0.000000</td>\n",
       "      <td>0.000000</td>\n",
       "      <td>NaN</td>\n",
       "      <td>NaN</td>\n",
       "    </tr>\n",
       "    <tr>\n",
       "      <th>75%</th>\n",
       "      <td>NaN</td>\n",
       "      <td>NaN</td>\n",
       "      <td>1.270000</td>\n",
       "      <td>NaN</td>\n",
       "      <td>NaN</td>\n",
       "      <td>NaN</td>\n",
       "      <td>NaN</td>\n",
       "      <td>NaN</td>\n",
       "      <td>NaN</td>\n",
       "      <td>NaN</td>\n",
       "      <td>...</td>\n",
       "      <td>1.000000</td>\n",
       "      <td>1.000000</td>\n",
       "      <td>0.000000</td>\n",
       "      <td>0.000000</td>\n",
       "      <td>0.000000</td>\n",
       "      <td>0.000000</td>\n",
       "      <td>1.000000</td>\n",
       "      <td>0.000000</td>\n",
       "      <td>NaN</td>\n",
       "      <td>NaN</td>\n",
       "    </tr>\n",
       "    <tr>\n",
       "      <th>max</th>\n",
       "      <td>NaN</td>\n",
       "      <td>NaN</td>\n",
       "      <td>23.350000</td>\n",
       "      <td>NaN</td>\n",
       "      <td>NaN</td>\n",
       "      <td>NaN</td>\n",
       "      <td>NaN</td>\n",
       "      <td>NaN</td>\n",
       "      <td>NaN</td>\n",
       "      <td>NaN</td>\n",
       "      <td>...</td>\n",
       "      <td>1.000000</td>\n",
       "      <td>1.000000</td>\n",
       "      <td>1.000000</td>\n",
       "      <td>1.000000</td>\n",
       "      <td>1.000000</td>\n",
       "      <td>1.000000</td>\n",
       "      <td>1.000000</td>\n",
       "      <td>1.000000</td>\n",
       "      <td>NaN</td>\n",
       "      <td>NaN</td>\n",
       "    </tr>\n",
       "  </tbody>\n",
       "</table>\n",
       "<p>11 rows × 1581 columns</p>\n",
       "</div>"
      ],
      "text/plain": [
       "                 survey  schoolnum      nrweight         responseid      age  \\\n",
       "count             52618    52618.0  53760.000000              53760  52618.0   \n",
       "unique                3       55.0           NaN              53760     85.0   \n",
       "top     HMS Winter 2017       49.0           NaN  R_CayJ2kVp6Mr9PBD     21.0   \n",
       "freq              34795     4705.0           NaN                  1   7473.0   \n",
       "mean                NaN        NaN      1.028820                NaN      NaN   \n",
       "std                 NaN        NaN      0.944637                NaN      NaN   \n",
       "min                 NaN        NaN      0.080000                NaN      NaN   \n",
       "25%                 NaN        NaN      0.480000                NaN      NaN   \n",
       "50%                 NaN        NaN      0.820000                NaN      NaN   \n",
       "75%                 NaN        NaN      1.270000                NaN      NaN   \n",
       "max                 NaN        NaN     23.350000                NaN      NaN   \n",
       "\n",
       "       sex_birth gender gender_text sexual sexual_text     ...       \\\n",
       "count      52548  52536         314  52345        1691     ...        \n",
       "unique         6     12         208     12         438     ...        \n",
       "top            1      2     Agender      1   Pansexual     ...        \n",
       "freq       18123  20099          20  39932         324     ...        \n",
       "mean         NaN    NaN         NaN    NaN         NaN     ...        \n",
       "std          NaN    NaN         NaN    NaN         NaN     ...        \n",
       "min          NaN    NaN         NaN    NaN         NaN     ...        \n",
       "25%          NaN    NaN         NaN    NaN         NaN     ...        \n",
       "50%          NaN    NaN         NaN    NaN         NaN     ...        \n",
       "75%          NaN    NaN         NaN    NaN         NaN     ...        \n",
       "max          NaN    NaN         NaN    NaN         NaN     ...        \n",
       "\n",
       "            talk2pro      talk2adv      talk2ofa       talk2ta      talk2sta  \\\n",
       "count   53760.000000  53760.000000  53760.000000  53760.000000  53760.000000   \n",
       "unique           NaN           NaN           NaN           NaN           NaN   \n",
       "top              NaN           NaN           NaN           NaN           NaN   \n",
       "freq             NaN           NaN           NaN           NaN           NaN   \n",
       "mean        0.302269      0.280004      0.060789      0.020182      0.117839   \n",
       "std         0.459246      0.449005      0.238945      0.140625      0.322420   \n",
       "min         0.000000      0.000000      0.000000      0.000000      0.000000   \n",
       "25%         0.000000      0.000000      0.000000      0.000000      0.000000   \n",
       "50%         0.000000      0.000000      0.000000      0.000000      0.000000   \n",
       "75%         1.000000      1.000000      0.000000      0.000000      0.000000   \n",
       "max         1.000000      1.000000      1.000000      1.000000      1.000000   \n",
       "\n",
       "            talk2dea      talk2oth      talk2noo viol_victim ret_confid_y  \n",
       "count   53760.000000  53760.000000  53760.000000       47828        50826  \n",
       "unique           NaN           NaN           NaN           2            2  \n",
       "top              NaN           NaN           NaN           0            1  \n",
       "freq             NaN           NaN           NaN       44951        42367  \n",
       "mean        0.040513      0.315644      0.058557         NaN          NaN  \n",
       "std         0.197162      0.464776      0.234795         NaN          NaN  \n",
       "min         0.000000      0.000000      0.000000         NaN          NaN  \n",
       "25%         0.000000      0.000000      0.000000         NaN          NaN  \n",
       "50%         0.000000      0.000000      0.000000         NaN          NaN  \n",
       "75%         0.000000      1.000000      0.000000         NaN          NaN  \n",
       "max         1.000000      1.000000      1.000000         NaN          NaN  \n",
       "\n",
       "[11 rows x 1581 columns]"
      ]
     },
     "execution_count": 9,
     "metadata": {},
     "output_type": "execute_result"
    }
   ],
   "source": [
    "HMS.describe(include = 'all') # investigated dtype issues"
   ]
  },
  {
   "cell_type": "markdown",
   "metadata": {},
   "source": [
    "## Check for errors"
   ]
  },
  {
   "cell_type": "markdown",
   "metadata": {},
   "source": [
    "### 1) duplicate rows"
   ]
  },
  {
   "cell_type": "code",
   "execution_count": 10,
   "metadata": {},
   "outputs": [
    {
     "name": "stdout",
     "output_type": "stream",
     "text": [
      "no duplicate rows!\n"
     ]
    }
   ],
   "source": [
    "print('no duplicate rows!') if not any(HMS.duplicated()) else 'duplicates present!'"
   ]
  },
  {
   "cell_type": "markdown",
   "metadata": {},
   "source": [
    "### 2) bad data (outliers)"
   ]
  },
  {
   "cell_type": "code",
   "execution_count": 11,
   "metadata": {
    "collapsed": true
   },
   "outputs": [],
   "source": [
    "# check via simple barplot visualizations across fixed variables like school_num, survey, age, sex, etc."
   ]
  },
  {
   "cell_type": "code",
   "execution_count": null,
   "metadata": {
    "collapsed": true
   },
   "outputs": [],
   "source": []
  },
  {
   "cell_type": "markdown",
   "metadata": {},
   "source": [
    "## Clean data"
   ]
  },
  {
   "cell_type": "markdown",
   "metadata": {},
   "source": [
    "### 1) Address missing values"
   ]
  },
  {
   "cell_type": "code",
   "execution_count": 12,
   "metadata": {
    "collapsed": true
   },
   "outputs": [],
   "source": [
    "# remove students who didn't complete survey\n",
    "HMS = HMS[pd.notnull(HMS['survey'])]"
   ]
  },
  {
   "cell_type": "markdown",
   "metadata": {},
   "source": [
    "### 2) Extract required columns"
   ]
  },
  {
   "cell_type": "code",
   "execution_count": 13,
   "metadata": {
    "collapsed": true
   },
   "outputs": [],
   "source": [
    "# separate out standard survey modules\n",
    "HMS_ids = HMS.loc[:, 'schoolnum':'responseid']\n",
    "HMS_demo = HMS.loc[:, 'age':'disab_3']\n",
    "HMS_mhstatus = HMS.loc[:, 'diener1':'sleep_np2']\n",
    "HMS_mhhelp = HMS.loc[:, 'dx_dep1':'pay_mh']"
   ]
  },
  {
   "cell_type": "code",
   "execution_count": 1,
   "metadata": {},
   "outputs": [
    {
     "ename": "NameError",
     "evalue": "name 'HMS_mhstatus' is not defined",
     "output_type": "error",
     "traceback": [
      "\u001b[0;31m---------------------------------------------------------------------------\u001b[0m",
      "\u001b[0;31mNameError\u001b[0m                                 Traceback (most recent call last)",
      "\u001b[0;32m<ipython-input-1-19f289f30d0e>\u001b[0m in \u001b[0;36m<module>\u001b[0;34m()\u001b[0m\n\u001b[0;32m----> 1\u001b[0;31m \u001b[0mHMS_mhstatus\u001b[0m\u001b[0;34m\u001b[0m\u001b[0m\n\u001b[0m",
      "\u001b[0;31mNameError\u001b[0m: name 'HMS_mhstatus' is not defined"
     ]
    }
   ],
   "source": [
    "HMS_mhstatus.head()"
   ]
  },
  {
   "cell_type": "markdown",
   "metadata": {},
   "source": [
    "### 3) Convert datatypes"
   ]
  },
  {
   "cell_type": "markdown",
   "metadata": {},
   "source": [
    "#### either A) manually convert them all now, or B) wait until you really need to... B seems like the right choice"
   ]
  },
  {
   "cell_type": "code",
   "execution_count": 189,
   "metadata": {
    "collapsed": true
   },
   "outputs": [],
   "source": [
    "# attempt to convert all cols into numeric values\n",
    "# FIX: must manually remove columns with text first\n",
    "\n",
    "#for col in HMS_mhstatus.columns:\n",
    "#    HMS_mhstatus[col] = pd.to_numeric(HMS_mhstatus[col])"
   ]
  },
  {
   "cell_type": "markdown",
   "metadata": {},
   "source": [
    "### 4) Tidy variable groups"
   ]
  },
  {
   "cell_type": "code",
   "execution_count": 50,
   "metadata": {
    "collapsed": true
   },
   "outputs": [],
   "source": [
    "def tidyCatVarGroup(varGroup, categoryName, uniqueID, numMetrics):\n",
    "    \n",
    "    # 1) convert categorical variables into dummy/indicator variables\n",
    "    dummies = pd.get_dummies(varGroup)\n",
    "    dummies.columns = varGroup.columns\n",
    "    \n",
    "    # 2) add unique ID + numerical metrics\n",
    "    dummies.insert(0, uniqueID.name, uniqueID)\n",
    "    data = dummies.join(numMetrics.apply(pd.to_numeric))\n",
    "    \n",
    "    # 3) melt data from wide to tall\n",
    "    melted_data = pd.melt(data, id_vars = list(numMetrics.columns.insert(0, uniqueID.name)), var_name = categoryName)\n",
    "    \n",
    "    # 4) Filter out all the 0 values (aka: this person doesn't identity with this race) and drop column\n",
    "    tidy_data = melted_data.loc[melted_data.loc[:,'value'] == 1]\n",
    "    tidy_data = tidy_data.drop('value', axis = 1)\n",
    "    \n",
    "    return tidy_data"
   ]
  },
  {
   "cell_type": "code",
   "execution_count": 53,
   "metadata": {
    "collapsed": true
   },
   "outputs": [],
   "source": [
    "# gather uniqueIDs and key-performance-indicators (KPIs)\n",
    "HMS_IDs = HMS_ids['responseid']\n",
    "HMS_KPIs = pd.concat([HMS_mhstatus['flourish'], HMS_mhstatus['deprawsc'], HMS_mhstatus['anx_score']], axis=1)"
   ]
  },
  {
   "cell_type": "code",
   "execution_count": 57,
   "metadata": {
    "collapsed": true
   },
   "outputs": [],
   "source": [
    "# gather main variable groups\n",
    "HMS_race = HMS.loc[:, 'race_black':'race_other']\n",
    "HMS_religion = HMS.loc[:, 'relig_aff_ag':'relig_aff_no']\n",
    "HMS_degreeType = HMS.loc[:, 'degree_ass':'degree_nd']\n",
    "HMS_fieldOfStudy = HMS.loc[:, 'field_hum':'field_other']\n",
    "HMS_activity = HMS.loc[:, 'activ_ac':'activ_none']\n",
    "HMS_disability = HMS.loc[:, 'disab_1_1':'disab_1_9']"
   ]
  },
  {
   "cell_type": "code",
   "execution_count": 58,
   "metadata": {
    "collapsed": true
   },
   "outputs": [],
   "source": [
    "# tidy variable groups\n",
    "tidy_race = tidyCatVarGroup(HMS_race, 'race', HMS_IDs, HMS_KPIs)\n",
    "tidy_religion = tidyCatVarGroup(HMS_religion, 'religion', HMS_IDs, HMS_KPIs)\n",
    "tidy_degreeType = tidyCatVarGroup(HMS_degreeType, 'degreeType', HMS_IDs, HMS_KPIs)\n",
    "tidy_fieldOfStudy = tidyCatVarGroup(HMS_fieldOfStudy, 'fieldOfStudy', HMS_IDs, HMS_KPIs)\n",
    "tidy_activity = tidyCatVarGroup(HMS_activity, 'activity', HMS_IDs, HMS_KPIs)\n",
    "tidy_disability = tidyCatVarGroup(HMS_disability, 'disability', HMS_IDs, HMS_KPIs)"
   ]
  },
  {
   "cell_type": "code",
   "execution_count": 60,
   "metadata": {},
   "outputs": [
    {
     "data": {
      "text/html": [
       "<div>\n",
       "<style>\n",
       "    .dataframe thead tr:only-child th {\n",
       "        text-align: right;\n",
       "    }\n",
       "\n",
       "    .dataframe thead th {\n",
       "        text-align: left;\n",
       "    }\n",
       "\n",
       "    .dataframe tbody tr th {\n",
       "        vertical-align: top;\n",
       "    }\n",
       "</style>\n",
       "<table border=\"1\" class=\"dataframe\">\n",
       "  <thead>\n",
       "    <tr style=\"text-align: right;\">\n",
       "      <th></th>\n",
       "      <th>responseid</th>\n",
       "      <th>flourish</th>\n",
       "      <th>deprawsc</th>\n",
       "      <th>anx_score</th>\n",
       "      <th>activity</th>\n",
       "    </tr>\n",
       "  </thead>\n",
       "  <tbody>\n",
       "    <tr>\n",
       "      <th>1</th>\n",
       "      <td>R_31yEX4Xz6bZzgUr</td>\n",
       "      <td>40.0</td>\n",
       "      <td>NaN</td>\n",
       "      <td>NaN</td>\n",
       "      <td>activ_ac</td>\n",
       "    </tr>\n",
       "    <tr>\n",
       "      <th>12</th>\n",
       "      <td>R_2tbCRbV3H8zRoy0</td>\n",
       "      <td>46.0</td>\n",
       "      <td>NaN</td>\n",
       "      <td>NaN</td>\n",
       "      <td>activ_ac</td>\n",
       "    </tr>\n",
       "    <tr>\n",
       "      <th>14</th>\n",
       "      <td>R_w7BW2IVlnRHXcI1</td>\n",
       "      <td>53.0</td>\n",
       "      <td>NaN</td>\n",
       "      <td>NaN</td>\n",
       "      <td>activ_ac</td>\n",
       "    </tr>\n",
       "    <tr>\n",
       "      <th>17</th>\n",
       "      <td>R_2CIZ2OyHCiIhFUf</td>\n",
       "      <td>48.0</td>\n",
       "      <td>NaN</td>\n",
       "      <td>NaN</td>\n",
       "      <td>activ_ac</td>\n",
       "    </tr>\n",
       "    <tr>\n",
       "      <th>23</th>\n",
       "      <td>R_aVPuYwPez3JrQ8V</td>\n",
       "      <td>56.0</td>\n",
       "      <td>NaN</td>\n",
       "      <td>NaN</td>\n",
       "      <td>activ_ac</td>\n",
       "    </tr>\n",
       "  </tbody>\n",
       "</table>\n",
       "</div>"
      ],
      "text/plain": [
       "           responseid  flourish  deprawsc  anx_score  activity\n",
       "1   R_31yEX4Xz6bZzgUr      40.0       NaN        NaN  activ_ac\n",
       "12  R_2tbCRbV3H8zRoy0      46.0       NaN        NaN  activ_ac\n",
       "14  R_w7BW2IVlnRHXcI1      53.0       NaN        NaN  activ_ac\n",
       "17  R_2CIZ2OyHCiIhFUf      48.0       NaN        NaN  activ_ac\n",
       "23  R_aVPuYwPez3JrQ8V      56.0       NaN        NaN  activ_ac"
      ]
     },
     "execution_count": 60,
     "metadata": {},
     "output_type": "execute_result"
    }
   ],
   "source": [
    "tidy_activity.head()"
   ]
  },
  {
   "cell_type": "code",
   "execution_count": null,
   "metadata": {
    "collapsed": true
   },
   "outputs": [],
   "source": []
  }
 ],
 "metadata": {
  "kernelspec": {
   "display_name": "Python [Root]",
   "language": "python",
   "name": "Python [Root]"
  },
  "language_info": {
   "codemirror_mode": {
    "name": "ipython",
    "version": 2
   },
   "file_extension": ".py",
   "mimetype": "text/x-python",
   "name": "python",
   "nbconvert_exporter": "python",
   "pygments_lexer": "ipython2",
   "version": "2.7.13"
  }
 },
 "nbformat": 4,
 "nbformat_minor": 2
}
